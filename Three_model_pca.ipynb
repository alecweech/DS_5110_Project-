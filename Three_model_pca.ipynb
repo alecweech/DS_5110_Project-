{
 "cells": [
  {
   "cell_type": "code",
   "execution_count": 1,
   "metadata": {},
   "outputs": [],
   "source": [
    "from pyspark.sql import SparkSession\n",
    "\n",
    "spark = SparkSession \\\n",
    "    .builder\\\n",
    "    .config(\"spark.executor.memory\", '16g') \\\n",
    "    .config('spark.executor.cores', '2') \\\n",
    "    .config('spark.cores.max', '8') \\\n",
    "    .config(\"spark.driver.memory\",'16g') \\\n",
    "    .config(\"spark.driver.maxResultSize\", '2g') \\\n",
    "    .getOrCreate()\n",
    "\n",
    "sc = spark.sparkContext\n"
   ]
  },
  {
   "cell_type": "code",
   "execution_count": 2,
   "metadata": {},
   "outputs": [
    {
     "name": "stdout",
     "output_type": "stream",
     "text": [
      "+------------+-----------+------------+---+---------+----+------+---------------+--------------------+--------------------+--------------------+\n",
      "|          ID|  lesion_id|    image_id| dx|  dx_type| age|   sex|   localization|            mnet_vec|             r50_vec|            xcep_vec|\n",
      "+------------+-----------+------------+---+---------+----+------+---------------+--------------------+--------------------+--------------------+\n",
      "|ISIC_0024306|HAM_0000550|ISIC_0024306| nv|follow_up|45.0|  male|          trunk|[0.0,0.0,0.0,0.0,...|[0.24354705214500...|[0.0,0.0,0.0,0.0,...|\n",
      "|ISIC_0024387|HAM_0004156|ISIC_0024387| nv|    histo|65.0|female|lower extremity|[0.0,1.3627424240...|[0.0,0.0,0.0,0.0,...|[0.0,0.0,0.0,0.0,...|\n",
      "|ISIC_0024397|HAM_0001501|ISIC_0024397| nv|follow_up|65.0|  male|          trunk|[0.0,0.0,0.0,0.0,...|[1.18369388580322...|[0.0,0.0,0.0,0.0,...|\n",
      "|ISIC_0024551|HAM_0002629|ISIC_0024551| nv|follow_up|50.0|  male|        abdomen|[0.0,0.0,0.0,0.0,...|[0.01115676853805...|[0.0,0.0,0.0,0.0,...|\n",
      "|ISIC_0024700|HAM_0001726|ISIC_0024700|mel|    histo|35.0|female|          trunk|[0.0,2.0978577136...|[0.0,0.0,0.0,0.0,...|[0.0,0.0,0.0,0.0,...|\n",
      "+------------+-----------+------------+---+---------+----+------+---------------+--------------------+--------------------+--------------------+\n",
      "only showing top 5 rows\n",
      "\n"
     ]
    }
   ],
   "source": [
    "import os\n",
    "os.chdir(\"/project/ds5559/BioNerds\")\n",
    "\n",
    "clean_df = spark.read.load(\"/project/ds5559/BioNerds/clean_features.parquet2\")\n",
    "clean_df.show(5)"
   ]
  },
  {
   "cell_type": "code",
   "execution_count": 13,
   "metadata": {},
   "outputs": [],
   "source": [
    "from pyspark.ml.feature import VectorAssembler, StandardScaler\n",
    "from pyspark.ml.feature import PCA\n",
    "import numpy as np\n",
    "VA = VectorAssembler(inputCols=[\"mnet_vec\", \"xcep_vec\"], outputCol=\"all_features\")"
   ]
  },
  {
   "cell_type": "code",
   "execution_count": 4,
   "metadata": {},
   "outputs": [],
   "source": [
    "small_feature = VA.transform(clean_df)"
   ]
  },
  {
   "cell_type": "code",
   "execution_count": 5,
   "metadata": {},
   "outputs": [
    {
     "name": "stdout",
     "output_type": "stream",
     "text": [
      "+------------+-----------+------------+---+---------+----+------+---------------+--------------------+--------------------+--------------------+--------------------+\n",
      "|          ID|  lesion_id|    image_id| dx|  dx_type| age|   sex|   localization|            mnet_vec|             r50_vec|            xcep_vec|        all_features|\n",
      "+------------+-----------+------------+---+---------+----+------+---------------+--------------------+--------------------+--------------------+--------------------+\n",
      "|ISIC_0024306|HAM_0000550|ISIC_0024306| nv|follow_up|45.0|  male|          trunk|[0.0,0.0,0.0,0.0,...|[0.24354705214500...|[0.0,0.0,0.0,0.0,...|(512,[6,20,22,50,...|\n",
      "|ISIC_0024387|HAM_0004156|ISIC_0024387| nv|    histo|65.0|female|lower extremity|[0.0,1.3627424240...|[0.0,0.0,0.0,0.0,...|[0.0,0.0,0.0,0.0,...|(512,[1,6,22,50,6...|\n",
      "|ISIC_0024397|HAM_0001501|ISIC_0024397| nv|follow_up|65.0|  male|          trunk|[0.0,0.0,0.0,0.0,...|[1.18369388580322...|[0.0,0.0,0.0,0.0,...|(512,[6,20,22,50,...|\n",
      "|ISIC_0024551|HAM_0002629|ISIC_0024551| nv|follow_up|50.0|  male|        abdomen|[0.0,0.0,0.0,0.0,...|[0.01115676853805...|[0.0,0.0,0.0,0.0,...|(512,[6,20,22,50,...|\n",
      "|ISIC_0024700|HAM_0001726|ISIC_0024700|mel|    histo|35.0|female|          trunk|[0.0,2.0978577136...|[0.0,0.0,0.0,0.0,...|[0.0,0.0,0.0,0.0,...|(512,[1,6,22,42,5...|\n",
      "+------------+-----------+------------+---+---------+----+------+---------------+--------------------+--------------------+--------------------+--------------------+\n",
      "only showing top 5 rows\n",
      "\n"
     ]
    }
   ],
   "source": [
    "small_feature.show(5)"
   ]
  },
  {
   "cell_type": "code",
   "execution_count": 6,
   "metadata": {},
   "outputs": [],
   "source": [
    "SS = StandardScaler(inputCol = \"all_features\", outputCol = \"SS_features\", withStd = True, withMean = True)\n",
    "SS = SS.fit(small_feature)\n",
    "trans_feature = SS.transform(small_feature)\n"
   ]
  },
  {
   "cell_type": "code",
   "execution_count": 7,
   "metadata": {},
   "outputs": [
    {
     "name": "stdout",
     "output_type": "stream",
     "text": [
      "+------------+-----------+------------+---+---------+----+------+---------------+--------------------+--------------------+--------------------+--------------------+--------------------+\n",
      "|          ID|  lesion_id|    image_id| dx|  dx_type| age|   sex|   localization|            mnet_vec|             r50_vec|            xcep_vec|        all_features|         SS_features|\n",
      "+------------+-----------+------------+---+---------+----+------+---------------+--------------------+--------------------+--------------------+--------------------+--------------------+\n",
      "|ISIC_0024306|HAM_0000550|ISIC_0024306| nv|follow_up|45.0|  male|          trunk|[0.0,0.0,0.0,0.0,...|[0.24354705214500...|[0.0,0.0,0.0,0.0,...|(512,[6,20,22,50,...|[0.0,-0.946979346...|\n",
      "|ISIC_0024387|HAM_0004156|ISIC_0024387| nv|    histo|65.0|female|lower extremity|[0.0,1.3627424240...|[0.0,0.0,0.0,0.0,...|[0.0,0.0,0.0,0.0,...|(512,[1,6,22,50,6...|[0.0,-0.055280824...|\n",
      "|ISIC_0024397|HAM_0001501|ISIC_0024397| nv|follow_up|65.0|  male|          trunk|[0.0,0.0,0.0,0.0,...|[1.18369388580322...|[0.0,0.0,0.0,0.0,...|(512,[6,20,22,50,...|[0.0,-0.946979346...|\n",
      "|ISIC_0024551|HAM_0002629|ISIC_0024551| nv|follow_up|50.0|  male|        abdomen|[0.0,0.0,0.0,0.0,...|[0.01115676853805...|[0.0,0.0,0.0,0.0,...|(512,[6,20,22,50,...|[0.0,-0.946979346...|\n",
      "|ISIC_0024700|HAM_0001726|ISIC_0024700|mel|    histo|35.0|female|          trunk|[0.0,2.0978577136...|[0.0,0.0,0.0,0.0,...|[0.0,0.0,0.0,0.0,...|(512,[1,6,22,42,5...|[0.0,0.4257354015...|\n",
      "+------------+-----------+------------+---+---------+----+------+---------------+--------------------+--------------------+--------------------+--------------------+--------------------+\n",
      "only showing top 5 rows\n",
      "\n"
     ]
    }
   ],
   "source": [
    "trans_feature.show(5)\n"
   ]
  },
  {
   "cell_type": "code",
   "execution_count": 25,
   "metadata": {},
   "outputs": [
    {
     "data": {
      "text/plain": [
       "DataFrame[xcep_vec: vector, dx: string]"
      ]
     },
     "execution_count": 25,
     "metadata": {},
     "output_type": "execute_result"
    }
   ],
   "source": [
    "temp_table = trans_feature.select('xcep_vec','dx')\n",
    "temp_table.cache()"
   ]
  },
  {
   "cell_type": "code",
   "execution_count": 26,
   "metadata": {},
   "outputs": [],
   "source": [
    "SS = StandardScaler(inputCol = \"xcep_vec\", outputCol = \"SS_xcep\", withStd = True, withMean = True)\n",
    "SS = SS.fit(small_feature)\n",
    "temp_table = SS.transform(temp_table)\n"
   ]
  },
  {
   "cell_type": "code",
   "execution_count": 27,
   "metadata": {},
   "outputs": [],
   "source": [
    "pca = PCA(k=2,inputCol=\"SS_xcep\", outputCol=\"pca_xcep\")"
   ]
  },
  {
   "cell_type": "code",
   "execution_count": 28,
   "metadata": {},
   "outputs": [
    {
     "name": "stdout",
     "output_type": "stream",
     "text": [
      "CPU times: user 6.45 ms, sys: 4.27 ms, total: 10.7 ms\n",
      "Wall time: 2.32 s\n"
     ]
    }
   ],
   "source": [
    "%%time \n",
    "model = pca.fit(temp_table)\n",
    "temp_table = model.transform(temp_table)"
   ]
  },
  {
   "cell_type": "code",
   "execution_count": 29,
   "metadata": {},
   "outputs": [
    {
     "data": {
      "text/plain": [
       "array([26.5336, 20.0454])"
      ]
     },
     "execution_count": 29,
     "metadata": {},
     "output_type": "execute_result"
    }
   ],
   "source": [
    "np.round(100.00*model.explainedVariance.toArray(),4)"
   ]
  },
  {
   "cell_type": "code",
   "execution_count": 30,
   "metadata": {},
   "outputs": [
    {
     "name": "stdout",
     "output_type": "stream",
     "text": [
      "+--------------------+---+--------------------+--------------------+\n",
      "|            xcep_vec| dx|             SS_xcep|            pca_xcep|\n",
      "+--------------------+---+--------------------+--------------------+\n",
      "|[0.0,0.0,0.0,0.0,...| nv|[0.0,-0.072243050...|[1.12802226382271...|\n",
      "|[0.0,0.0,0.0,0.0,...| nv|[0.0,-0.072243050...|[-4.1368614358147...|\n",
      "|[0.0,0.0,0.0,0.0,...| nv|[0.0,-0.072243050...|[-0.2136785870765...|\n",
      "|[0.0,0.0,0.0,0.0,...| nv|[0.0,-0.072243050...|[5.75581990939208...|\n",
      "|[0.0,0.0,0.0,0.0,...|mel|[0.0,-0.072243050...|[-0.1564180883516...|\n",
      "+--------------------+---+--------------------+--------------------+\n",
      "only showing top 5 rows\n",
      "\n"
     ]
    }
   ],
   "source": [
    "temp_table.show(5)"
   ]
  },
  {
   "cell_type": "code",
   "execution_count": 31,
   "metadata": {},
   "outputs": [],
   "source": [
    "import pyspark.sql.functions as F\n",
    "from pyspark.sql.types import FloatType\n",
    "\n",
    "\n",
    "firstelement=F.udf(lambda v:float(v[0]),FloatType())\n",
    "secondelement=F.udf(lambda v:float(v[1]),FloatType())\n"
   ]
  },
  {
   "cell_type": "code",
   "execution_count": 32,
   "metadata": {},
   "outputs": [
    {
     "name": "stdout",
     "output_type": "stream",
     "text": [
      "+--------------------+---+--------------------+--------------------+-----------+-----------+\n",
      "|            xcep_vec| dx|             SS_xcep|            pca_xcep|         P1|         P2|\n",
      "+--------------------+---+--------------------+--------------------+-----------+-----------+\n",
      "|[0.0,0.0,0.0,0.0,...| nv|[0.0,-0.072243050...|[1.12802226382271...|  1.1280223|  2.6993928|\n",
      "|[0.0,0.0,0.0,0.0,...| nv|[0.0,-0.072243050...|[-4.1368614358147...| -4.1368613| -3.6448934|\n",
      "|[0.0,0.0,0.0,0.0,...| nv|[0.0,-0.072243050...|[-0.2136785870765...|-0.21367858|-0.57080823|\n",
      "|[0.0,0.0,0.0,0.0,...| nv|[0.0,-0.072243050...|[5.75581990939208...|    5.75582|   3.315424|\n",
      "|[0.0,0.0,0.0,0.0,...|mel|[0.0,-0.072243050...|[-0.1564180883516...|-0.15641809|   8.771501|\n",
      "+--------------------+---+--------------------+--------------------+-----------+-----------+\n",
      "only showing top 5 rows\n",
      "\n"
     ]
    }
   ],
   "source": [
    "temp_table = temp_table.withColumn(\"P1\",firstelement(\"pca_xcep\"))\n",
    "temp_table = temp_table.withColumn(\"P2\",secondelement(\"pca_xcep\"))\n",
    "temp_table.show(5)"
   ]
  },
  {
   "cell_type": "code",
   "execution_count": 33,
   "metadata": {},
   "outputs": [],
   "source": [
    "tableA =  temp_table.toPandas()"
   ]
  },
  {
   "cell_type": "code",
   "execution_count": 35,
   "metadata": {},
   "outputs": [
    {
     "data": {
      "text/plain": [
       "<seaborn.axisgrid.FacetGrid at 0x7f454119e1d0>"
      ]
     },
     "execution_count": 35,
     "metadata": {},
     "output_type": "execute_result"
    },
    {
     "data": {
      "image/png": "[encoded data removed]",
      "text/plain": [
       "<Figure size 416.61x216 with 1 Axes>"
      ]
     },
     "metadata": {
      "needs_background": "light"
     },
     "output_type": "display_data"
    }
   ],
   "source": [
    "from  matplotlib import pyplot\n",
    "import seaborn as sns\n",
    "sns.set(style='ticks')\n",
    "%matplotlib inline\n",
    "\n",
    "\n",
    "fg = sns.FacetGrid(data=tableA, hue='dx', aspect=1.61)\n",
    "fg.map(pyplot.scatter, 'P1', 'P2').add_legend()\n",
    "fg.set(title = \"Model XCEP\")"
   ]
  },
  {
   "cell_type": "code",
   "execution_count": 36,
   "metadata": {},
   "outputs": [],
   "source": [
    "temp_table = trans_feature.select('mnet_vec','dx')\n",
    "temp_table.cache()\n",
    "SS = StandardScaler(inputCol = \"mnet_vec\", outputCol = \"SS_mnet\", withStd = True, withMean = True)\n",
    "SS = SS.fit(small_feature)\n",
    "temp_table = SS.transform(temp_table)"
   ]
  },
  {
   "cell_type": "code",
   "execution_count": 37,
   "metadata": {},
   "outputs": [],
   "source": [
    "pca = PCA(k=2,inputCol=\"SS_mnet\", outputCol=\"pca_mnet\")\n",
    "model = pca.fit(temp_table)\n",
    "temp_table = model.transform(temp_table)"
   ]
  },
  {
   "cell_type": "code",
   "execution_count": 38,
   "metadata": {},
   "outputs": [
    {
     "name": "stdout",
     "output_type": "stream",
     "text": [
      "+--------------------+---+--------------------+--------------------+----------+-----------+\n",
      "|            mnet_vec| dx|             SS_mnet|            pca_mnet|        P1|         P2|\n",
      "+--------------------+---+--------------------+--------------------+----------+-----------+\n",
      "|[0.0,0.0,0.0,0.0,...| nv|[0.0,-0.946979346...|[2.34198328796517...| 2.3419833|-0.53216153|\n",
      "|[0.0,1.3627424240...| nv|[0.0,-0.055280824...|[-2.4838799884825...|  -2.48388|  -1.974106|\n",
      "|[0.0,0.0,0.0,0.0,...| nv|[0.0,-0.946979346...|[6.23858286909946...|  6.238583|  1.4790857|\n",
      "|[0.0,0.0,0.0,0.0,...| nv|[0.0,-0.946979346...|[3.50683487461766...|  3.506835|-0.39793918|\n",
      "|[0.0,2.0978577136...|mel|[0.0,0.4257354015...|[-2.9202636772138...|-2.9202638| -0.7284618|\n",
      "+--------------------+---+--------------------+--------------------+----------+-----------+\n",
      "only showing top 5 rows\n",
      "\n"
     ]
    }
   ],
   "source": [
    "firstelement=F.udf(lambda v:float(v[0]),FloatType())\n",
    "secondelement=F.udf(lambda v:float(v[1]),FloatType())\n",
    "temp_table = temp_table.withColumn(\"P1\",firstelement(\"pca_mnet\"))\n",
    "temp_table = temp_table.withColumn(\"P2\",secondelement(\"pca_mnet\"))\n",
    "temp_table.show(5)"
   ]
  },
  {
   "cell_type": "code",
   "execution_count": 39,
   "metadata": {},
   "outputs": [
    {
     "data": {
      "text/plain": [
       "<seaborn.axisgrid.FacetGrid at 0x7f4540650510>"
      ]
     },
     "execution_count": 39,
     "metadata": {},
     "output_type": "execute_result"
    },
    {
     "data": {
      "image/png": "[encoded data removed]",
      "text/plain": [
       "<Figure size 416.61x216 with 1 Axes>"
      ]
     },
     "metadata": {
      "needs_background": "light"
     },
     "output_type": "display_data"
    }
   ],
   "source": [
    "tableA =  temp_table.toPandas()\n",
    "fg = sns.FacetGrid(data=tableA, hue='dx', aspect=1.61)\n",
    "fg.map(pyplot.scatter, 'P1', 'P2').add_legend()\n",
    "fg.set(title = \"Model MNet\")"
   ]
  },
  {
   "cell_type": "code",
   "execution_count": 40,
   "metadata": {},
   "outputs": [],
   "source": [
    "temp_table = trans_feature.select('r50_vec','dx')\n",
    "temp_table.cache()\n",
    "SS = StandardScaler(inputCol = \"r50_vec\", outputCol = \"SS_r50\", withStd = True, withMean = True)\n",
    "SS = SS.fit(small_feature)\n",
    "temp_table = SS.transform(temp_table)"
   ]
  },
  {
   "cell_type": "code",
   "execution_count": 41,
   "metadata": {},
   "outputs": [],
   "source": [
    "pca = PCA(k=2,inputCol=\"SS_r50\", outputCol=\"pca_r50\")\n",
    "model = pca.fit(temp_table)\n",
    "temp_table = model.transform(temp_table)"
   ]
  },
  {
   "cell_type": "code",
   "execution_count": 42,
   "metadata": {},
   "outputs": [
    {
     "name": "stdout",
     "output_type": "stream",
     "text": [
      "+--------------------+---+--------------------+--------------------+-----------+----------+\n",
      "|             r50_vec| dx|              SS_r50|             pca_r50|         P1|        P2|\n",
      "+--------------------+---+--------------------+--------------------+-----------+----------+\n",
      "|[0.24354705214500...| nv|[-0.0150539054586...|[-9.6294016712040...|  -9.629401|  5.488492|\n",
      "|[0.0,0.0,0.0,0.0,...| nv|[-0.5136019958432...|[-0.8526972564024...|-0.85269725| -7.495711|\n",
      "|[1.18369388580322...| nv|[1.90945474481378...|[-8.8973434062292...|  -8.897344| 11.865739|\n",
      "|[0.01115676853805...| nv|[-0.4907637573980...|[-8.8110161989271...|  -8.811016|  1.166412|\n",
      "|[0.0,0.0,0.0,0.0,...|mel|[-0.5136019958432...|[12.6229300755389...|  12.622931|-11.177798|\n",
      "+--------------------+---+--------------------+--------------------+-----------+----------+\n",
      "only showing top 5 rows\n",
      "\n"
     ]
    }
   ],
   "source": [
    "firstelement=F.udf(lambda v:float(v[0]),FloatType())\n",
    "secondelement=F.udf(lambda v:float(v[1]),FloatType())\n",
    "temp_table = temp_table.withColumn(\"P1\",firstelement(\"pca_r50\"))\n",
    "temp_table = temp_table.withColumn(\"P2\",secondelement(\"pca_r50\"))\n",
    "temp_table.show(5)"
   ]
  },
  {
   "cell_type": "code",
   "execution_count": 43,
   "metadata": {},
   "outputs": [
    {
     "data": {
      "text/plain": [
       "<seaborn.axisgrid.FacetGrid at 0x7f453d4faad0>"
      ]
     },
     "execution_count": 43,
     "metadata": {},
     "output_type": "execute_result"
    },
    {
     "data": {
      "image/png": "[encoded data removed]",
      "text/plain": [
       "<Figure size 416.61x216 with 1 Axes>"
      ]
     },
     "metadata": {
      "needs_background": "light"
     },
     "output_type": "display_data"
    }
   ],
   "source": [
    "tableA =  temp_table.toPandas()\n",
    "fg = sns.FacetGrid(data=tableA, hue='dx', aspect=1.61)\n",
    "fg.map(pyplot.scatter, 'P1', 'P2').add_legend()\n",
    "fg.set(title = \"Model ResNet50\")"
   ]
  },
  {
   "cell_type": "code",
   "execution_count": null,
   "metadata": {},
   "outputs": [],
   "source": []
  },
  {
   "cell_type": "code",
   "execution_count": null,
   "metadata": {},
   "outputs": [],
   "source": []
  },
  {
   "cell_type": "code",
   "execution_count": null,
   "metadata": {},
   "outputs": [],
   "source": []
  },
  {
   "cell_type": "code",
   "execution_count": null,
   "metadata": {},
   "outputs": [],
   "source": []
  },
  {
   "cell_type": "code",
   "execution_count": null,
   "metadata": {},
   "outputs": [],
   "source": []
  },
  {
   "cell_type": "code",
   "execution_count": null,
   "metadata": {},
   "outputs": [],
   "source": []
  }
 ],
 "metadata": {
  "kernelspec": {
   "display_name": "DS 5110",
   "language": "python",
   "name": "ds5110"
  },
  "language_info": {
   "codemirror_mode": {
    "name": "ipython",
    "version": 3
   },
   "file_extension": ".py",
   "mimetype": "text/x-python",
   "name": "python",
   "nbconvert_exporter": "python",
   "pygments_lexer": "ipython3",
   "version": "3.7.10"
  }
 },
 "nbformat": 4,
 "nbformat_minor": 4
}
