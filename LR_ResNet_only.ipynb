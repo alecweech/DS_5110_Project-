{
 "cells": [
  {
   "cell_type": "code",
   "execution_count": 1,
   "metadata": {},
   "outputs": [],
   "source": [
    "from pyspark.sql import SparkSession\n",
    "\n",
    "spark = SparkSession \\\n",
    "    .builder\\\n",
    "    .config(\"spark.executor.memory\", '32g') \\\n",
    "    .config('spark.executor.cores', '2') \\\n",
    "    .config('spark.cores.max', '8') \\\n",
    "    .config(\"spark.driver.memory\",'32g') \\\n",
    "    .config(\"spark.sql.broadcastTimeout\", \"1000\") \\\n",
    "    .config(\"spark.driver.maxResultSize\", '10g') \\\n",
    "    .getOrCreate()\n",
    "\n",
    "sc = spark.sparkContext"
   ]
  },
  {
   "cell_type": "code",
   "execution_count": 2,
   "metadata": {},
   "outputs": [],
   "source": [
    "from pyspark.ml import Pipeline\n",
    "from pyspark.ml.classification import DecisionTreeClassifier\n",
    "from pyspark.ml.feature import StringIndexer, VectorIndexer\n",
    "from pyspark.ml.evaluation import MulticlassClassificationEvaluator\n",
    "from pyspark.ml.classification import LogisticRegression\n",
    "from pyspark.ml.linalg import Vectors, VectorUDT\n",
    "from pyspark.ml.feature import VectorAssembler\n",
    "import pandas as pd\n",
    "from PIL import Image\n",
    "import numpy as np\n",
    "import io\n",
    "import tensorflow as tf\n",
    "from tensorflow.keras.applications.resnet50 import ResNet50, preprocess_input\n",
    "from tensorflow.keras.preprocessing.image import img_to_array\n",
    "from pyspark.sql.functions import col, pandas_udf, PandasUDFType\n",
    "import os\n",
    "import pyspark.sql.functions as F\n",
    "from pyspark.mllib.linalg import Vectors\n",
    "\n",
    "\n",
    "%matplotlib inline"
   ]
  },
  {
   "cell_type": "code",
   "execution_count": 3,
   "metadata": {},
   "outputs": [],
   "source": [
    "from pyspark.sql.functions import udf\n",
    "from pyspark.sql.types import StructType, StructField, IntegerType, FloatType, StringType\n",
    "import re"
   ]
  },
  {
   "cell_type": "code",
   "execution_count": 4,
   "metadata": {},
   "outputs": [],
   "source": [
    "data_dir = \"/project/ds5559/BioNerds/ham\"\n",
    "os.chdir('/project/ds5559/BioNerds/ham')\n",
    "ResNet50_Folder = \"/project/ds5559/BioNerds/saved_data/ResNet50_testing/\"\n",
    "model_path = \"Final_model\"\n",
    "model_dir = os.path.join(ResNet50_Folder,model_path)"
   ]
  },
  {
   "cell_type": "markdown",
   "metadata": {},
   "source": [
    "# load pre-processed table"
   ]
  },
  {
   "cell_type": "code",
   "execution_count": 5,
   "metadata": {},
   "outputs": [],
   "source": [
    "clean_df = spark.read.load(\"/project/ds5559/BioNerds/saved_data/clean_indexed.parquet\").drop(\"path\",\"features\",\"features_2\",\"ID\")"
   ]
  },
  {
   "cell_type": "code",
   "execution_count": 6,
   "metadata": {},
   "outputs": [
    {
     "name": "stdout",
     "output_type": "stream",
     "text": [
      "+-----------+------------+---+---------+----+------+---------------+----------+-----------+-----------+------------+\n",
      "|  lesion_id|    image_id| dx|  dx_type| age|   sex|   localization|indexed_dx|indexed_sex|indexed_loc|indexed_type|\n",
      "+-----------+------------+---+---------+----+------+---------------+----------+-----------+-----------+------------+\n",
      "|HAM_0006003|ISIC_0032827|bkl|consensus|85.0|female|lower extremity|       2.0|        1.0|        1.0|         2.0|\n",
      "|HAM_0000772|ISIC_0032994| nv|    histo|20.0|female|           face|       0.0|        1.0|        5.0|         0.0|\n",
      "|HAM_0002021|ISIC_0029466|bcc|    histo|65.0|female|upper extremity|       3.0|        1.0|        3.0|         0.0|\n",
      "|HAM_0007502|ISIC_0030754|mel|    histo|50.0|female|lower extremity|       1.0|        1.0|        1.0|         0.0|\n",
      "|HAM_0000966|ISIC_0030168| nv|follow_up|45.0|female|          trunk|       0.0|        1.0|        2.0|         1.0|\n",
      "+-----------+------------+---+---------+----+------+---------------+----------+-----------+-----------+------------+\n",
      "only showing top 5 rows\n",
      "\n"
     ]
    }
   ],
   "source": [
    "clean_df.show(5)"
   ]
  },
  {
   "cell_type": "markdown",
   "metadata": {},
   "source": [
    "# Load images and transfer them with newly trained Tensorflow model"
   ]
  },
  {
   "cell_type": "code",
   "execution_count": 7,
   "metadata": {},
   "outputs": [],
   "source": [
    "images1 = spark.read.format(\"binaryFile\") \\\n",
    "  .option(\"pathGlobFilter\", \"*.jpg\") \\\n",
    "  .option(\"recursiveFileLookup\", \"true\") \\\n",
    "  .load(\"/project/ds5559/BioNerds/ham/HAM10000_images_part_1\")"
   ]
  },
  {
   "cell_type": "code",
   "execution_count": 8,
   "metadata": {},
   "outputs": [],
   "source": [
    "images2 = spark.read.format(\"binaryFile\") \\\n",
    "  .option(\"pathGlobFilter\", \"*.jpg\") \\\n",
    "  .option(\"recursiveFileLookup\", \"true\") \\\n",
    "  .load(\"/project/ds5559/BioNerds/ham/HAM10000_images_part_2\")"
   ]
  },
  {
   "cell_type": "code",
   "execution_count": 9,
   "metadata": {},
   "outputs": [
    {
     "name": "stdout",
     "output_type": "stream",
     "text": [
      "+--------------------+-------------------+------+--------------------+\n",
      "|                path|   modificationTime|length|             content|\n",
      "+--------------------+-------------------+------+--------------------+\n",
      "|file:/project/ds5...|2019-10-06 20:55:50|459172|[FF D8 FF DB 00 4...|\n",
      "|file:/project/ds5...|2019-10-06 20:56:18|447988|[FF D8 FF DB 00 4...|\n",
      "+--------------------+-------------------+------+--------------------+\n",
      "only showing top 2 rows\n",
      "\n"
     ]
    }
   ],
   "source": [
    "images1.show(2)"
   ]
  },
  {
   "cell_type": "markdown",
   "metadata": {},
   "source": [
    "# Image--> Vector transfer Functions"
   ]
  },
  {
   "cell_type": "code",
   "execution_count": 10,
   "metadata": {},
   "outputs": [],
   "source": [
    "def model_fn():\n",
    "  \"\"\"\n",
    "  Returns a New Transfer Learnning model with top layer removed and broadcasted pretrained weights.\n",
    "  \"\"\"\n",
    "  model = tf.keras.models.load_model(model_dir)\n",
    "  new_model = tf.keras.models.Sequential(model.layers[:-1])\n",
    "  return new_model\n",
    "\n",
    "\n"
   ]
  },
  {
   "cell_type": "code",
   "execution_count": 11,
   "metadata": {},
   "outputs": [],
   "source": [
    "def preprocess(content):\n",
    "  \"\"\"\n",
    "  Preprocesses raw image bytes for prediction.\n",
    "  \"\"\"\n",
    "  img = Image.open(io.BytesIO(content)).resize([224, 224])\n",
    "  arr = img_to_array(img)\n",
    "  return preprocess_input(arr)\n",
    "\n",
    "def featurize_series(model, content_series):\n",
    "  \"\"\"\n",
    "  Featurize a pd.Series of raw images using the input model.\n",
    "  :return: a pd.Series of image features\n",
    "  \"\"\"\n",
    "  input = np.stack(content_series.map(preprocess))\n",
    "  preds = model.predict(input)\n",
    "  # For some layers, output features will be multi-dimensional tensors.\n",
    "  # We flatten the feature tensors to vectors for easier storage in Spark DataFrames.\n",
    "  output = [p.flatten() for p in preds]\n",
    "  return pd.Series(output)\n"
   ]
  },
  {
   "cell_type": "code",
   "execution_count": 12,
   "metadata": {},
   "outputs": [
    {
     "name": "stderr",
     "output_type": "stream",
     "text": [
      "/usr/local/spark/python/pyspark/sql/pandas/functions.py:386: UserWarning: In Python 3.6+ and Spark 3.0+, it is preferred to specify type hints for pandas UDF instead of specifying pandas UDF type which will be deprecated in the future releases. See SPARK-28264 for more details.\n",
      "  \"in the future releases. See SPARK-28264 for more details.\", UserWarning)\n"
     ]
    }
   ],
   "source": [
    "@pandas_udf('array<float>', PandasUDFType.SCALAR_ITER)\n",
    "def featurize_udf(content_series_iter):\n",
    "  '''\n",
    "  This method is a Scalar Iterator pandas UDF wrapping our featurization function.\n",
    "  The decorator specifies that this returns a Spark DataFrame column of type ArrayType(FloatType).\n",
    "  \n",
    "  :param content_series_iter: This argument is an iterator over batches of data, where each batch\n",
    "                              is a pandas Series of image data.\n",
    "  '''\n",
    "  # With Scalar Iterator pandas UDFs, we can load the model once and then re-use it\n",
    "  # for multiple data batches.  This amortizes the overhead of loading big models.\n",
    "  model = model_fn()\n",
    "  for content_series in content_series_iter:\n",
    "    yield featurize_series(model, content_series)"
   ]
  },
  {
   "cell_type": "code",
   "execution_count": 13,
   "metadata": {},
   "outputs": [],
   "source": [
    "# Pandas UDFs on large records (e.g., very large images) can run into Out Of Memory (OOM) errors.\n",
    "# If you hit such errors in the cell below, try reducing the Arrow batch size via `maxRecordsPerBatch`.\n",
    "spark.conf.set(\"spark.sql.execution.arrow.maxRecordsPerBatch\", \"1024\")\n",
    "# We can now run featurization on our entire Spark DataFrame.\n",
    "# NOTE: This can take a long time (about 10 minutes) since it applies a large model to the full dataset.\n",
    "features_df1 = images1.repartition(16).select(col(\"path\"), featurize_udf(\"content\").alias(\"features\"))\n",
    "#features_df.write.mode(\"overwrite\").parquet(\"dbfs:/ml/tmp/flower_photos_features\")\n",
    "features_df2 = images2.repartition(16).select(col(\"path\"), featurize_udf(\"content\").alias(\"features\"))"
   ]
  },
  {
   "cell_type": "code",
   "execution_count": 14,
   "metadata": {},
   "outputs": [
    {
     "name": "stdout",
     "output_type": "stream",
     "text": [
      "number of pictures in folder 1: 5000\n",
      "number of pictures in folder 2: 5015\n"
     ]
    }
   ],
   "source": [
    "print(\"number of pictures in folder 1: {}\".format(features_df1.count()))\n",
    "print(\"number of pictures in folder 2: {}\".format(features_df2.count()))"
   ]
  },
  {
   "cell_type": "code",
   "execution_count": 15,
   "metadata": {},
   "outputs": [
    {
     "name": "stdout",
     "output_type": "stream",
     "text": [
      "['path', 'features']\n",
      "['path', 'features']\n"
     ]
    }
   ],
   "source": [
    "print(features_df1.columns)\n",
    "print(features_df2.columns)"
   ]
  },
  {
   "cell_type": "code",
   "execution_count": 16,
   "metadata": {},
   "outputs": [
    {
     "name": "stdout",
     "output_type": "stream",
     "text": [
      "number of pictures in combined dataframe: 10015\n"
     ]
    }
   ],
   "source": [
    "features_df = features_df1.union(features_df2)\n",
    "print(\"number of pictures in combined dataframe: {}\".format(features_df.count()))"
   ]
  },
  {
   "cell_type": "code",
   "execution_count": 17,
   "metadata": {},
   "outputs": [
    {
     "data": {
      "text/plain": [
       "DataFrame[path: string, features: array<float>]"
      ]
     },
     "execution_count": 17,
     "metadata": {},
     "output_type": "execute_result"
    }
   ],
   "source": [
    "features_df.cache()"
   ]
  },
  {
   "cell_type": "code",
   "execution_count": 18,
   "metadata": {},
   "outputs": [
    {
     "name": "stdout",
     "output_type": "stream",
     "text": [
      "+--------------------+--------------------+\n",
      "|                path|            features|\n",
      "+--------------------+--------------------+\n",
      "|file:/project/ds5...|[0.0, 0.0, 0.0, 0...|\n",
      "+--------------------+--------------------+\n",
      "only showing top 1 row\n",
      "\n"
     ]
    }
   ],
   "source": [
    "features_df.show(1)"
   ]
  },
  {
   "cell_type": "code",
   "execution_count": 19,
   "metadata": {},
   "outputs": [
    {
     "data": {
      "text/plain": [
       "2048"
      ]
     },
     "execution_count": 19,
     "metadata": {},
     "output_type": "execute_result"
    }
   ],
   "source": [
    "len(features_df.select(\"features\").first()[0])"
   ]
  },
  {
   "cell_type": "markdown",
   "metadata": {},
   "source": [
    "#### class_from_path(col('path')))"
   ]
  },
  {
   "cell_type": "code",
   "execution_count": 20,
   "metadata": {},
   "outputs": [
    {
     "name": "stdout",
     "output_type": "stream",
     "text": [
      "+--------------------+------------+\n",
      "|            features|          ID|\n",
      "+--------------------+------------+\n",
      "|[0.0, 0.0, 0.0, 0...|ISIC_0026343|\n",
      "|[0.0, 0.0, 0.2128...|ISIC_0027333|\n",
      "|[0.0, 0.0, 0.0, 0...|ISIC_0026964|\n",
      "|[0.0, 0.0, 0.0, 0...|ISIC_0028228|\n",
      "|[0.27657363, 0.0,...|ISIC_0029303|\n",
      "+--------------------+------------+\n",
      "only showing top 5 rows\n",
      "\n"
     ]
    }
   ],
   "source": [
    "pathToID = udf(lambda z: toClass(z), StringType())\n",
    "spark.udf.register(\"pathToID\", pathToID)\n",
    "def toClass(s):\n",
    "    p = re.compile(\"ISIC_[0-9]*\")\n",
    "    result = p.search(s)\n",
    "    return(result.group(0))\n",
    "\n",
    "features_df = features_df.withColumn('ID', pathToID('path')).drop(\"path\")\n",
    "features_df.show(5)"
   ]
  },
  {
   "cell_type": "code",
   "execution_count": null,
   "metadata": {},
   "outputs": [],
   "source": []
  },
  {
   "cell_type": "markdown",
   "metadata": {},
   "source": [
    "## joint new image features with indexed table"
   ]
  },
  {
   "cell_type": "code",
   "execution_count": 21,
   "metadata": {},
   "outputs": [],
   "source": [
    "clean_df_new = clean_df.join(F.broadcast(features_df), clean_df.image_id == features_df.ID, 'left_outer')"
   ]
  },
  {
   "cell_type": "code",
   "execution_count": 22,
   "metadata": {},
   "outputs": [
    {
     "name": "stdout",
     "output_type": "stream",
     "text": [
      "CPU times: user 49.8 ms, sys: 30.4 ms, total: 80.1 ms\n",
      "Wall time: 12min 41s\n"
     ]
    },
    {
     "data": {
      "text/plain": [
       "9948"
      ]
     },
     "execution_count": 22,
     "metadata": {},
     "output_type": "execute_result"
    }
   ],
   "source": [
    "%%time\n",
    "clean_df_new.select('ID').count()"
   ]
  },
  {
   "cell_type": "code",
   "execution_count": 23,
   "metadata": {},
   "outputs": [
    {
     "data": {
      "text/plain": [
       "DataFrame[lesion_id: string, image_id: string, dx: string, dx_type: string, age: double, sex: string, localization: string, indexed_dx: double, indexed_sex: double, indexed_loc: double, indexed_type: double, features: array<float>, ID: string]"
      ]
     },
     "execution_count": 23,
     "metadata": {},
     "output_type": "execute_result"
    }
   ],
   "source": [
    "clean_df_new.cache()"
   ]
  },
  {
   "cell_type": "code",
   "execution_count": 24,
   "metadata": {},
   "outputs": [],
   "source": [
    "from pyspark.ml.linalg import Vectors, VectorUDT\n",
    "to_vector = udf(lambda a: Vectors.dense(a), VectorUDT())\n",
    "\n",
    "clean_df = clean_df_new.select(\"*\", to_vector(\"features\").alias(\"features_2\"))"
   ]
  },
  {
   "cell_type": "code",
   "execution_count": 25,
   "metadata": {},
   "outputs": [
    {
     "name": "stdout",
     "output_type": "stream",
     "text": [
      "+-----------+------------+---+---------+----+------+---------------+----------+-----------+-----------+------------+--------------------+------------+--------------------+\n",
      "|  lesion_id|    image_id| dx|  dx_type| age|   sex|   localization|indexed_dx|indexed_sex|indexed_loc|indexed_type|            features|          ID|          features_2|\n",
      "+-----------+------------+---+---------+----+------+---------------+----------+-----------+-----------+------------+--------------------+------------+--------------------+\n",
      "|HAM_0006003|ISIC_0032827|bkl|consensus|85.0|female|lower extremity|       2.0|        1.0|        1.0|         2.0|[0.020838182, 0.0...|ISIC_0032827|[0.02083818241953...|\n",
      "|HAM_0000772|ISIC_0032994| nv|    histo|20.0|female|           face|       0.0|        1.0|        5.0|         0.0|[0.12681174, 0.0,...|ISIC_0032994|[0.12681174278259...|\n",
      "|HAM_0002021|ISIC_0029466|bcc|    histo|65.0|female|upper extremity|       3.0|        1.0|        3.0|         0.0|[0.0, 0.0, 0.0, 0...|ISIC_0029466|[0.0,0.0,0.0,0.0,...|\n",
      "|HAM_0007502|ISIC_0030754|mel|    histo|50.0|female|lower extremity|       1.0|        1.0|        1.0|         0.0|[0.21245582, 0.0,...|ISIC_0030754|[0.21245582401752...|\n",
      "|HAM_0000966|ISIC_0030168| nv|follow_up|45.0|female|          trunk|       0.0|        1.0|        2.0|         1.0|[0.13789444, 0.0,...|ISIC_0030168|[0.13789443671703...|\n",
      "+-----------+------------+---+---------+----+------+---------------+----------+-----------+-----------+------------+--------------------+------------+--------------------+\n",
      "only showing top 5 rows\n",
      "\n",
      "CPU times: user 5.67 ms, sys: 947 µs, total: 6.62 ms\n",
      "Wall time: 3.27 s\n"
     ]
    },
    {
     "data": {
      "text/plain": [
       "DataFrame[lesion_id: string, image_id: string, dx: string, dx_type: string, age: double, sex: string, localization: string, indexed_dx: double, indexed_sex: double, indexed_loc: double, indexed_type: double, features: array<float>, ID: string, features_2: vector]"
      ]
     },
     "execution_count": 25,
     "metadata": {},
     "output_type": "execute_result"
    }
   ],
   "source": [
    "%%time\n",
    "clean_df.show(5)\n",
    "clean_df.cache()"
   ]
  },
  {
   "cell_type": "markdown",
   "metadata": {},
   "source": [
    "#### assemble features "
   ]
  },
  {
   "cell_type": "code",
   "execution_count": 26,
   "metadata": {},
   "outputs": [
    {
     "data": {
      "text/plain": [
       "LogisticRegression_2594ead00f7f"
      ]
     },
     "execution_count": 26,
     "metadata": {},
     "output_type": "execute_result"
    }
   ],
   "source": [
    "from pyspark.ml.feature import OneHotEncoder\n",
    "\n",
    "\n",
    "#Define preprocessing pipeline\n",
    "\n",
    "#OneHot encode variables\n",
    "OH = OneHotEncoder(inputCols = ['indexed_sex', 'indexed_loc'], outputCols = ['OH_sex', 'OH_loc'])\n",
    "\n",
    "#Assemble Features vector\n",
    "vec_assemb = VectorAssembler(inputCols = ['age', 'OH_sex', 'OH_loc', 'features_2'], \\\n",
    "                             outputCol = 'Feature_vec', handleInvalid = 'skip')\n",
    "\n",
    "mlr = LogisticRegression(maxIter=20, regParam=0.3, elasticNetParam=0,  family=\"multinomial\", probabilityCol = 'probability')\n",
    "mlr.setFeaturesCol(\"Feature_vec\").setThreshold(0.5).setLabelCol(\"indexed_dx\")"
   ]
  },
  {
   "cell_type": "code",
   "execution_count": 27,
   "metadata": {},
   "outputs": [
    {
     "name": "stdout",
     "output_type": "stream",
     "text": [
      "CPU times: user 40 µs, sys: 336 µs, total: 376 µs\n",
      "Wall time: 258 µs\n"
     ]
    }
   ],
   "source": [
    "%%time\n",
    "#model_pipe = pipe.fit(clean_df)\n",
    "model_pipe = Pipeline(stages = [ OH, vec_assemb, mlr])"
   ]
  },
  {
   "cell_type": "markdown",
   "metadata": {},
   "source": [
    "#### save transformed TL model dataframe"
   ]
  },
  {
   "cell_type": "code",
   "execution_count": 28,
   "metadata": {},
   "outputs": [],
   "source": [
    "clean_df.write.mode(\"overwrite\").save(\"/project/ds5559/BioNerds/saved_data/ResNet50_indexed.parquet\")"
   ]
  },
  {
   "cell_type": "markdown",
   "metadata": {},
   "source": [
    "# split transformed_table to training set and test set by dx. \n",
    "# using stratified split by ratio 0.8:0.2"
   ]
  },
  {
   "cell_type": "code",
   "execution_count": 28,
   "metadata": {},
   "outputs": [
    {
     "name": "stdout",
     "output_type": "stream",
     "text": [
      "+-----+----------+-----+\n",
      "|   dx|indexed_dx|count|\n",
      "+-----+----------+-----+\n",
      "|  bcc|       3.0|  514|\n",
      "|  mel|       1.0| 1111|\n",
      "|   nv|       0.0| 6650|\n",
      "|  bkl|       2.0| 1089|\n",
      "|   df|       6.0|  115|\n",
      "| vasc|       5.0|  142|\n",
      "|akiec|       4.0|  327|\n",
      "+-----+----------+-----+\n",
      "\n"
     ]
    }
   ],
   "source": [
    "clean_df.select(\"dx\", \"indexed_dx\").groupby(\"dx\",\"indexed_dx\").count().show()"
   ]
  },
  {
   "cell_type": "code",
   "execution_count": 29,
   "metadata": {},
   "outputs": [
    {
     "data": {
      "text/plain": [
       "{'vasc': 0.8,\n",
       " 'nv': 0.8,\n",
       " 'mel': 0.8,\n",
       " 'bcc': 0.8,\n",
       " 'df': 0.8,\n",
       " 'bkl': 0.8,\n",
       " 'akiec': 0.8}"
      ]
     },
     "execution_count": 29,
     "metadata": {},
     "output_type": "execute_result"
    }
   ],
   "source": [
    "fractions = clean_df.select(\"dx\").distinct().withColumn(\"fraction\", F.lit(0.8)).rdd.collectAsMap()\n",
    "fractions"
   ]
  },
  {
   "cell_type": "code",
   "execution_count": 30,
   "metadata": {},
   "outputs": [],
   "source": [
    "training_set = clean_df.stat.sampleBy(\"dx\",fractions, seed=314)"
   ]
  },
  {
   "cell_type": "code",
   "execution_count": 31,
   "metadata": {},
   "outputs": [
    {
     "name": "stdout",
     "output_type": "stream",
     "text": [
      "+-----+----------+-----+\n",
      "|   dx|indexed_dx|count|\n",
      "+-----+----------+-----+\n",
      "|  bcc|       3.0|  411|\n",
      "|  mel|       1.0|  890|\n",
      "|   nv|       0.0| 5336|\n",
      "|  bkl|       2.0|  865|\n",
      "|   df|       6.0|   95|\n",
      "| vasc|       5.0|  111|\n",
      "|akiec|       4.0|  272|\n",
      "+-----+----------+-----+\n",
      "\n",
      "CPU times: user 11.3 ms, sys: 8.29 ms, total: 19.6 ms\n",
      "Wall time: 862 ms\n"
     ]
    },
    {
     "data": {
      "text/plain": [
       "DataFrame[lesion_id: string, image_id: string, dx: string, dx_type: string, age: double, sex: string, localization: string, indexed_dx: double, indexed_sex: double, indexed_loc: double, indexed_type: double, features: array<float>, ID: string, features_2: vector]"
      ]
     },
     "execution_count": 31,
     "metadata": {},
     "output_type": "execute_result"
    }
   ],
   "source": [
    "%%time\n",
    "training_set.select(\"dx\", \"indexed_dx\").groupby(\"dx\",\"indexed_dx\").count().show()\n",
    "training_set.cache()"
   ]
  },
  {
   "cell_type": "code",
   "execution_count": 32,
   "metadata": {},
   "outputs": [
    {
     "name": "stdout",
     "output_type": "stream",
     "text": [
      "CPU times: user 1.11 ms, sys: 1.09 ms, total: 2.2 ms\n",
      "Wall time: 235 ms\n"
     ]
    },
    {
     "data": {
      "text/plain": [
       "DataFrame[lesion_id: string, image_id: string, dx: string, dx_type: string, age: double, sex: string, localization: string, indexed_dx: double, indexed_sex: double, indexed_loc: double, indexed_type: double, features: array<float>, ID: string, features_2: vector]"
      ]
     },
     "execution_count": 32,
     "metadata": {},
     "output_type": "execute_result"
    }
   ],
   "source": [
    "%%time\n",
    "test_set = clean_df.subtract(training_set)\n",
    "test_set.cache()"
   ]
  },
  {
   "cell_type": "code",
   "execution_count": 33,
   "metadata": {},
   "outputs": [
    {
     "name": "stdout",
     "output_type": "stream",
     "text": [
      "+-----+----------+-----+\n",
      "|   dx|indexed_dx|count|\n",
      "+-----+----------+-----+\n",
      "|  bcc|       3.0|  103|\n",
      "|  mel|       1.0|  221|\n",
      "|   nv|       0.0| 1314|\n",
      "|  bkl|       2.0|  224|\n",
      "|   df|       6.0|   20|\n",
      "| vasc|       5.0|   31|\n",
      "|akiec|       4.0|   55|\n",
      "+-----+----------+-----+\n",
      "\n",
      "CPU times: user 47 ms, sys: 15.4 ms, total: 62.4 ms\n",
      "Wall time: 9.07 s\n"
     ]
    }
   ],
   "source": [
    "%%time\n",
    "test_set.select(\"dx\", \"indexed_dx\").groupby(\"dx\",\"indexed_dx\").count().show()"
   ]
  },
  {
   "cell_type": "code",
   "execution_count": 38,
   "metadata": {},
   "outputs": [
    {
     "name": "stdout",
     "output_type": "stream",
     "text": [
      "CPU times: user 39.9 ms, sys: 17.9 ms, total: 57.8 ms\n",
      "Wall time: 4.75 s\n"
     ]
    }
   ],
   "source": [
    "%%time\n",
    "model_mlr = model_pipe.fit(training_set)"
   ]
  },
  {
   "cell_type": "code",
   "execution_count": 39,
   "metadata": {},
   "outputs": [
    {
     "name": "stdout",
     "output_type": "stream",
     "text": [
      "CPU times: user 5.59 ms, sys: 5.71 ms, total: 11.3 ms\n",
      "Wall time: 128 ms\n"
     ]
    }
   ],
   "source": [
    "%%time\n",
    "predictions =model_mlr.transform(test_set)"
   ]
  },
  {
   "cell_type": "code",
   "execution_count": 40,
   "metadata": {},
   "outputs": [
    {
     "name": "stdout",
     "output_type": "stream",
     "text": [
      "CPU times: user 10.3 ms, sys: 3.63 ms, total: 13.9 ms\n",
      "Wall time: 669 ms\n"
     ]
    },
    {
     "data": {
      "text/plain": [
       "0.7988373178287209"
      ]
     },
     "execution_count": 40,
     "metadata": {},
     "output_type": "execute_result"
    }
   ],
   "source": [
    "%%time\n",
    "from pyspark.ml.evaluation import MulticlassClassificationEvaluator\n",
    "evaluator = MulticlassClassificationEvaluator(predictionCol=\"prediction\", labelCol=\"indexed_dx\")\n",
    "evaluator.evaluate(predictions)"
   ]
  },
  {
   "cell_type": "code",
   "execution_count": 41,
   "metadata": {},
   "outputs": [],
   "source": [
    "from pyspark.mllib.evaluation import MulticlassMetrics\n",
    "predictionAndLabels = predictions.select(\"prediction\",\"indexed_dx\")"
   ]
  },
  {
   "cell_type": "markdown",
   "metadata": {},
   "source": [
    "#### confusion matrix"
   ]
  },
  {
   "cell_type": "code",
   "execution_count": 42,
   "metadata": {},
   "outputs": [
    {
     "data": {
      "text/plain": [
       "array([[1.275e+03, 1.700e+01, 1.500e+01, 5.000e+00, 1.000e+00, 1.000e+00,\n",
       "        0.000e+00],\n",
       "       [1.040e+02, 8.800e+01, 1.800e+01, 3.000e+00, 8.000e+00, 0.000e+00,\n",
       "        0.000e+00],\n",
       "       [5.500e+01, 1.900e+01, 1.470e+02, 2.000e+00, 1.000e+00, 0.000e+00,\n",
       "        0.000e+00],\n",
       "       [1.900e+01, 4.000e+00, 9.000e+00, 6.600e+01, 3.000e+00, 2.000e+00,\n",
       "        0.000e+00],\n",
       "       [9.000e+00, 6.000e+00, 1.100e+01, 8.000e+00, 2.100e+01, 0.000e+00,\n",
       "        0.000e+00],\n",
       "       [1.500e+01, 1.000e+00, 2.000e+00, 1.000e+00, 0.000e+00, 1.100e+01,\n",
       "        1.000e+00],\n",
       "       [1.300e+01, 1.000e+00, 3.000e+00, 0.000e+00, 2.000e+00, 0.000e+00,\n",
       "        1.000e+00]])"
      ]
     },
     "execution_count": 42,
     "metadata": {},
     "output_type": "execute_result"
    }
   ],
   "source": [
    "metrics = MulticlassMetrics(predictionAndLabels.rdd)\n",
    "metrics.confusionMatrix().toArray()"
   ]
  },
  {
   "cell_type": "code",
   "execution_count": 43,
   "metadata": {},
   "outputs": [
    {
     "data": {
      "text/plain": [
       "<sklearn.metrics._plot.confusion_matrix.ConfusionMatrixDisplay at 0x7f1318627a50>"
      ]
     },
     "execution_count": 43,
     "metadata": {},
     "output_type": "execute_result"
    },
    {
     "data": {
      "image/png": "[encoded data removed]",
      "text/plain": [
       "<Figure size 432x288 with 2 Axes>"
      ]
     },
     "metadata": {
      "needs_background": "light"
     },
     "output_type": "display_data"
    }
   ],
   "source": [
    "from sklearn.metrics import confusion_matrix, ConfusionMatrixDisplay, classification_report, roc_auc_score\n",
    "ConfusionMatrixDisplay(metrics.confusionMatrix().toArray().astype(int)).plot()"
   ]
  },
  {
   "cell_type": "markdown",
   "metadata": {},
   "source": [
    "#### accuracy, precision, recall, fMeasure"
   ]
  },
  {
   "cell_type": "code",
   "execution_count": 44,
   "metadata": {},
   "outputs": [
    {
     "name": "stdout",
     "output_type": "stream",
     "text": [
      "accuracy: 0.8175813008130082\n",
      "precision: 0.8000189584232604\n",
      "recall: 0.8175813008130081\n",
      "fMeasure: 0.7988373178287209\n"
     ]
    }
   ],
   "source": [
    "print(\"accuracy: {}\".format(metrics.accuracy))\n",
    "print(\"precision: {}\".format(metrics.weightedPrecision))\n",
    "print(\"recall: {}\".format(metrics.weightedRecall))\n",
    "print(\"fMeasure: {}\".format(metrics.weightedFMeasure()))"
   ]
  },
  {
   "cell_type": "markdown",
   "metadata": {},
   "source": [
    "### Statistics by class"
   ]
  },
  {
   "cell_type": "code",
   "execution_count": 45,
   "metadata": {},
   "outputs": [
    {
     "data": {
      "text/html": [
       "<div>\n",
       "<style scoped>\n",
       "    .dataframe tbody tr th:only-of-type {\n",
       "        vertical-align: middle;\n",
       "    }\n",
       "\n",
       "    .dataframe tbody tr th {\n",
       "        vertical-align: top;\n",
       "    }\n",
       "\n",
       "    .dataframe thead th {\n",
       "        text-align: right;\n",
       "    }\n",
       "</style>\n",
       "<table border=\"1\" class=\"dataframe\">\n",
       "  <thead>\n",
       "    <tr style=\"text-align: right;\">\n",
       "      <th></th>\n",
       "      <th>class</th>\n",
       "      <th>f1</th>\n",
       "      <th>precision</th>\n",
       "      <th>recall</th>\n",
       "    </tr>\n",
       "  </thead>\n",
       "  <tbody>\n",
       "    <tr>\n",
       "      <th>0</th>\n",
       "      <td>0.0</td>\n",
       "      <td>0.909415</td>\n",
       "      <td>0.855705</td>\n",
       "      <td>0.970320</td>\n",
       "    </tr>\n",
       "    <tr>\n",
       "      <th>1</th>\n",
       "      <td>1.0</td>\n",
       "      <td>0.492997</td>\n",
       "      <td>0.647059</td>\n",
       "      <td>0.398190</td>\n",
       "    </tr>\n",
       "    <tr>\n",
       "      <th>2</th>\n",
       "      <td>2.0</td>\n",
       "      <td>0.685315</td>\n",
       "      <td>0.717073</td>\n",
       "      <td>0.656250</td>\n",
       "    </tr>\n",
       "    <tr>\n",
       "      <th>3</th>\n",
       "      <td>3.0</td>\n",
       "      <td>0.702128</td>\n",
       "      <td>0.776471</td>\n",
       "      <td>0.640777</td>\n",
       "    </tr>\n",
       "    <tr>\n",
       "      <th>4</th>\n",
       "      <td>4.0</td>\n",
       "      <td>0.461538</td>\n",
       "      <td>0.583333</td>\n",
       "      <td>0.381818</td>\n",
       "    </tr>\n",
       "    <tr>\n",
       "      <th>5</th>\n",
       "      <td>5.0</td>\n",
       "      <td>0.488889</td>\n",
       "      <td>0.785714</td>\n",
       "      <td>0.354839</td>\n",
       "    </tr>\n",
       "    <tr>\n",
       "      <th>6</th>\n",
       "      <td>6.0</td>\n",
       "      <td>0.090909</td>\n",
       "      <td>0.500000</td>\n",
       "      <td>0.050000</td>\n",
       "    </tr>\n",
       "  </tbody>\n",
       "</table>\n",
       "</div>"
      ],
      "text/plain": [
       "   class        f1  precision    recall\n",
       "0    0.0  0.909415   0.855705  0.970320\n",
       "1    1.0  0.492997   0.647059  0.398190\n",
       "2    2.0  0.685315   0.717073  0.656250\n",
       "3    3.0  0.702128   0.776471  0.640777\n",
       "4    4.0  0.461538   0.583333  0.381818\n",
       "5    5.0  0.488889   0.785714  0.354839\n",
       "6    6.0  0.090909   0.500000  0.050000"
      ]
     },
     "execution_count": 45,
     "metadata": {},
     "output_type": "execute_result"
    }
   ],
   "source": [
    "labels = predictionAndLabels.rdd.map(lambda lp: lp.indexed_dx).distinct().collect()\n",
    "df = pd.DataFrame()\n",
    "for label in sorted(labels):\n",
    "    df = df.append({\"class\": label, \n",
    "               \"precision\":metrics.precision(label),\n",
    "               \"recall\":metrics.recall(label),\n",
    "               \"f1\":metrics.fMeasure(label),\n",
    "              }, ignore_index=True)\n",
    "df"
   ]
  },
  {
   "cell_type": "code",
   "execution_count": null,
   "metadata": {},
   "outputs": [],
   "source": []
  },
  {
   "cell_type": "code",
   "execution_count": null,
   "metadata": {},
   "outputs": [],
   "source": []
  },
  {
   "cell_type": "markdown",
   "metadata": {},
   "source": [
    "# Cross validation"
   ]
  },
  {
   "cell_type": "code",
   "execution_count": 64,
   "metadata": {},
   "outputs": [],
   "source": [
    "### cross valication\n",
    "\n",
    "#%%time\n",
    "from pyspark.ml.tuning import ParamGridBuilder, CrossValidator\n",
    "# Create ParamGrid for Cross Validation\n",
    "paramGrid = (ParamGridBuilder()\n",
    "             .addGrid(mlr.regParam, [0, 0.1, 0.2, 0.3, 0.4, 0.5]) # regularization parameter\n",
    "             .addGrid(mlr.elasticNetParam, [0.0, 0.1, 0.2, 0.3, 0.4]) # Elastic Net Parameter (Ridge = 0)\n",
    "             .build())"
   ]
  },
  {
   "cell_type": "code",
   "execution_count": 65,
   "metadata": {},
   "outputs": [
    {
     "name": "stdout",
     "output_type": "stream",
     "text": [
      "CPU times: user 673 µs, sys: 0 ns, total: 673 µs\n",
      "Wall time: 650 µs\n"
     ]
    }
   ],
   "source": [
    "%%time\n",
    "# Create 5-fold CrossValidator\n",
    "cv = CrossValidator(estimator=model_pipe, \\\n",
    "                    estimatorParamMaps=paramGrid, \\\n",
    "                    evaluator=evaluator, \\\n",
    "                    numFolds=5, \\\n",
    "                    parallelism = 4,\n",
    "                    seed = 314)"
   ]
  },
  {
   "cell_type": "code",
   "execution_count": 66,
   "metadata": {},
   "outputs": [
    {
     "name": "stdout",
     "output_type": "stream",
     "text": [
      "CPU times: user 10.4 s, sys: 4.1 s, total: 14.5 s\n",
      "Wall time: 4min 10s\n"
     ]
    }
   ],
   "source": [
    "%%time\n",
    "cvModel = cv.fit(training_set)\n",
    "\n",
    "cv_predictions = cvModel.transform(test_set)"
   ]
  },
  {
   "cell_type": "code",
   "execution_count": 67,
   "metadata": {},
   "outputs": [
    {
     "name": "stdout",
     "output_type": "stream",
     "text": [
      "CPU times: user 8.57 ms, sys: 3.66 ms, total: 12.2 ms\n",
      "Wall time: 270 ms\n"
     ]
    },
    {
     "data": {
      "text/plain": [
       "0.8336773567560026"
      ]
     },
     "execution_count": 67,
     "metadata": {},
     "output_type": "execute_result"
    }
   ],
   "source": [
    "%%time\n",
    "# Evaluate best model\n",
    "evaluator = MulticlassClassificationEvaluator(predictionCol=\"prediction\", labelCol=\"indexed_dx\")\n",
    "evaluator.evaluate(cv_predictions)"
   ]
  },
  {
   "cell_type": "code",
   "execution_count": 68,
   "metadata": {},
   "outputs": [
    {
     "name": "stdout",
     "output_type": "stream",
     "text": [
      "Best Param (regParam):  0.0\n",
      "Best Param (MaxIter):  20\n",
      "Best Param (elasticNetParam):  0.0\n"
     ]
    }
   ],
   "source": [
    "bestModel = cvModel.bestModel\n",
    "print ('Best Param (regParam): ', bestModel.stages[2].getRegParam())\n",
    "print ('Best Param (MaxIter): ', bestModel.stages[2].getMaxIter())\n",
    "print ('Best Param (elasticNetParam): ', bestModel.stages[2].getElasticNetParam())\n"
   ]
  },
  {
   "cell_type": "code",
   "execution_count": null,
   "metadata": {},
   "outputs": [],
   "source": []
  },
  {
   "cell_type": "markdown",
   "metadata": {},
   "source": [
    "### confusion matrix"
   ]
  },
  {
   "cell_type": "code",
   "execution_count": 44,
   "metadata": {},
   "outputs": [
    {
     "data": {
      "text/plain": [
       "<sklearn.metrics._plot.confusion_matrix.ConfusionMatrixDisplay at 0x7f73c42bcc10>"
      ]
     },
     "execution_count": 44,
     "metadata": {},
     "output_type": "execute_result"
    },
    {
     "data": {
      "image/png": "[encoded data removed]",
      "text/plain": [
       "<Figure size 432x288 with 2 Axes>"
      ]
     },
     "metadata": {
      "needs_background": "light"
     },
     "output_type": "display_data"
    }
   ],
   "source": [
    "cv_predictionAndLabels = cv_predictions.select(\"prediction\",\"indexed_dx\")\n",
    "preds_and_probs = cv_predictions.select(['indexed_dx', 'probability', 'prediction'])\n",
    "cv_metrics = MulticlassMetrics(cv_predictionAndLabels.rdd)\n",
    "ConfusionMatrixDisplay(cv_metrics.confusionMatrix().toArray().astype(int)).plot()"
   ]
  },
  {
   "cell_type": "markdown",
   "metadata": {},
   "source": [
    "#### accuracy, precision, recall, fMeasure"
   ]
  },
  {
   "cell_type": "code",
   "execution_count": 42,
   "metadata": {},
   "outputs": [
    {
     "name": "stdout",
     "output_type": "stream",
     "text": [
      "accuracy: 0.836890243902439\n",
      "precision: 0.8316500641709982\n",
      "recall: 0.836890243902439\n",
      "fMeasure: 0.8336773567560026\n"
     ]
    }
   ],
   "source": [
    "print(\"accuracy: {}\".format(cv_metrics.accuracy))\n",
    "print(\"precision: {}\".format(cv_metrics.weightedPrecision))\n",
    "print(\"recall: {}\".format(cv_metrics.weightedRecall))\n",
    "print(\"fMeasure: {}\".format(cv_metrics.weightedFMeasure()))"
   ]
  },
  {
   "cell_type": "markdown",
   "metadata": {},
   "source": [
    "### Statistics by class"
   ]
  },
  {
   "cell_type": "code",
   "execution_count": 45,
   "metadata": {},
   "outputs": [
    {
     "data": {
      "text/html": [
       "<div>\n",
       "<style scoped>\n",
       "    .dataframe tbody tr th:only-of-type {\n",
       "        vertical-align: middle;\n",
       "    }\n",
       "\n",
       "    .dataframe tbody tr th {\n",
       "        vertical-align: top;\n",
       "    }\n",
       "\n",
       "    .dataframe thead th {\n",
       "        text-align: right;\n",
       "    }\n",
       "</style>\n",
       "<table border=\"1\" class=\"dataframe\">\n",
       "  <thead>\n",
       "    <tr style=\"text-align: right;\">\n",
       "      <th></th>\n",
       "      <th>class</th>\n",
       "      <th>f1</th>\n",
       "      <th>precision</th>\n",
       "      <th>recall</th>\n",
       "    </tr>\n",
       "  </thead>\n",
       "  <tbody>\n",
       "    <tr>\n",
       "      <th>0</th>\n",
       "      <td>0.0</td>\n",
       "      <td>0.923713</td>\n",
       "      <td>0.912398</td>\n",
       "      <td>0.935312</td>\n",
       "    </tr>\n",
       "    <tr>\n",
       "      <th>1</th>\n",
       "      <td>1.0</td>\n",
       "      <td>0.584541</td>\n",
       "      <td>0.626943</td>\n",
       "      <td>0.547511</td>\n",
       "    </tr>\n",
       "    <tr>\n",
       "      <th>2</th>\n",
       "      <td>2.0</td>\n",
       "      <td>0.699115</td>\n",
       "      <td>0.692982</td>\n",
       "      <td>0.705357</td>\n",
       "    </tr>\n",
       "    <tr>\n",
       "      <th>3</th>\n",
       "      <td>3.0</td>\n",
       "      <td>0.767773</td>\n",
       "      <td>0.750000</td>\n",
       "      <td>0.786408</td>\n",
       "    </tr>\n",
       "    <tr>\n",
       "      <th>4</th>\n",
       "      <td>4.0</td>\n",
       "      <td>0.557692</td>\n",
       "      <td>0.591837</td>\n",
       "      <td>0.527273</td>\n",
       "    </tr>\n",
       "    <tr>\n",
       "      <th>5</th>\n",
       "      <td>5.0</td>\n",
       "      <td>0.689655</td>\n",
       "      <td>0.740741</td>\n",
       "      <td>0.645161</td>\n",
       "    </tr>\n",
       "    <tr>\n",
       "      <th>6</th>\n",
       "      <td>6.0</td>\n",
       "      <td>0.500000</td>\n",
       "      <td>0.562500</td>\n",
       "      <td>0.450000</td>\n",
       "    </tr>\n",
       "  </tbody>\n",
       "</table>\n",
       "</div>"
      ],
      "text/plain": [
       "   class        f1  precision    recall\n",
       "0    0.0  0.923713   0.912398  0.935312\n",
       "1    1.0  0.584541   0.626943  0.547511\n",
       "2    2.0  0.699115   0.692982  0.705357\n",
       "3    3.0  0.767773   0.750000  0.786408\n",
       "4    4.0  0.557692   0.591837  0.527273\n",
       "5    5.0  0.689655   0.740741  0.645161\n",
       "6    6.0  0.500000   0.562500  0.450000"
      ]
     },
     "execution_count": 45,
     "metadata": {},
     "output_type": "execute_result"
    }
   ],
   "source": [
    "labels = cv_predictionAndLabels.rdd.map(lambda lp: lp.indexed_dx).distinct().collect()\n",
    "cv_df = pd.DataFrame()\n",
    "for label in sorted(labels):\n",
    "    cv_df = cv_df.append({\"class\": label, \n",
    "               \"precision\":cv_metrics.precision(label),\n",
    "               \"recall\":cv_metrics.recall(label),\n",
    "               \"f1\":cv_metrics.fMeasure(label),\n",
    "              }, ignore_index=True)\n",
    "cv_df"
   ]
  },
  {
   "cell_type": "markdown",
   "metadata": {},
   "source": [
    "### ROC"
   ]
  },
  {
   "cell_type": "code",
   "execution_count": 46,
   "metadata": {},
   "outputs": [
    {
     "data": {
      "image/png": "[encoded data removed]",
      "text/plain": [
       "<Figure size 432x288 with 1 Axes>"
      ]
     },
     "metadata": {
      "needs_background": "light"
     },
     "output_type": "display_data"
    }
   ],
   "source": [
    "from sklearn.metrics import roc_curve, auc\n",
    "from sklearn.preprocessing import label_binarize\n",
    "import matplotlib.pyplot as plt\n",
    "\n",
    "y_test = list(preds_and_probs.select('indexed_dx').toPandas()['indexed_dx'])\n",
    "y_score = np.array(list(preds_and_probs.select('probability').toPandas()['probability']))\n",
    "y_test = label_binarize(y_test, classes=[0,1,2,3,4,5,6])\n",
    "n_classes = y_test.shape[1]\n",
    "\n",
    "\n",
    "# Compute ROC curve and ROC area for each class\n",
    "fpr = dict()\n",
    "tpr = dict()\n",
    "roc_auc = dict()\n",
    "for i in range(n_classes):\n",
    "    fpr[i], tpr[i], _ = roc_curve(y_test[:, i], y_score[:, i])\n",
    "    roc_auc[i] = auc(fpr[i], tpr[i])\n",
    "\n",
    "# Compute micro-average ROC curve and ROC area\n",
    "fpr[\"micro\"], tpr[\"micro\"], _ = roc_curve(y_test.ravel(), y_score.ravel())\n",
    "roc_auc[\"micro\"] = auc(fpr[\"micro\"], tpr[\"micro\"])\n",
    "\n",
    "\n",
    "# Plot ROC curve\n",
    "plt.figure()\n",
    "plt.plot(fpr[\"micro\"], tpr[\"micro\"],\n",
    "         label='micro-average ROC curve (area = {0:0.2f})'\n",
    "               ''.format(roc_auc[\"micro\"]))\n",
    "for i in range(n_classes):\n",
    "    plt.plot(fpr[i], tpr[i], label='ROC curve of class {0} (area = {1:0.2f})'\n",
    "                                   ''.format(i, roc_auc[i]))\n",
    "\n",
    "plt.plot([0, 1], [0, 1], 'k--')\n",
    "plt.xlim([0.0, 1.0])\n",
    "plt.ylim([0.0, 1.05])\n",
    "plt.xlabel('False Positive Rate')\n",
    "plt.ylabel('True Positive Rate')\n",
    "plt.title('Some extension of Receiver operating characteristic to multi-class')\n",
    "plt.legend(loc=\"lower right\")\n",
    "plt.show()"
   ]
  },
  {
   "cell_type": "code",
   "execution_count": null,
   "metadata": {},
   "outputs": [],
   "source": []
  },
  {
   "cell_type": "code",
   "execution_count": null,
   "metadata": {},
   "outputs": [],
   "source": []
  },
  {
   "cell_type": "code",
   "execution_count": null,
   "metadata": {},
   "outputs": [],
   "source": []
  },
  {
   "cell_type": "code",
   "execution_count": null,
   "metadata": {},
   "outputs": [],
   "source": []
  },
  {
   "cell_type": "code",
   "execution_count": null,
   "metadata": {},
   "outputs": [],
   "source": []
  },
  {
   "cell_type": "code",
   "execution_count": null,
   "metadata": {},
   "outputs": [],
   "source": []
  },
  {
   "cell_type": "code",
   "execution_count": null,
   "metadata": {},
   "outputs": [],
   "source": []
  },
  {
   "cell_type": "code",
   "execution_count": null,
   "metadata": {},
   "outputs": [],
   "source": []
  },
  {
   "cell_type": "code",
   "execution_count": null,
   "metadata": {},
   "outputs": [],
   "source": []
  },
  {
   "cell_type": "code",
   "execution_count": null,
   "metadata": {},
   "outputs": [],
   "source": []
  }
 ],
 "metadata": {
  "kernelspec": {
   "display_name": "DS 5110",
   "language": "python",
   "name": "ds5110"
  },
  "language_info": {
   "codemirror_mode": {
    "name": "ipython",
    "version": 3
   },
   "file_extension": ".py",
   "mimetype": "text/x-python",
   "name": "python",
   "nbconvert_exporter": "python",
   "pygments_lexer": "ipython3",
   "version": "3.7.10"
  }
 },
 "nbformat": 4,
 "nbformat_minor": 4
}
