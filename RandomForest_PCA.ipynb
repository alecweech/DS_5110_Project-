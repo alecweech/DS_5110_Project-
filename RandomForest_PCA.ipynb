{
 "cells": [
  {
   "cell_type": "code",
   "execution_count": 1,
   "metadata": {},
   "outputs": [],
   "source": [
    "from pyspark.sql import SparkSession\n",
    "\n",
    "spark = SparkSession \\\n",
    "    .builder\\\n",
    "    .config(\"spark.executor.memory\", '32g') \\\n",
    "    .config('spark.executor.cores', '2') \\\n",
    "    .config('spark.cores.max', '8') \\\n",
    "    .config(\"spark.driver.memory\",'32g') \\\n",
    "    .config(\"spark.sql.broadcastTimeout\", \"1000\") \\\n",
    "    .config(\"spark.driver.maxResultSize\", '20g') \\\n",
    "    .getOrCreate()\n",
    "\n",
    "sc = spark.sparkContext"
   ]
  },
  {
   "cell_type": "code",
   "execution_count": 2,
   "metadata": {},
   "outputs": [],
   "source": [
    "from pyspark.ml import Pipeline\n",
    "from pyspark.ml.classification import DecisionTreeClassifier\n",
    "from pyspark.ml.feature import StringIndexer, VectorIndexer\n",
    "from pyspark.ml.evaluation import MulticlassClassificationEvaluator\n",
    "from pyspark.ml.classification import LogisticRegression\n",
    "from pyspark.ml.linalg import Vectors, VectorUDT\n",
    "from pyspark.ml.feature import VectorAssembler\n",
    "import pandas as pd\n",
    "from PIL import Image\n",
    "import numpy as np\n",
    "import io\n",
    "import tensorflow as tf\n",
    "from tensorflow.keras.applications.resnet50 import ResNet50, preprocess_input\n",
    "from tensorflow.keras.preprocessing.image import img_to_array\n",
    "from pyspark.sql.functions import col, pandas_udf, PandasUDFType\n",
    "import os\n",
    "import pyspark.sql.functions as F\n",
    "from pyspark.mllib.linalg import Vectors\n",
    "from pyspark.mllib.evaluation import MulticlassMetrics\n",
    "\n",
    "%matplotlib inline"
   ]
  },
  {
   "cell_type": "code",
   "execution_count": 3,
   "metadata": {},
   "outputs": [],
   "source": [
    "#Define preprocessing pipeline\n",
    "from pyspark.ml.classification import LogisticRegression\n",
    "from pyspark.ml.classification import RandomForestClassifier\n",
    "from pyspark.ml.tuning import CrossValidator, ParamGridBuilder\n",
    "from pyspark.ml.feature import IndexToString, StringIndexer, VectorIndexer\n",
    "from pyspark.ml import Pipeline\n",
    "from pyspark.ml.feature import StandardScaler"
   ]
  },
  {
   "cell_type": "markdown",
   "metadata": {},
   "source": [
    "# load pre-processed table"
   ]
  },
  {
   "cell_type": "code",
   "execution_count": 4,
   "metadata": {},
   "outputs": [],
   "source": [
    "clean_df = spark.read.load(\"/project/ds5559/BioNerds/saved_data/clean_indexed.parquet\")"
   ]
  },
  {
   "cell_type": "code",
   "execution_count": 5,
   "metadata": {},
   "outputs": [
    {
     "name": "stdout",
     "output_type": "stream",
     "text": [
      "+--------------------+--------------------+------------+-----------+------------+---+---------+----+------+---------------+--------------------+----------+-----------+-----------+------------+\n",
      "|                path|            features|          ID|  lesion_id|    image_id| dx|  dx_type| age|   sex|   localization|          features_2|indexed_dx|indexed_sex|indexed_loc|indexed_type|\n",
      "+--------------------+--------------------+------------+-----------+------------+---+---------+----+------+---------------+--------------------+----------+-----------+-----------+------------+\n",
      "|file:/project/ds5...|[0.69691277, 0.0,...|ISIC_0032827|HAM_0006003|ISIC_0032827|bkl|consensus|85.0|female|lower extremity|[0.69691276550292...|       2.0|        1.0|        1.0|         2.0|\n",
      "|file:/project/ds5...|[0.0, 0.0, 0.0, 0...|ISIC_0032994|HAM_0000772|ISIC_0032994| nv|    histo|20.0|female|           face|[0.0,0.0,0.0,0.0,...|       0.0|        1.0|        5.0|         0.0|\n",
      "|file:/project/ds5...|[0.0, 0.0, 0.0, 0...|ISIC_0029466|HAM_0002021|ISIC_0029466|bcc|    histo|65.0|female|upper extremity|[0.0,0.0,0.0,0.0,...|       3.0|        1.0|        3.0|         0.0|\n",
      "|file:/project/ds5...|[0.1439662, 0.0, ...|ISIC_0030754|HAM_0007502|ISIC_0030754|mel|    histo|50.0|female|lower extremity|[0.14396619796752...|       1.0|        1.0|        1.0|         0.0|\n",
      "|file:/project/ds5...|[0.0, 0.0, 0.0, 0...|ISIC_0030168|HAM_0000966|ISIC_0030168| nv|follow_up|45.0|female|          trunk|[0.0,0.0,0.0,0.0,...|       0.0|        1.0|        2.0|         1.0|\n",
      "+--------------------+--------------------+------------+-----------+------------+---+---------+----+------+---------------+--------------------+----------+-----------+-----------+------------+\n",
      "only showing top 5 rows\n",
      "\n"
     ]
    }
   ],
   "source": [
    "clean_df.show(5)"
   ]
  },
  {
   "cell_type": "markdown",
   "metadata": {},
   "source": [
    "# load PCA model"
   ]
  },
  {
   "cell_type": "code",
   "execution_count": 6,
   "metadata": {},
   "outputs": [],
   "source": [
    "pca_path = \"/project/ds5559/BioNerds/PCA/pcaModel_50\""
   ]
  },
  {
   "cell_type": "code",
   "execution_count": 7,
   "metadata": {},
   "outputs": [
    {
     "name": "stdout",
     "output_type": "stream",
     "text": [
      "CPU times: user 2.29 ms, sys: 3.3 ms, total: 5.59 ms\n",
      "Wall time: 1.76 s\n"
     ]
    }
   ],
   "source": [
    "%%time\n",
    "from pyspark.ml.feature import PCAModel\n",
    "pcaModel_50 = PCAModel.load(pca_path)"
   ]
  },
  {
   "cell_type": "code",
   "execution_count": 8,
   "metadata": {},
   "outputs": [
    {
     "name": "stdout",
     "output_type": "stream",
     "text": [
      "CPU times: user 3.4 ms, sys: 468 µs, total: 3.87 ms\n",
      "Wall time: 171 ms\n"
     ]
    }
   ],
   "source": [
    "%%time \n",
    "pca_table = pcaModel_50.transform(clean_df)"
   ]
  },
  {
   "cell_type": "code",
   "execution_count": 9,
   "metadata": {},
   "outputs": [
    {
     "name": "stdout",
     "output_type": "stream",
     "text": [
      "+--------------------+--------------------+------------+-----------+------------+---+---------+----+------+---------------+--------------------+----------+-----------+-----------+------------+--------------------+\n",
      "|                path|            features|          ID|  lesion_id|    image_id| dx|  dx_type| age|   sex|   localization|          features_2|indexed_dx|indexed_sex|indexed_loc|indexed_type|         pcaFeatures|\n",
      "+--------------------+--------------------+------------+-----------+------------+---+---------+----+------+---------------+--------------------+----------+-----------+-----------+------------+--------------------+\n",
      "|file:/project/ds5...|[0.69691277, 0.0,...|ISIC_0032827|HAM_0006003|ISIC_0032827|bkl|consensus|85.0|female|lower extremity|[0.69691276550292...|       2.0|        1.0|        1.0|         2.0|[71.8275654736491...|\n",
      "|file:/project/ds5...|[0.0, 0.0, 0.0, 0...|ISIC_0032994|HAM_0000772|ISIC_0032994| nv|    histo|20.0|female|           face|[0.0,0.0,0.0,0.0,...|       0.0|        1.0|        5.0|         0.0|[185.832271325104...|\n",
      "|file:/project/ds5...|[0.0, 0.0, 0.0, 0...|ISIC_0029466|HAM_0002021|ISIC_0029466|bcc|    histo|65.0|female|upper extremity|[0.0,0.0,0.0,0.0,...|       3.0|        1.0|        3.0|         0.0|[280.230169740428...|\n",
      "|file:/project/ds5...|[0.1439662, 0.0, ...|ISIC_0030754|HAM_0007502|ISIC_0030754|mel|    histo|50.0|female|lower extremity|[0.14396619796752...|       1.0|        1.0|        1.0|         0.0|[35.0473013578792...|\n",
      "|file:/project/ds5...|[0.0, 0.0, 0.0, 0...|ISIC_0030168|HAM_0000966|ISIC_0030168| nv|follow_up|45.0|female|          trunk|[0.0,0.0,0.0,0.0,...|       0.0|        1.0|        2.0|         1.0|[106.988531452236...|\n",
      "+--------------------+--------------------+------------+-----------+------------+---+---------+----+------+---------------+--------------------+----------+-----------+-----------+------------+--------------------+\n",
      "only showing top 5 rows\n",
      "\n"
     ]
    }
   ],
   "source": [
    "pca_table.show(5)"
   ]
  },
  {
   "cell_type": "code",
   "execution_count": null,
   "metadata": {},
   "outputs": [],
   "source": []
  },
  {
   "cell_type": "markdown",
   "metadata": {},
   "source": [
    "# assemble features. "
   ]
  },
  {
   "cell_type": "code",
   "execution_count": 10,
   "metadata": {},
   "outputs": [],
   "source": [
    "from pyspark.ml.feature import OneHotEncoder\n",
    "\n",
    "\n",
    "#Define preprocessing pipeline\n",
    "\n",
    "#OneHot encode variables\n",
    "OH = OneHotEncoder(inputCols = ['indexed_sex', 'indexed_loc'], outputCols = ['OH_sex', 'OH_loc'])\n",
    "\n",
    "#Assemble Features vector\n",
    "vec_assemb = VectorAssembler(inputCols = ['age', 'OH_sex', 'OH_loc', 'pcaFeatures'], \\\n",
    "                             outputCol = 'Feature_vec', handleInvalid = 'skip')\n",
    "\n",
    "rf = RandomForestClassifier(labelCol=\"indexed_dx\", featuresCol=\"Feature_vec\", numTrees=100, featureSubsetStrategy ='sqrt', probabilityCol = 'probability')\n",
    "\n"
   ]
  },
  {
   "cell_type": "code",
   "execution_count": 11,
   "metadata": {},
   "outputs": [
    {
     "name": "stdout",
     "output_type": "stream",
     "text": [
      "CPU times: user 161 µs, sys: 115 µs, total: 276 µs\n",
      "Wall time: 196 µs\n"
     ]
    }
   ],
   "source": [
    "%%time\n",
    "\n",
    "model_pipe = Pipeline(stages = [ OH, vec_assemb, rf])"
   ]
  },
  {
   "cell_type": "code",
   "execution_count": null,
   "metadata": {},
   "outputs": [],
   "source": []
  },
  {
   "cell_type": "markdown",
   "metadata": {},
   "source": [
    "# split transformed_table to training set and test set by dx. \n",
    "# using stratified split by ratio 0.8:0.2"
   ]
  },
  {
   "cell_type": "code",
   "execution_count": 12,
   "metadata": {},
   "outputs": [
    {
     "name": "stdout",
     "output_type": "stream",
     "text": [
      "+-----+----------+-----+\n",
      "|   dx|indexed_dx|count|\n",
      "+-----+----------+-----+\n",
      "|  bcc|       3.0|  514|\n",
      "|  mel|       1.0| 1111|\n",
      "|   nv|       0.0| 6650|\n",
      "|  bkl|       2.0| 1089|\n",
      "|   df|       6.0|  115|\n",
      "| vasc|       5.0|  142|\n",
      "|akiec|       4.0|  327|\n",
      "+-----+----------+-----+\n",
      "\n"
     ]
    }
   ],
   "source": [
    "pca_table.select(\"dx\", \"indexed_dx\").groupby(\"dx\",\"indexed_dx\").count().show()"
   ]
  },
  {
   "cell_type": "code",
   "execution_count": 13,
   "metadata": {},
   "outputs": [
    {
     "data": {
      "text/plain": [
       "{'vasc': 0.8,\n",
       " 'nv': 0.8,\n",
       " 'mel': 0.8,\n",
       " 'bcc': 0.8,\n",
       " 'df': 0.8,\n",
       " 'bkl': 0.8,\n",
       " 'akiec': 0.8}"
      ]
     },
     "execution_count": 13,
     "metadata": {},
     "output_type": "execute_result"
    }
   ],
   "source": [
    "fractions = pca_table.select(\"dx\").distinct().withColumn(\"fraction\", F.lit(0.8)).rdd.collectAsMap()\n",
    "fractions"
   ]
  },
  {
   "cell_type": "code",
   "execution_count": 14,
   "metadata": {},
   "outputs": [],
   "source": [
    "training_set = pca_table.stat.sampleBy(\"dx\",fractions, seed=314)"
   ]
  },
  {
   "cell_type": "code",
   "execution_count": 15,
   "metadata": {},
   "outputs": [
    {
     "name": "stdout",
     "output_type": "stream",
     "text": [
      "+-----+----------+-----+\n",
      "|   dx|indexed_dx|count|\n",
      "+-----+----------+-----+\n",
      "|  bcc|       3.0|  411|\n",
      "|  mel|       1.0|  890|\n",
      "|   nv|       0.0| 5336|\n",
      "|  bkl|       2.0|  865|\n",
      "|   df|       6.0|   95|\n",
      "| vasc|       5.0|  111|\n",
      "|akiec|       4.0|  272|\n",
      "+-----+----------+-----+\n",
      "\n",
      "CPU times: user 3.35 ms, sys: 1.94 ms, total: 5.29 ms\n",
      "Wall time: 904 ms\n"
     ]
    },
    {
     "data": {
      "text/plain": [
       "DataFrame[path: string, features: array<float>, ID: string, lesion_id: string, image_id: string, dx: string, dx_type: string, age: double, sex: string, localization: string, features_2: vector, indexed_dx: double, indexed_sex: double, indexed_loc: double, indexed_type: double, pcaFeatures: vector]"
      ]
     },
     "execution_count": 15,
     "metadata": {},
     "output_type": "execute_result"
    }
   ],
   "source": [
    "%%time\n",
    "training_set.select(\"dx\", \"indexed_dx\").groupby(\"dx\",\"indexed_dx\").count().show()\n",
    "training_set.cache()"
   ]
  },
  {
   "cell_type": "code",
   "execution_count": 16,
   "metadata": {},
   "outputs": [
    {
     "name": "stdout",
     "output_type": "stream",
     "text": [
      "CPU times: user 2.16 ms, sys: 376 µs, total: 2.53 ms\n",
      "Wall time: 207 ms\n"
     ]
    },
    {
     "data": {
      "text/plain": [
       "DataFrame[path: string, features: array<float>, ID: string, lesion_id: string, image_id: string, dx: string, dx_type: string, age: double, sex: string, localization: string, features_2: vector, indexed_dx: double, indexed_sex: double, indexed_loc: double, indexed_type: double, pcaFeatures: vector]"
      ]
     },
     "execution_count": 16,
     "metadata": {},
     "output_type": "execute_result"
    }
   ],
   "source": [
    "%%time\n",
    "test_set = pca_table.subtract(training_set)\n",
    "test_set.cache()"
   ]
  },
  {
   "cell_type": "code",
   "execution_count": 17,
   "metadata": {},
   "outputs": [
    {
     "name": "stdout",
     "output_type": "stream",
     "text": [
      "+-----+----------+-----+\n",
      "|   dx|indexed_dx|count|\n",
      "+-----+----------+-----+\n",
      "|  bcc|       3.0|  103|\n",
      "|  mel|       1.0|  221|\n",
      "|   nv|       0.0| 1314|\n",
      "|  bkl|       2.0|  224|\n",
      "|   df|       6.0|   20|\n",
      "| vasc|       5.0|   31|\n",
      "|akiec|       4.0|   55|\n",
      "+-----+----------+-----+\n",
      "\n",
      "CPU times: user 18.2 ms, sys: 11.2 ms, total: 29.4 ms\n",
      "Wall time: 2min 47s\n"
     ]
    }
   ],
   "source": [
    "%%time\n",
    "test_set.select(\"dx\", \"indexed_dx\").groupby(\"dx\",\"indexed_dx\").count().show()"
   ]
  },
  {
   "cell_type": "code",
   "execution_count": 18,
   "metadata": {},
   "outputs": [
    {
     "data": {
      "text/plain": [
       "DataFrame[path: string, features: array<float>, ID: string, lesion_id: string, image_id: string, dx: string, dx_type: string, age: double, sex: string, localization: string, features_2: vector, indexed_dx: double, indexed_sex: double, indexed_loc: double, indexed_type: double, pcaFeatures: vector]"
      ]
     },
     "execution_count": 18,
     "metadata": {},
     "output_type": "execute_result"
    }
   ],
   "source": [
    "test_set.cache()"
   ]
  },
  {
   "cell_type": "markdown",
   "metadata": {},
   "source": [
    "# Fit RandomForest Model"
   ]
  },
  {
   "cell_type": "markdown",
   "metadata": {},
   "source": [
    "### Model with age, sex, localization, age and PCA50"
   ]
  },
  {
   "cell_type": "code",
   "execution_count": 19,
   "metadata": {},
   "outputs": [
    {
     "name": "stdout",
     "output_type": "stream",
     "text": [
      "CPU times: user 20 ms, sys: 12.7 ms, total: 32.7 ms\n",
      "Wall time: 1min 39s\n"
     ]
    }
   ],
   "source": [
    "%%time\n",
    "\n",
    "model_rf = model_pipe.fit(training_set)"
   ]
  },
  {
   "cell_type": "code",
   "execution_count": 20,
   "metadata": {},
   "outputs": [
    {
     "name": "stdout",
     "output_type": "stream",
     "text": [
      "CPU times: user 8.25 ms, sys: 1.13 ms, total: 9.38 ms\n",
      "Wall time: 74.7 ms\n"
     ]
    }
   ],
   "source": [
    "%%time\n",
    "predictions =model_rf.transform(test_set)"
   ]
  },
  {
   "cell_type": "code",
   "execution_count": 21,
   "metadata": {},
   "outputs": [
    {
     "name": "stdout",
     "output_type": "stream",
     "text": [
      "CPU times: user 2.67 ms, sys: 1.51 ms, total: 4.18 ms\n",
      "Wall time: 1.83 s\n"
     ]
    },
    {
     "data": {
      "text/plain": [
       "0.5714652138801367"
      ]
     },
     "execution_count": 21,
     "metadata": {},
     "output_type": "execute_result"
    }
   ],
   "source": [
    "%%time\n",
    "from pyspark.ml.evaluation import MulticlassClassificationEvaluator\n",
    "evaluator = MulticlassClassificationEvaluator(predictionCol=\"prediction\", labelCol=\"indexed_dx\")\n",
    "evaluator.evaluate(predictions)"
   ]
  },
  {
   "cell_type": "code",
   "execution_count": 22,
   "metadata": {},
   "outputs": [],
   "source": [
    "from pyspark.mllib.evaluation import MulticlassMetrics\n",
    "predictionAndLabels = predictions.select(\"prediction\",\"indexed_dx\")"
   ]
  },
  {
   "cell_type": "code",
   "execution_count": 23,
   "metadata": {},
   "outputs": [
    {
     "data": {
      "text/plain": [
       "array([[1312.,    0.,    2.,    0.,    0.,    0.,    0.],\n",
       "       [ 211.,    0.,   10.,    0.,    0.,    0.,    0.],\n",
       "       [ 190.,    0.,   34.,    0.,    0.,    0.,    0.],\n",
       "       [  92.,    0.,   11.,    0.,    0.,    0.,    0.],\n",
       "       [  46.,    0.,    9.,    0.,    0.,    0.,    0.],\n",
       "       [  31.,    0.,    0.,    0.,    0.,    0.,    0.],\n",
       "       [  20.,    0.,    0.,    0.,    0.,    0.,    0.]])"
      ]
     },
     "execution_count": 23,
     "metadata": {},
     "output_type": "execute_result"
    }
   ],
   "source": [
    "metrics = MulticlassMetrics(predictionAndLabels.rdd)\n",
    "metrics.confusionMatrix().toArray()"
   ]
  },
  {
   "cell_type": "markdown",
   "metadata": {},
   "source": [
    "### confusion matrix"
   ]
  },
  {
   "cell_type": "code",
   "execution_count": 24,
   "metadata": {},
   "outputs": [
    {
     "data": {
      "text/plain": [
       "<sklearn.metrics._plot.confusion_matrix.ConfusionMatrixDisplay at 0x7f04cd601f10>"
      ]
     },
     "execution_count": 24,
     "metadata": {},
     "output_type": "execute_result"
    },
    {
     "data": {
      "image/png": "[encoded data removed]",
      "text/plain": [
       "<Figure size 432x288 with 2 Axes>"
      ]
     },
     "metadata": {
      "needs_background": "light"
     },
     "output_type": "display_data"
    }
   ],
   "source": [
    "from sklearn.metrics import confusion_matrix, ConfusionMatrixDisplay, classification_report, roc_auc_score\n",
    "ConfusionMatrixDisplay(metrics.confusionMatrix().toArray().astype(int)).plot()"
   ]
  },
  {
   "cell_type": "markdown",
   "metadata": {},
   "source": [
    "#### accuracy, precision, recall, fMeasure"
   ]
  },
  {
   "cell_type": "code",
   "execution_count": 25,
   "metadata": {},
   "outputs": [
    {
     "name": "stdout",
     "output_type": "stream",
     "text": [
      "accuracy: 0.6839430894308943\n",
      "precision: 0.5192029551497122\n",
      "recall: 0.6839430894308943\n",
      "fMeasure: 0.5714652138801367\n"
     ]
    }
   ],
   "source": [
    "print(\"accuracy: {}\".format(metrics.accuracy))\n",
    "print(\"precision: {}\".format(metrics.weightedPrecision))\n",
    "print(\"recall: {}\".format(metrics.weightedRecall))\n",
    "print(\"fMeasure: {}\".format(metrics.weightedFMeasure()))"
   ]
  },
  {
   "cell_type": "markdown",
   "metadata": {},
   "source": [
    "### Statistics by class"
   ]
  },
  {
   "cell_type": "code",
   "execution_count": 26,
   "metadata": {},
   "outputs": [
    {
     "data": {
      "text/html": [
       "<div>\n",
       "<style scoped>\n",
       "    .dataframe tbody tr th:only-of-type {\n",
       "        vertical-align: middle;\n",
       "    }\n",
       "\n",
       "    .dataframe tbody tr th {\n",
       "        vertical-align: top;\n",
       "    }\n",
       "\n",
       "    .dataframe thead th {\n",
       "        text-align: right;\n",
       "    }\n",
       "</style>\n",
       "<table border=\"1\" class=\"dataframe\">\n",
       "  <thead>\n",
       "    <tr style=\"text-align: right;\">\n",
       "      <th></th>\n",
       "      <th>class</th>\n",
       "      <th>f1</th>\n",
       "      <th>precision</th>\n",
       "      <th>recall</th>\n",
       "    </tr>\n",
       "  </thead>\n",
       "  <tbody>\n",
       "    <tr>\n",
       "      <th>0</th>\n",
       "      <td>0.0</td>\n",
       "      <td>0.815920</td>\n",
       "      <td>0.689800</td>\n",
       "      <td>0.998478</td>\n",
       "    </tr>\n",
       "    <tr>\n",
       "      <th>1</th>\n",
       "      <td>1.0</td>\n",
       "      <td>0.000000</td>\n",
       "      <td>0.000000</td>\n",
       "      <td>0.000000</td>\n",
       "    </tr>\n",
       "    <tr>\n",
       "      <th>2</th>\n",
       "      <td>2.0</td>\n",
       "      <td>0.234483</td>\n",
       "      <td>0.515152</td>\n",
       "      <td>0.151786</td>\n",
       "    </tr>\n",
       "    <tr>\n",
       "      <th>3</th>\n",
       "      <td>3.0</td>\n",
       "      <td>0.000000</td>\n",
       "      <td>0.000000</td>\n",
       "      <td>0.000000</td>\n",
       "    </tr>\n",
       "    <tr>\n",
       "      <th>4</th>\n",
       "      <td>4.0</td>\n",
       "      <td>0.000000</td>\n",
       "      <td>0.000000</td>\n",
       "      <td>0.000000</td>\n",
       "    </tr>\n",
       "    <tr>\n",
       "      <th>5</th>\n",
       "      <td>5.0</td>\n",
       "      <td>0.000000</td>\n",
       "      <td>0.000000</td>\n",
       "      <td>0.000000</td>\n",
       "    </tr>\n",
       "    <tr>\n",
       "      <th>6</th>\n",
       "      <td>6.0</td>\n",
       "      <td>0.000000</td>\n",
       "      <td>0.000000</td>\n",
       "      <td>0.000000</td>\n",
       "    </tr>\n",
       "  </tbody>\n",
       "</table>\n",
       "</div>"
      ],
      "text/plain": [
       "   class        f1  precision    recall\n",
       "0    0.0  0.815920   0.689800  0.998478\n",
       "1    1.0  0.000000   0.000000  0.000000\n",
       "2    2.0  0.234483   0.515152  0.151786\n",
       "3    3.0  0.000000   0.000000  0.000000\n",
       "4    4.0  0.000000   0.000000  0.000000\n",
       "5    5.0  0.000000   0.000000  0.000000\n",
       "6    6.0  0.000000   0.000000  0.000000"
      ]
     },
     "execution_count": 26,
     "metadata": {},
     "output_type": "execute_result"
    }
   ],
   "source": [
    "labels = predictionAndLabels.rdd.map(lambda lp: lp.indexed_dx).distinct().collect()\n",
    "df = pd.DataFrame()\n",
    "for label in sorted(labels):\n",
    "    df = df.append({\"class\": label, \n",
    "               \"precision\":metrics.precision(label),\n",
    "               \"recall\":metrics.recall(label),\n",
    "               \"f1\":metrics.fMeasure(label),\n",
    "              }, ignore_index=True)\n",
    "df"
   ]
  },
  {
   "cell_type": "code",
   "execution_count": null,
   "metadata": {},
   "outputs": [],
   "source": []
  },
  {
   "cell_type": "code",
   "execution_count": null,
   "metadata": {},
   "outputs": [],
   "source": []
  },
  {
   "cell_type": "markdown",
   "metadata": {},
   "source": [
    "# Cross validation"
   ]
  },
  {
   "cell_type": "code",
   "execution_count": 19,
   "metadata": {},
   "outputs": [],
   "source": [
    "### cross valication\n",
    "paramGrid = (ParamGridBuilder() \\\n",
    "            .addGrid(rf.numTrees, [10, 50, 100]) \\\n",
    "            .addGrid(rf.maxDepth, [5, 10, 15]) \\\n",
    "            .build())"
   ]
  },
  {
   "cell_type": "code",
   "execution_count": 20,
   "metadata": {},
   "outputs": [],
   "source": [
    "from pyspark.ml.evaluation import MulticlassClassificationEvaluator\n",
    "evaluator = MulticlassClassificationEvaluator(predictionCol=\"prediction\", labelCol=\"indexed_dx\")"
   ]
  },
  {
   "cell_type": "code",
   "execution_count": 21,
   "metadata": {},
   "outputs": [
    {
     "name": "stdout",
     "output_type": "stream",
     "text": [
      "CPU times: user 384 µs, sys: 0 ns, total: 384 µs\n",
      "Wall time: 388 µs\n"
     ]
    }
   ],
   "source": [
    "%%time\n",
    "# Create 5-fold CrossValidator\n",
    "cv_model = CrossValidator(estimator=model_pipe, \\\n",
    "                    estimatorParamMaps= paramGrid, \\\n",
    "                    evaluator= evaluator, \\\n",
    "                    numFolds= 5, \\\n",
    "                    parallelism = 4, \\\n",
    "                    seed = 314)"
   ]
  },
  {
   "cell_type": "code",
   "execution_count": 22,
   "metadata": {},
   "outputs": [
    {
     "name": "stdout",
     "output_type": "stream",
     "text": [
      "CPU times: user 2.87 s, sys: 556 ms, total: 3.42 s\n",
      "Wall time: 16min 59s\n"
     ]
    }
   ],
   "source": [
    "%%time\n",
    "cvModel = cv_model.fit(training_set)"
   ]
  },
  {
   "cell_type": "code",
   "execution_count": 23,
   "metadata": {},
   "outputs": [],
   "source": [
    "cv_predictions = cvModel.bestModel.transform(test_set)"
   ]
  },
  {
   "cell_type": "code",
   "execution_count": 24,
   "metadata": {},
   "outputs": [
    {
     "name": "stdout",
     "output_type": "stream",
     "text": [
      "CPU times: user 7.86 ms, sys: 2.63 ms, total: 10.5 ms\n",
      "Wall time: 9.65 s\n"
     ]
    },
    {
     "data": {
      "text/plain": [
       "0.6939115870882323"
      ]
     },
     "execution_count": 24,
     "metadata": {},
     "output_type": "execute_result"
    }
   ],
   "source": [
    "%%time\n",
    "# Evaluate best model\n",
    "evaluator = MulticlassClassificationEvaluator(predictionCol=\"prediction\", labelCol=\"indexed_dx\")\n",
    "evaluator.evaluate(cv_predictions)"
   ]
  },
  {
   "cell_type": "code",
   "execution_count": 49,
   "metadata": {},
   "outputs": [
    {
     "name": "stdout",
     "output_type": "stream",
     "text": [
      "Best Param (NumTrees):  50\n",
      "Best Param (MaxDepth):  15\n"
     ]
    }
   ],
   "source": [
    "bestModel = cvModel.bestModel\n",
    "print ('Best Param (NumTrees): ', bestModel.stages[2]._java_obj.getNumTrees())\n",
    "print ('Best Param (MaxDepth): ', bestModel.stages[2].getMaxDepth())"
   ]
  },
  {
   "cell_type": "code",
   "execution_count": 23,
   "metadata": {},
   "outputs": [
    {
     "data": {
      "text/plain": [
       "array([[1.288e+03, 1.000e+01, 1.400e+01, 1.000e+00, 1.000e+00, 0.000e+00,\n",
       "        0.000e+00],\n",
       "       [1.550e+02, 4.100e+01, 2.400e+01, 1.000e+00, 0.000e+00, 0.000e+00,\n",
       "        0.000e+00],\n",
       "       [1.170e+02, 2.100e+01, 8.000e+01, 1.000e+00, 5.000e+00, 0.000e+00,\n",
       "        0.000e+00],\n",
       "       [4.100e+01, 7.000e+00, 2.400e+01, 2.900e+01, 2.000e+00, 0.000e+00,\n",
       "        0.000e+00],\n",
       "       [1.800e+01, 3.000e+00, 2.300e+01, 4.000e+00, 7.000e+00, 0.000e+00,\n",
       "        0.000e+00],\n",
       "       [2.900e+01, 0.000e+00, 2.000e+00, 0.000e+00, 0.000e+00, 0.000e+00,\n",
       "        0.000e+00],\n",
       "       [1.500e+01, 1.000e+00, 3.000e+00, 0.000e+00, 0.000e+00, 0.000e+00,\n",
       "        1.000e+00]])"
      ]
     },
     "execution_count": 23,
     "metadata": {},
     "output_type": "execute_result"
    }
   ],
   "source": [
    "cv_predictionAndLabels = cv_predictions.select(\"prediction\",\"indexed_dx\")\n",
    "preds_and_probs = cv_predictions.select(['indexed_dx', 'probability', 'prediction'])\n",
    "\n",
    "cv_metrics = MulticlassMetrics(cv_predictionAndLabels.rdd)\n",
    "cv_metrics.confusionMatrix().toArray()"
   ]
  },
  {
   "cell_type": "code",
   "execution_count": 24,
   "metadata": {},
   "outputs": [
    {
     "data": {
      "text/plain": [
       "<sklearn.metrics._plot.confusion_matrix.ConfusionMatrixDisplay at 0x7fdd8014e890>"
      ]
     },
     "execution_count": 24,
     "metadata": {},
     "output_type": "execute_result"
    },
    {
     "data": {
      "image/png": "[encoded data removed]",
      "text/plain": [
       "<Figure size 432x288 with 2 Axes>"
      ]
     },
     "metadata": {
      "needs_background": "light"
     },
     "output_type": "display_data"
    }
   ],
   "source": [
    "from sklearn.metrics import confusion_matrix, ConfusionMatrixDisplay, classification_report, roc_auc_score\n",
    "ConfusionMatrixDisplay(cv_metrics.confusionMatrix().toArray().astype(int)).plot()"
   ]
  },
  {
   "cell_type": "markdown",
   "metadata": {},
   "source": [
    "### accuracy"
   ]
  },
  {
   "cell_type": "code",
   "execution_count": 25,
   "metadata": {},
   "outputs": [
    {
     "name": "stdout",
     "output_type": "stream",
     "text": [
      "accuracy: 0.7347560975609756\n",
      "precision: 0.6915231017238537\n",
      "recall: 0.7347560975609756\n",
      "fMeasure: 0.6826547392839335\n"
     ]
    }
   ],
   "source": [
    "print(\"accuracy: {}\".format(cv_metrics.accuracy))\n",
    "print(\"precision: {}\".format(cv_metrics.weightedPrecision))\n",
    "print(\"recall: {}\".format(cv_metrics.weightedRecall))\n",
    "print(\"fMeasure: {}\".format(cv_metrics.weightedFMeasure()))"
   ]
  },
  {
   "cell_type": "markdown",
   "metadata": {},
   "source": [
    "### Statistics by class"
   ]
  },
  {
   "cell_type": "code",
   "execution_count": 26,
   "metadata": {},
   "outputs": [
    {
     "data": {
      "text/html": [
       "<div>\n",
       "<style scoped>\n",
       "    .dataframe tbody tr th:only-of-type {\n",
       "        vertical-align: middle;\n",
       "    }\n",
       "\n",
       "    .dataframe tbody tr th {\n",
       "        vertical-align: top;\n",
       "    }\n",
       "\n",
       "    .dataframe thead th {\n",
       "        text-align: right;\n",
       "    }\n",
       "</style>\n",
       "<table border=\"1\" class=\"dataframe\">\n",
       "  <thead>\n",
       "    <tr style=\"text-align: right;\">\n",
       "      <th></th>\n",
       "      <th>class</th>\n",
       "      <th>f1</th>\n",
       "      <th>precision</th>\n",
       "      <th>recall</th>\n",
       "    </tr>\n",
       "  </thead>\n",
       "  <tbody>\n",
       "    <tr>\n",
       "      <th>0</th>\n",
       "      <td>0.0</td>\n",
       "      <td>0.865301</td>\n",
       "      <td>0.774504</td>\n",
       "      <td>0.980213</td>\n",
       "    </tr>\n",
       "    <tr>\n",
       "      <th>1</th>\n",
       "      <td>1.0</td>\n",
       "      <td>0.269737</td>\n",
       "      <td>0.493976</td>\n",
       "      <td>0.185520</td>\n",
       "    </tr>\n",
       "    <tr>\n",
       "      <th>2</th>\n",
       "      <td>2.0</td>\n",
       "      <td>0.406091</td>\n",
       "      <td>0.470588</td>\n",
       "      <td>0.357143</td>\n",
       "    </tr>\n",
       "    <tr>\n",
       "      <th>3</th>\n",
       "      <td>3.0</td>\n",
       "      <td>0.417266</td>\n",
       "      <td>0.805556</td>\n",
       "      <td>0.281553</td>\n",
       "    </tr>\n",
       "    <tr>\n",
       "      <th>4</th>\n",
       "      <td>4.0</td>\n",
       "      <td>0.200000</td>\n",
       "      <td>0.466667</td>\n",
       "      <td>0.127273</td>\n",
       "    </tr>\n",
       "    <tr>\n",
       "      <th>5</th>\n",
       "      <td>5.0</td>\n",
       "      <td>0.000000</td>\n",
       "      <td>0.000000</td>\n",
       "      <td>0.000000</td>\n",
       "    </tr>\n",
       "    <tr>\n",
       "      <th>6</th>\n",
       "      <td>6.0</td>\n",
       "      <td>0.095238</td>\n",
       "      <td>1.000000</td>\n",
       "      <td>0.050000</td>\n",
       "    </tr>\n",
       "  </tbody>\n",
       "</table>\n",
       "</div>"
      ],
      "text/plain": [
       "   class        f1  precision    recall\n",
       "0    0.0  0.865301   0.774504  0.980213\n",
       "1    1.0  0.269737   0.493976  0.185520\n",
       "2    2.0  0.406091   0.470588  0.357143\n",
       "3    3.0  0.417266   0.805556  0.281553\n",
       "4    4.0  0.200000   0.466667  0.127273\n",
       "5    5.0  0.000000   0.000000  0.000000\n",
       "6    6.0  0.095238   1.000000  0.050000"
      ]
     },
     "execution_count": 26,
     "metadata": {},
     "output_type": "execute_result"
    }
   ],
   "source": [
    "labels = cv_predictionAndLabels.rdd.map(lambda lp: lp.indexed_dx).distinct().collect()\n",
    "cv_df = pd.DataFrame()\n",
    "for label in sorted(labels):\n",
    "    cv_df = cv_df.append({\"class\": label, \n",
    "               \"precision\":cv_metrics.precision(label),\n",
    "               \"recall\":cv_metrics.recall(label),\n",
    "               \"f1\":cv_metrics.fMeasure(label),\n",
    "              }, ignore_index=True)\n",
    "cv_df"
   ]
  },
  {
   "cell_type": "markdown",
   "metadata": {},
   "source": [
    "### ROC"
   ]
  },
  {
   "cell_type": "code",
   "execution_count": 27,
   "metadata": {},
   "outputs": [
    {
     "data": {
      "image/png": "[encoded data removed]",
      "text/plain": [
       "<Figure size 432x288 with 1 Axes>"
      ]
     },
     "metadata": {
      "needs_background": "light"
     },
     "output_type": "display_data"
    }
   ],
   "source": [
    "from sklearn.metrics import roc_curve, auc\n",
    "from sklearn.preprocessing import label_binarize\n",
    "import matplotlib.pyplot as plt\n",
    "\n",
    "\n",
    "y_test = list(preds_and_probs.select('indexed_dx').toPandas()['indexed_dx'])\n",
    "y_score = np.array(list(preds_and_probs.select('probability').toPandas()['probability']))\n",
    "y_test = label_binarize(y_test, classes=[0,1,2,3,4,5,6])\n",
    "n_classes = y_test.shape[1]\n",
    "\n",
    "# Compute ROC curve and ROC area for each class\n",
    "fpr = dict()\n",
    "tpr = dict()\n",
    "roc_auc = dict()\n",
    "for i in range(n_classes):\n",
    "    fpr[i], tpr[i], _ = roc_curve(y_test[:, i], y_score[:, i])\n",
    "    roc_auc[i] = auc(fpr[i], tpr[i])\n",
    "\n",
    "# Compute micro-average ROC curve and ROC area\n",
    "fpr[\"micro\"], tpr[\"micro\"], _ = roc_curve(y_test.ravel(), y_score.ravel())\n",
    "roc_auc[\"micro\"] = auc(fpr[\"micro\"], tpr[\"micro\"])\n",
    "\n",
    "# Plot ROC curve\n",
    "plt.figure()\n",
    "plt.plot(fpr[\"micro\"], tpr[\"micro\"],\n",
    "         label='micro-average ROC curve (area = {0:0.2f})'\n",
    "               ''.format(roc_auc[\"micro\"]))\n",
    "for i in range(n_classes):\n",
    "    plt.plot(fpr[i], tpr[i], label='ROC curve of class {0} (area = {1:0.2f})'\n",
    "                                   ''.format(i, roc_auc[i]))\n",
    "\n",
    "plt.plot([0, 1], [0, 1], 'k--')\n",
    "plt.xlim([0.0, 1.0])\n",
    "plt.ylim([0.0, 1.05])\n",
    "plt.xlabel('False Positive Rate')\n",
    "plt.ylabel('True Positive Rate')\n",
    "plt.title('Some extension of Receiver operating characteristic to multi-class')\n",
    "plt.legend(loc=\"lower right\")\n",
    "plt.show()"
   ]
  },
  {
   "cell_type": "code",
   "execution_count": null,
   "metadata": {},
   "outputs": [],
   "source": []
  },
  {
   "cell_type": "markdown",
   "metadata": {},
   "source": [
    "# RandonForest, newly trained TL model, "
   ]
  },
  {
   "cell_type": "markdown",
   "metadata": {},
   "source": [
    "### load saved file (image transfered by the new TL model)"
   ]
  },
  {
   "cell_type": "code",
   "execution_count": 28,
   "metadata": {},
   "outputs": [],
   "source": [
    "RN50_df = spark.read.load(\"/project/ds5559/BioNerds/saved_data/ResNet50_indexed.parquet\")"
   ]
  },
  {
   "cell_type": "code",
   "execution_count": 29,
   "metadata": {},
   "outputs": [
    {
     "name": "stdout",
     "output_type": "stream",
     "text": [
      "+-----------+------------+---+---------+----+----+---------------+----------+-----------+-----------+------------+--------------------+------------+--------------------+\n",
      "|  lesion_id|    image_id| dx|  dx_type| age| sex|   localization|indexed_dx|indexed_sex|indexed_loc|indexed_type|            features|          ID|          features_2|\n",
      "+-----------+------------+---+---------+----+----+---------------+----------+-----------+-----------+------------+--------------------+------------+--------------------+\n",
      "|HAM_0004826|ISIC_0027564| nv|follow_up|45.0|male|        genital|       0.0|        0.0|       13.0|         1.0|[2.3282132, 0.0, ...|ISIC_0027564|[2.32821321487426...|\n",
      "|HAM_0004912|ISIC_0025753|bkl| confocal|70.0|male|           face|       2.0|        0.0|        5.0|         3.0|[0.0, 0.0, 0.0098...|ISIC_0025753|[0.0,0.0,0.009827...|\n",
      "|HAM_0003060|ISIC_0027485| nv|follow_up|40.0|male|        abdomen|       0.0|        0.0|        4.0|         1.0|[0.021158136, 0.0...|ISIC_0027485|[0.02115813642740...|\n",
      "|HAM_0003376|ISIC_0025394|mel|    histo|45.0|male|          trunk|       1.0|        0.0|        2.0|         0.0|[0.029288046, 0.0...|ISIC_0025394|[0.02928804606199...|\n",
      "|HAM_0006774|ISIC_0025256| nv|follow_up|45.0|male|upper extremity|       0.0|        0.0|        3.0|         1.0|[0.0, 0.0, 0.0, 0...|ISIC_0025256|[0.0,0.0,0.0,0.0,...|\n",
      "+-----------+------------+---+---------+----+----+---------------+----------+-----------+-----------+------------+--------------------+------------+--------------------+\n",
      "only showing top 5 rows\n",
      "\n"
     ]
    },
    {
     "data": {
      "text/plain": [
       "DataFrame[lesion_id: string, image_id: string, dx: string, dx_type: string, age: double, sex: string, localization: string, indexed_dx: double, indexed_sex: double, indexed_loc: double, indexed_type: double, features: array<float>, ID: string, features_2: vector]"
      ]
     },
     "execution_count": 29,
     "metadata": {},
     "output_type": "execute_result"
    }
   ],
   "source": [
    "RN50_df.show(5)\n",
    "RN50_df.cache()"
   ]
  },
  {
   "cell_type": "code",
   "execution_count": 30,
   "metadata": {},
   "outputs": [
    {
     "data": {
      "text/plain": [
       "2048"
      ]
     },
     "execution_count": 30,
     "metadata": {},
     "output_type": "execute_result"
    }
   ],
   "source": [
    "len(RN50_df.select('features_2').first()[0])"
   ]
  },
  {
   "cell_type": "markdown",
   "metadata": {},
   "source": [
    "### split transformed_table to training set and test set by dx.\n",
    "### using stratified split by ratio 0.8:0.2"
   ]
  },
  {
   "cell_type": "code",
   "execution_count": 31,
   "metadata": {},
   "outputs": [
    {
     "name": "stdout",
     "output_type": "stream",
     "text": [
      "+-----+----------+-----+\n",
      "|   dx|indexed_dx|count|\n",
      "+-----+----------+-----+\n",
      "|  bcc|       3.0|  514|\n",
      "|  mel|       1.0| 1111|\n",
      "|   nv|       0.0| 6650|\n",
      "|  bkl|       2.0| 1089|\n",
      "|   df|       6.0|  115|\n",
      "| vasc|       5.0|  142|\n",
      "|akiec|       4.0|  327|\n",
      "+-----+----------+-----+\n",
      "\n"
     ]
    }
   ],
   "source": [
    "RN50_df.select(\"dx\", \"indexed_dx\").groupby(\"dx\",\"indexed_dx\").count().show()"
   ]
  },
  {
   "cell_type": "code",
   "execution_count": 32,
   "metadata": {},
   "outputs": [
    {
     "data": {
      "text/plain": [
       "{'vasc': 0.8,\n",
       " 'nv': 0.8,\n",
       " 'mel': 0.8,\n",
       " 'bcc': 0.8,\n",
       " 'df': 0.8,\n",
       " 'bkl': 0.8,\n",
       " 'akiec': 0.8}"
      ]
     },
     "execution_count": 32,
     "metadata": {},
     "output_type": "execute_result"
    }
   ],
   "source": [
    "fractions = RN50_df.select(\"dx\").distinct().withColumn(\"fraction\", F.lit(0.8)).rdd.collectAsMap()\n",
    "fractions"
   ]
  },
  {
   "cell_type": "code",
   "execution_count": 33,
   "metadata": {},
   "outputs": [],
   "source": [
    "training_RN50 = RN50_df.stat.sampleBy(\"dx\",fractions, seed=314)"
   ]
  },
  {
   "cell_type": "code",
   "execution_count": 34,
   "metadata": {},
   "outputs": [
    {
     "name": "stdout",
     "output_type": "stream",
     "text": [
      "+-----+----------+-----+\n",
      "|   dx|indexed_dx|count|\n",
      "+-----+----------+-----+\n",
      "|  bcc|       3.0|  399|\n",
      "|  mel|       1.0|  888|\n",
      "|   nv|       0.0| 5333|\n",
      "|  bkl|       2.0|  874|\n",
      "|   df|       6.0|   89|\n",
      "| vasc|       5.0|  114|\n",
      "|akiec|       4.0|  257|\n",
      "+-----+----------+-----+\n",
      "\n",
      "CPU times: user 3.75 ms, sys: 1.41 ms, total: 5.16 ms\n",
      "Wall time: 518 ms\n"
     ]
    },
    {
     "data": {
      "text/plain": [
       "DataFrame[lesion_id: string, image_id: string, dx: string, dx_type: string, age: double, sex: string, localization: string, indexed_dx: double, indexed_sex: double, indexed_loc: double, indexed_type: double, features: array<float>, ID: string, features_2: vector]"
      ]
     },
     "execution_count": 34,
     "metadata": {},
     "output_type": "execute_result"
    }
   ],
   "source": [
    "%%time\n",
    "training_RN50.select(\"dx\", \"indexed_dx\").groupby(\"dx\",\"indexed_dx\").count().show()\n",
    "training_RN50.cache()"
   ]
  },
  {
   "cell_type": "code",
   "execution_count": 35,
   "metadata": {},
   "outputs": [
    {
     "name": "stdout",
     "output_type": "stream",
     "text": [
      "CPU times: user 656 µs, sys: 1.89 ms, total: 2.54 ms\n",
      "Wall time: 72 ms\n"
     ]
    },
    {
     "data": {
      "text/plain": [
       "DataFrame[lesion_id: string, image_id: string, dx: string, dx_type: string, age: double, sex: string, localization: string, indexed_dx: double, indexed_sex: double, indexed_loc: double, indexed_type: double, features: array<float>, ID: string, features_2: vector]"
      ]
     },
     "execution_count": 35,
     "metadata": {},
     "output_type": "execute_result"
    }
   ],
   "source": [
    "%%time\n",
    "test_RN50 = RN50_df.subtract(training_RN50)\n",
    "test_RN50.cache()"
   ]
  },
  {
   "cell_type": "code",
   "execution_count": 36,
   "metadata": {},
   "outputs": [
    {
     "name": "stdout",
     "output_type": "stream",
     "text": [
      "+-----+----------+-----+\n",
      "|   dx|indexed_dx|count|\n",
      "+-----+----------+-----+\n",
      "|  bcc|       3.0|  115|\n",
      "|  mel|       1.0|  223|\n",
      "|   nv|       0.0| 1317|\n",
      "|  bkl|       2.0|  215|\n",
      "|   df|       6.0|   26|\n",
      "| vasc|       5.0|   28|\n",
      "|akiec|       4.0|   70|\n",
      "+-----+----------+-----+\n",
      "\n",
      "CPU times: user 4.07 ms, sys: 1.07 ms, total: 5.14 ms\n",
      "Wall time: 6.36 s\n"
     ]
    }
   ],
   "source": [
    "%%time\n",
    "test_RN50.select(\"dx\", \"indexed_dx\").groupby(\"dx\",\"indexed_dx\").count().show()"
   ]
  },
  {
   "cell_type": "code",
   "execution_count": null,
   "metadata": {},
   "outputs": [],
   "source": []
  },
  {
   "cell_type": "markdown",
   "metadata": {},
   "source": [
    "### Traing the RF"
   ]
  },
  {
   "cell_type": "code",
   "execution_count": 60,
   "metadata": {},
   "outputs": [],
   "source": [
    "#Define preprocessing pipeline\n",
    "\n",
    "#OneHot encode variables\n",
    "OH = OneHotEncoder(inputCols = ['indexed_sex', 'indexed_loc'], outputCols = ['OH_sex', 'OH_loc'])\n",
    "\n",
    "#Assemble Features vector\n",
    "vec_assemb = VectorAssembler(inputCols = ['age', 'OH_sex', 'OH_loc', 'features_2'], \\\n",
    "                             outputCol = 'Feature_vec', handleInvalid = 'skip')\n",
    "\n",
    "rf = RandomForestClassifier(labelCol=\"indexed_dx\", featuresCol=\"Feature_vec\", numTrees=100, featureSubsetStrategy ='sqrt', probabilityCol = 'probability')\n",
    "\n"
   ]
  },
  {
   "cell_type": "code",
   "execution_count": 61,
   "metadata": {},
   "outputs": [
    {
     "name": "stdout",
     "output_type": "stream",
     "text": [
      "CPU times: user 249 µs, sys: 87 µs, total: 336 µs\n",
      "Wall time: 269 µs\n"
     ]
    }
   ],
   "source": [
    "%%time\n",
    "modelTL_pipe = Pipeline(stages = [ OH, vec_assemb, rf])"
   ]
  },
  {
   "cell_type": "code",
   "execution_count": 63,
   "metadata": {},
   "outputs": [
    {
     "name": "stdout",
     "output_type": "stream",
     "text": [
      "CPU times: user 23.4 ms, sys: 2.95 ms, total: 26.3 ms\n",
      "Wall time: 11.8 s\n"
     ]
    }
   ],
   "source": [
    "%%time\n",
    "model_rf = modelTL_pipe.fit(training_RN50)"
   ]
  },
  {
   "cell_type": "code",
   "execution_count": 64,
   "metadata": {},
   "outputs": [
    {
     "name": "stdout",
     "output_type": "stream",
     "text": [
      "CPU times: user 8.45 ms, sys: 2.8 ms, total: 11.3 ms\n",
      "Wall time: 122 ms\n"
     ]
    }
   ],
   "source": [
    "%%time\n",
    "predictions =model_rf.transform(test_RN50)"
   ]
  },
  {
   "cell_type": "code",
   "execution_count": 65,
   "metadata": {},
   "outputs": [
    {
     "name": "stdout",
     "output_type": "stream",
     "text": [
      "CPU times: user 4.36 ms, sys: 495 µs, total: 4.85 ms\n",
      "Wall time: 1.09 s\n"
     ]
    },
    {
     "data": {
      "text/plain": [
       "0.6813146390083817"
      ]
     },
     "execution_count": 65,
     "metadata": {},
     "output_type": "execute_result"
    }
   ],
   "source": [
    "%%time\n",
    "from pyspark.ml.evaluation import MulticlassClassificationEvaluator\n",
    "evaluator = MulticlassClassificationEvaluator(predictionCol=\"prediction\", labelCol=\"indexed_dx\")\n",
    "evaluator.evaluate(predictions)"
   ]
  },
  {
   "cell_type": "code",
   "execution_count": 66,
   "metadata": {},
   "outputs": [],
   "source": [
    "from pyspark.mllib.evaluation import MulticlassMetrics\n",
    "predictionAndLabels = predictions.select(\"prediction\",\"indexed_dx\")"
   ]
  },
  {
   "cell_type": "code",
   "execution_count": 67,
   "metadata": {},
   "outputs": [
    {
     "data": {
      "text/plain": [
       "array([[1291.,    9.,   17.,    0.,    0.,    0.,    0.],\n",
       "       [ 142.,   64.,   14.,    3.,    0.,    0.,    0.],\n",
       "       [ 118.,   11.,   86.,    0.,    0.,    0.,    0.],\n",
       "       [  73.,    9.,   15.,   18.,    0.,    0.,    0.],\n",
       "       [  30.,    4.,   27.,    9.,    0.,    0.,    0.],\n",
       "       [  19.,    0.,    0.,    0.,    0.,    9.,    0.],\n",
       "       [  19.,    0.,    7.,    0.,    0.,    0.,    0.]])"
      ]
     },
     "execution_count": 67,
     "metadata": {},
     "output_type": "execute_result"
    }
   ],
   "source": [
    "metrics = MulticlassMetrics(predictionAndLabels.rdd)\n",
    "metrics.confusionMatrix().toArray()"
   ]
  },
  {
   "cell_type": "code",
   "execution_count": 68,
   "metadata": {},
   "outputs": [
    {
     "data": {
      "text/plain": [
       "<sklearn.metrics._plot.confusion_matrix.ConfusionMatrixDisplay at 0x7f878e117790>"
      ]
     },
     "execution_count": 68,
     "metadata": {},
     "output_type": "execute_result"
    },
    {
     "data": {
      "image/png": "[encoded data removed]",
      "text/plain": [
       "<Figure size 432x288 with 2 Axes>"
      ]
     },
     "metadata": {
      "needs_background": "light"
     },
     "output_type": "display_data"
    }
   ],
   "source": [
    "from sklearn.metrics import confusion_matrix, ConfusionMatrixDisplay, classification_report, roc_auc_score\n",
    "ConfusionMatrixDisplay(metrics.confusionMatrix().toArray().astype(int)).plot()"
   ]
  },
  {
   "cell_type": "code",
   "execution_count": 70,
   "metadata": {},
   "outputs": [
    {
     "name": "stdout",
     "output_type": "stream",
     "text": [
      "accuracy: 0.7362086258776329\n",
      "precision: 0.6822435688377174\n",
      "recall: 0.7362086258776329\n",
      "fMeasure: 0.6813146390083817\n"
     ]
    }
   ],
   "source": [
    "print(\"accuracy: {}\".format(metrics.accuracy))\n",
    "print(\"precision: {}\".format(metrics.weightedPrecision))\n",
    "print(\"recall: {}\".format(metrics.weightedRecall))\n",
    "print(\"fMeasure: {}\".format(metrics.weightedFMeasure()))"
   ]
  },
  {
   "cell_type": "code",
   "execution_count": 71,
   "metadata": {},
   "outputs": [
    {
     "data": {
      "text/html": [
       "<div>\n",
       "<style scoped>\n",
       "    .dataframe tbody tr th:only-of-type {\n",
       "        vertical-align: middle;\n",
       "    }\n",
       "\n",
       "    .dataframe tbody tr th {\n",
       "        vertical-align: top;\n",
       "    }\n",
       "\n",
       "    .dataframe thead th {\n",
       "        text-align: right;\n",
       "    }\n",
       "</style>\n",
       "<table border=\"1\" class=\"dataframe\">\n",
       "  <thead>\n",
       "    <tr style=\"text-align: right;\">\n",
       "      <th></th>\n",
       "      <th>class</th>\n",
       "      <th>f1</th>\n",
       "      <th>precision</th>\n",
       "      <th>recall</th>\n",
       "    </tr>\n",
       "  </thead>\n",
       "  <tbody>\n",
       "    <tr>\n",
       "      <th>0</th>\n",
       "      <td>0.0</td>\n",
       "      <td>0.858092</td>\n",
       "      <td>0.763002</td>\n",
       "      <td>0.980258</td>\n",
       "    </tr>\n",
       "    <tr>\n",
       "      <th>1</th>\n",
       "      <td>1.0</td>\n",
       "      <td>0.400000</td>\n",
       "      <td>0.659794</td>\n",
       "      <td>0.286996</td>\n",
       "    </tr>\n",
       "    <tr>\n",
       "      <th>2</th>\n",
       "      <td>2.0</td>\n",
       "      <td>0.451444</td>\n",
       "      <td>0.518072</td>\n",
       "      <td>0.400000</td>\n",
       "    </tr>\n",
       "    <tr>\n",
       "      <th>3</th>\n",
       "      <td>3.0</td>\n",
       "      <td>0.248276</td>\n",
       "      <td>0.600000</td>\n",
       "      <td>0.156522</td>\n",
       "    </tr>\n",
       "    <tr>\n",
       "      <th>4</th>\n",
       "      <td>4.0</td>\n",
       "      <td>0.000000</td>\n",
       "      <td>0.000000</td>\n",
       "      <td>0.000000</td>\n",
       "    </tr>\n",
       "    <tr>\n",
       "      <th>5</th>\n",
       "      <td>5.0</td>\n",
       "      <td>0.486486</td>\n",
       "      <td>1.000000</td>\n",
       "      <td>0.321429</td>\n",
       "    </tr>\n",
       "    <tr>\n",
       "      <th>6</th>\n",
       "      <td>6.0</td>\n",
       "      <td>0.000000</td>\n",
       "      <td>0.000000</td>\n",
       "      <td>0.000000</td>\n",
       "    </tr>\n",
       "  </tbody>\n",
       "</table>\n",
       "</div>"
      ],
      "text/plain": [
       "   class        f1  precision    recall\n",
       "0    0.0  0.858092   0.763002  0.980258\n",
       "1    1.0  0.400000   0.659794  0.286996\n",
       "2    2.0  0.451444   0.518072  0.400000\n",
       "3    3.0  0.248276   0.600000  0.156522\n",
       "4    4.0  0.000000   0.000000  0.000000\n",
       "5    5.0  0.486486   1.000000  0.321429\n",
       "6    6.0  0.000000   0.000000  0.000000"
      ]
     },
     "execution_count": 71,
     "metadata": {},
     "output_type": "execute_result"
    }
   ],
   "source": [
    "labels = predictionAndLabels.rdd.map(lambda lp: lp.indexed_dx).distinct().collect()\n",
    "df = pd.DataFrame()\n",
    "for label in sorted(labels):\n",
    "    df = df.append({\"class\": label, \n",
    "               \"precision\":metrics.precision(label),\n",
    "               \"recall\":metrics.recall(label),\n",
    "               \"f1\":metrics.fMeasure(label),\n",
    "              }, ignore_index=True)\n",
    "df"
   ]
  },
  {
   "cell_type": "markdown",
   "metadata": {},
   "source": [
    "### Cross Validation (5 fold) and Tuning hyperparameters"
   ]
  },
  {
   "cell_type": "code",
   "execution_count": 72,
   "metadata": {},
   "outputs": [
    {
     "name": "stdout",
     "output_type": "stream",
     "text": [
      "CPU times: user 218 µs, sys: 0 ns, total: 218 µs\n",
      "Wall time: 222 µs\n"
     ]
    }
   ],
   "source": [
    "%%time\n",
    "from pyspark.ml.tuning import ParamGridBuilder, CrossValidator\n",
    "# Create ParamGrid for Cross Validation\n",
    "\n",
    "paramGrid = (ParamGridBuilder() \\\n",
    "            .addGrid(rf.numTrees, [10, 50, 100]) \\\n",
    "            .addGrid(rf.maxDepth, [5, 10, 15]) \\\n",
    "            .build())"
   ]
  },
  {
   "cell_type": "code",
   "execution_count": 74,
   "metadata": {},
   "outputs": [
    {
     "name": "stdout",
     "output_type": "stream",
     "text": [
      "CPU times: user 179 µs, sys: 60 µs, total: 239 µs\n",
      "Wall time: 243 µs\n"
     ]
    }
   ],
   "source": [
    "%%time\n",
    "# Create 5-fold CrossValidator\n",
    "cv = CrossValidator(estimator=modelTL_pipe, \\\n",
    "                    estimatorParamMaps=paramGrid, \\\n",
    "                    evaluator=evaluator, \\\n",
    "                    numFolds=5, \\\n",
    "                    parallelism = 4, \\\n",
    "                    seed = 314 )"
   ]
  },
  {
   "cell_type": "code",
   "execution_count": 75,
   "metadata": {},
   "outputs": [
    {
     "name": "stdout",
     "output_type": "stream",
     "text": [
      "CPU times: user 3.12 s, sys: 707 ms, total: 3.83 s\n",
      "Wall time: 13min 57s\n"
     ]
    }
   ],
   "source": [
    "%%time\n",
    "cvModel = cv.fit(training_RN50)\n"
   ]
  },
  {
   "cell_type": "code",
   "execution_count": 76,
   "metadata": {},
   "outputs": [
    {
     "name": "stdout",
     "output_type": "stream",
     "text": [
      "CPU times: user 3.75 ms, sys: 6.58 ms, total: 10.3 ms\n",
      "Wall time: 98.3 ms\n"
     ]
    }
   ],
   "source": [
    "%%time\n",
    "cv_predictions = cvModel.transform(test_RN50)"
   ]
  },
  {
   "cell_type": "code",
   "execution_count": 77,
   "metadata": {},
   "outputs": [
    {
     "name": "stdout",
     "output_type": "stream",
     "text": [
      "CPU times: user 15.7 ms, sys: 4.84 ms, total: 20.6 ms\n",
      "Wall time: 11.1 s\n"
     ]
    },
    {
     "data": {
      "text/plain": [
       "0.7543329493557501"
      ]
     },
     "execution_count": 77,
     "metadata": {},
     "output_type": "execute_result"
    }
   ],
   "source": [
    "%%time\n",
    "# Evaluate best model\n",
    "evaluator = MulticlassClassificationEvaluator(predictionCol=\"prediction\", labelCol=\"indexed_dx\")\n",
    "evaluator.evaluate(cv_predictions)"
   ]
  },
  {
   "cell_type": "code",
   "execution_count": 78,
   "metadata": {},
   "outputs": [
    {
     "name": "stdout",
     "output_type": "stream",
     "text": [
      "Best Param (numTrees):  100\n",
      "Best Param (maxDepth):  15\n"
     ]
    }
   ],
   "source": [
    "bestModel = cvModel.bestModel\n",
    "print ('Best Param (numTrees): ', bestModel.stages[2]._java_obj.getNumTrees())\n",
    "print ('Best Param (maxDepth): ', bestModel.stages[2]._java_obj.getMaxDepth())"
   ]
  },
  {
   "cell_type": "code",
   "execution_count": 43,
   "metadata": {},
   "outputs": [
    {
     "data": {
      "text/plain": [
       "array([[1.266e+03, 2.400e+01, 2.500e+01, 2.000e+00, 0.000e+00, 0.000e+00,\n",
       "        0.000e+00],\n",
       "       [1.010e+02, 1.010e+02, 1.800e+01, 2.000e+00, 1.000e+00, 0.000e+00,\n",
       "        0.000e+00],\n",
       "       [7.800e+01, 1.700e+01, 1.130e+02, 2.000e+00, 5.000e+00, 0.000e+00,\n",
       "        0.000e+00],\n",
       "       [3.700e+01, 7.000e+00, 1.800e+01, 5.000e+01, 2.000e+00, 1.000e+00,\n",
       "        0.000e+00],\n",
       "       [1.700e+01, 6.000e+00, 2.500e+01, 1.100e+01, 1.100e+01, 0.000e+00,\n",
       "        0.000e+00],\n",
       "       [1.200e+01, 1.000e+00, 0.000e+00, 1.000e+00, 0.000e+00, 1.400e+01,\n",
       "        0.000e+00],\n",
       "       [1.800e+01, 1.000e+00, 5.000e+00, 2.000e+00, 0.000e+00, 0.000e+00,\n",
       "        0.000e+00]])"
      ]
     },
     "execution_count": 43,
     "metadata": {},
     "output_type": "execute_result"
    }
   ],
   "source": [
    "cv_predictionAndLabels = cv_predictions.select(\"prediction\",\"indexed_dx\")\n",
    "preds_and_probs = cv_predictions.select(['indexed_dx', 'probability', 'prediction'])\n",
    "\n",
    "cv_metrics = MulticlassMetrics(cv_predictionAndLabels.rdd)\n",
    "cv_metrics.confusionMatrix().toArray()"
   ]
  },
  {
   "cell_type": "code",
   "execution_count": 44,
   "metadata": {},
   "outputs": [
    {
     "data": {
      "text/plain": [
       "<sklearn.metrics._plot.confusion_matrix.ConfusionMatrixDisplay at 0x7fdd7fbd1f10>"
      ]
     },
     "execution_count": 44,
     "metadata": {},
     "output_type": "execute_result"
    },
    {
     "data": {
      "image/png": "[encoded data removed]",
      "text/plain": [
       "<Figure size 432x288 with 2 Axes>"
      ]
     },
     "metadata": {
      "needs_background": "light"
     },
     "output_type": "display_data"
    }
   ],
   "source": [
    "ConfusionMatrixDisplay(cv_metrics.confusionMatrix().toArray().astype(int)).plot()"
   ]
  },
  {
   "cell_type": "code",
   "execution_count": 45,
   "metadata": {},
   "outputs": [
    {
     "name": "stdout",
     "output_type": "stream",
     "text": [
      "accuracy: 0.779839518555667\n",
      "precision: 0.7531694614238973\n",
      "recall: 0.7798395185556672\n",
      "fMeasure: 0.7542135376151725\n"
     ]
    }
   ],
   "source": [
    "print(\"accuracy: {}\".format(cv_metrics.accuracy))\n",
    "print(\"precision: {}\".format(cv_metrics.weightedPrecision))\n",
    "print(\"recall: {}\".format(cv_metrics.weightedRecall))\n",
    "print(\"fMeasure: {}\".format(cv_metrics.weightedFMeasure()))"
   ]
  },
  {
   "cell_type": "code",
   "execution_count": 46,
   "metadata": {},
   "outputs": [
    {
     "data": {
      "text/html": [
       "<div>\n",
       "<style scoped>\n",
       "    .dataframe tbody tr th:only-of-type {\n",
       "        vertical-align: middle;\n",
       "    }\n",
       "\n",
       "    .dataframe tbody tr th {\n",
       "        vertical-align: top;\n",
       "    }\n",
       "\n",
       "    .dataframe thead th {\n",
       "        text-align: right;\n",
       "    }\n",
       "</style>\n",
       "<table border=\"1\" class=\"dataframe\">\n",
       "  <thead>\n",
       "    <tr style=\"text-align: right;\">\n",
       "      <th></th>\n",
       "      <th>class</th>\n",
       "      <th>f1</th>\n",
       "      <th>precision</th>\n",
       "      <th>recall</th>\n",
       "    </tr>\n",
       "  </thead>\n",
       "  <tbody>\n",
       "    <tr>\n",
       "      <th>0</th>\n",
       "      <td>0.0</td>\n",
       "      <td>0.889670</td>\n",
       "      <td>0.827992</td>\n",
       "      <td>0.961276</td>\n",
       "    </tr>\n",
       "    <tr>\n",
       "      <th>1</th>\n",
       "      <td>1.0</td>\n",
       "      <td>0.531579</td>\n",
       "      <td>0.643312</td>\n",
       "      <td>0.452915</td>\n",
       "    </tr>\n",
       "    <tr>\n",
       "      <th>2</th>\n",
       "      <td>2.0</td>\n",
       "      <td>0.539379</td>\n",
       "      <td>0.553922</td>\n",
       "      <td>0.525581</td>\n",
       "    </tr>\n",
       "    <tr>\n",
       "      <th>3</th>\n",
       "      <td>3.0</td>\n",
       "      <td>0.540541</td>\n",
       "      <td>0.714286</td>\n",
       "      <td>0.434783</td>\n",
       "    </tr>\n",
       "    <tr>\n",
       "      <th>4</th>\n",
       "      <td>4.0</td>\n",
       "      <td>0.247191</td>\n",
       "      <td>0.578947</td>\n",
       "      <td>0.157143</td>\n",
       "    </tr>\n",
       "    <tr>\n",
       "      <th>5</th>\n",
       "      <td>5.0</td>\n",
       "      <td>0.651163</td>\n",
       "      <td>0.933333</td>\n",
       "      <td>0.500000</td>\n",
       "    </tr>\n",
       "    <tr>\n",
       "      <th>6</th>\n",
       "      <td>6.0</td>\n",
       "      <td>0.000000</td>\n",
       "      <td>0.000000</td>\n",
       "      <td>0.000000</td>\n",
       "    </tr>\n",
       "  </tbody>\n",
       "</table>\n",
       "</div>"
      ],
      "text/plain": [
       "   class        f1  precision    recall\n",
       "0    0.0  0.889670   0.827992  0.961276\n",
       "1    1.0  0.531579   0.643312  0.452915\n",
       "2    2.0  0.539379   0.553922  0.525581\n",
       "3    3.0  0.540541   0.714286  0.434783\n",
       "4    4.0  0.247191   0.578947  0.157143\n",
       "5    5.0  0.651163   0.933333  0.500000\n",
       "6    6.0  0.000000   0.000000  0.000000"
      ]
     },
     "execution_count": 46,
     "metadata": {},
     "output_type": "execute_result"
    }
   ],
   "source": [
    "labels = cv_predictionAndLabels.rdd.map(lambda lp: lp.indexed_dx).distinct().collect()\n",
    "cv_df = pd.DataFrame()\n",
    "for label in sorted(labels):\n",
    "    cv_df = cv_df.append({\"class\": label, \n",
    "               \"precision\":cv_metrics.precision(label),\n",
    "               \"recall\":cv_metrics.recall(label),\n",
    "               \"f1\":cv_metrics.fMeasure(label),\n",
    "              }, ignore_index=True)\n",
    "cv_df"
   ]
  },
  {
   "cell_type": "code",
   "execution_count": 47,
   "metadata": {},
   "outputs": [
    {
     "data": {
      "image/png": "[encoded data removed]",
      "text/plain": [
       "<Figure size 432x288 with 1 Axes>"
      ]
     },
     "metadata": {
      "needs_background": "light"
     },
     "output_type": "display_data"
    }
   ],
   "source": [
    "from sklearn.metrics import roc_curve, auc\n",
    "from sklearn.preprocessing import label_binarize\n",
    "import matplotlib.pyplot as plt\n",
    "\n",
    "y_test = list(preds_and_probs.select('indexed_dx').toPandas()['indexed_dx'])\n",
    "y_score = np.array(list(preds_and_probs.select('probability').toPandas()['probability']))\n",
    "y_test = label_binarize(y_test, classes=[0,1,2,3,4,5,6])\n",
    "n_classes = y_test.shape[1]\n",
    "\n",
    "\n",
    "# Compute ROC curve and ROC area for each class\n",
    "fpr = dict()\n",
    "tpr = dict()\n",
    "roc_auc = dict()\n",
    "for i in range(n_classes):\n",
    "    fpr[i], tpr[i], _ = roc_curve(y_test[:, i], y_score[:, i])\n",
    "    roc_auc[i] = auc(fpr[i], tpr[i])\n",
    "\n",
    "# Compute micro-average ROC curve and ROC area\n",
    "fpr[\"micro\"], tpr[\"micro\"], _ = roc_curve(y_test.ravel(), y_score.ravel())\n",
    "roc_auc[\"micro\"] = auc(fpr[\"micro\"], tpr[\"micro\"])\n",
    "\n",
    "# Plot ROC curve\n",
    "plt.figure()\n",
    "plt.plot(fpr[\"micro\"], tpr[\"micro\"],\n",
    "         label='micro-average ROC curve (area = {0:0.2f})'\n",
    "               ''.format(roc_auc[\"micro\"]))\n",
    "for i in range(n_classes):\n",
    "    plt.plot(fpr[i], tpr[i], label='ROC curve of class {0} (area = {1:0.2f})'\n",
    "                                   ''.format(i, roc_auc[i]))\n",
    "\n",
    "plt.plot([0, 1], [0, 1], 'k--')\n",
    "plt.xlim([0.0, 1.0])\n",
    "plt.ylim([0.0, 1.05])\n",
    "plt.xlabel('False Positive Rate')\n",
    "plt.ylabel('True Positive Rate')\n",
    "plt.title('Some extension of Receiver operating characteristic to multi-class')\n",
    "plt.legend(loc=\"lower right\")\n",
    "plt.show()"
   ]
  },
  {
   "cell_type": "code",
   "execution_count": null,
   "metadata": {},
   "outputs": [],
   "source": []
  }
 ],
 "metadata": {
  "kernelspec": {
   "display_name": "DS 5110",
   "language": "python",
   "name": "ds5110"
  },
  "language_info": {
   "codemirror_mode": {
    "name": "ipython",
    "version": 3
   },
   "file_extension": ".py",
   "mimetype": "text/x-python",
   "name": "python",
   "nbconvert_exporter": "python",
   "pygments_lexer": "ipython3",
   "version": "3.7.10"
  }
 },
 "nbformat": 4,
 "nbformat_minor": 4
}
