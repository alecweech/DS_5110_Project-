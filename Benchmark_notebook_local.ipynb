{
 "cells": [
  {
   "cell_type": "markdown",
   "metadata": {},
   "source": [
    "# Benchmarking\n",
    "Just how much do we lose by training models on CPU with a spark cluster vs a local GPU?"
   ]
  },
  {
   "cell_type": "code",
   "execution_count": 1,
   "metadata": {
    "scrolled": true
   },
   "outputs": [
    {
     "name": "stdout",
     "output_type": "stream",
     "text": [
      "Num GPUs Available:  1\n"
     ]
    }
   ],
   "source": [
    "import tensorflow as tf\n",
    "print(\"Num GPUs Available: \", len(tf.config.list_physical_devices('GPU')))\n",
    "import os"
   ]
  },
  {
   "cell_type": "code",
   "execution_count": 2,
   "metadata": {},
   "outputs": [],
   "source": [
    "from tensorflow.keras.applications.resnet50 import preprocess_input"
   ]
  },
  {
   "cell_type": "markdown",
   "metadata": {},
   "source": [
    "# Setup training and test split"
   ]
  },
  {
   "cell_type": "code",
   "execution_count": 3,
   "metadata": {},
   "outputs": [],
   "source": [
    "AUTOTUNE = tf.data.AUTOTUNE"
   ]
  },
  {
   "cell_type": "code",
   "execution_count": 4,
   "metadata": {},
   "outputs": [
    {
     "name": "stdout",
     "output_type": "stream",
     "text": [
      "Found 10015 files belonging to 7 classes.\n",
      "Using 8012 files for training.\n"
     ]
    }
   ],
   "source": [
    "r50_train = tf.keras.preprocessing.image_dataset_from_directory(\n",
    "    'C:\\BioNerds\\organized_images', labels='inferred', label_mode='int',\n",
    "    class_names=None, color_mode='rgb', batch_size=32, image_size=(224,\n",
    "   224), shuffle=True, seed=314, validation_split=.2, subset='training',\n",
    "    interpolation='bilinear', follow_links=False, smart_resize=True\n",
    ")"
   ]
  },
  {
   "cell_type": "code",
   "execution_count": 5,
   "metadata": {},
   "outputs": [
    {
     "name": "stdout",
     "output_type": "stream",
     "text": [
      "Found 10015 files belonging to 7 classes.\n",
      "Using 2003 files for validation.\n"
     ]
    }
   ],
   "source": [
    "r50_test = tf.keras.preprocessing.image_dataset_from_directory(\n",
    "    'C:\\BioNerds\\organized_images', labels='inferred', label_mode='int',\n",
    "    class_names=None, color_mode='rgb', batch_size=32, image_size=(224,\n",
    "   224), shuffle=True, seed=314, validation_split=.2, subset='validation',\n",
    "    interpolation='bilinear', follow_links=False, smart_resize=True\n",
    ")"
   ]
  },
  {
   "cell_type": "code",
   "execution_count": 6,
   "metadata": {},
   "outputs": [],
   "source": [
    "\n",
    "r50_test = r50_test.prefetch(buffer_size=2000)\n",
    "r50_train = r50_train.prefetch(buffer_size=8015)\n",
    "r50_train = r50_train.shuffle(buffer_size=8015, reshuffle_each_iteration=True)"
   ]
  },
  {
   "cell_type": "code",
   "execution_count": 7,
   "metadata": {},
   "outputs": [],
   "source": [
    "#model.fit(model_train, epochs = 300, callbacks=[model_checkpoint_callback], validation_data = model_test)"
   ]
  },
  {
   "cell_type": "markdown",
   "metadata": {},
   "source": [
    "# Define resnet and preprocessing\n",
    "Preprocessing will consider flips and rotations. We will avoid zooms since we want to avoid inadvertently cropping some or all of the lesion. "
   ]
  },
  {
   "cell_type": "code",
   "execution_count": 8,
   "metadata": {},
   "outputs": [],
   "source": [
    "data_augmentation = tf.keras.Sequential([\n",
    "  tf.keras.layers.experimental.preprocessing.RandomFlip('horizontal_and_vertical'),\n",
    "  tf.keras.layers.experimental.preprocessing.RandomRotation(.99),\n",
    "])"
   ]
  },
  {
   "cell_type": "code",
   "execution_count": 9,
   "metadata": {},
   "outputs": [],
   "source": [
    "topless = tf.keras.applications.resnet50.ResNet50(\n",
    "    include_top=False, input_tensor=None, weights = None,\n",
    "    input_shape=None, pooling=None\n",
    ")"
   ]
  },
  {
   "cell_type": "code",
   "execution_count": 10,
   "metadata": {},
   "outputs": [],
   "source": [
    "global_average_layer = tf.keras.layers.GlobalAveragePooling2D()"
   ]
  },
  {
   "cell_type": "code",
   "execution_count": 11,
   "metadata": {},
   "outputs": [],
   "source": [
    "from tensorflow.keras.applications.resnet50 import preprocess_input"
   ]
  },
  {
   "cell_type": "markdown",
   "metadata": {},
   "source": [
    "# Build and Compile the model"
   ]
  },
  {
   "cell_type": "code",
   "execution_count": 16,
   "metadata": {},
   "outputs": [],
   "source": [
    "inputs = tf.keras.Input(shape=(224, 224, 3))\n",
    "x = tf.image.per_image_standardization(inputs)\n",
    "x = data_augmentation(x)\n",
    "x = topless(x)\n",
    "x = global_average_layer(x)\n",
    "x = tf.keras.layers.Dense(1024, activation='relu')(x)\n",
    "x = tf.keras.layers.Dropout(0.1)(x)\n",
    "x = tf.keras.layers.Dense(256, activation='relu')(x)\n",
    "outputs = tf.keras.layers.Dense(7)(x)\n",
    "#x = tf.keras.layers.Dense(256, activation='relu')(x)\n",
    "#x = tf.keras.layers.Dropout(0.5)(x)\n",
    "#x = tf.keras.layers.Dense(256, activation='relu')(x)\n",
    "#x = tf.keras.layers.Dense(64, activation='relu')(x)\n",
    "#x = tf.keras.layers.Dense(7, activation='softmax')(x)\n",
    "topless_mod = tf.keras.Model(inputs, outputs)"
   ]
  },
  {
   "cell_type": "code",
   "execution_count": 13,
   "metadata": {},
   "outputs": [],
   "source": [
    "#Save the checkpoints in case this model suddenly performs super well or something\n",
    "checkpoint_filepath = './oh-god-its-the-benchmark-dont-overwrite-stuff-{epoch:04d}.ckpt'\n",
    "model_checkpoint_callback = tf.keras.callbacks.ModelCheckpoint(\n",
    "    filepath=checkpoint_filepath,\n",
    "    save_weights_only=True,\n",
    "    monitor='val_accuracy',\n",
    "    mode='max',\n",
    "    save_best_only=True)\n"
   ]
  },
  {
   "cell_type": "code",
   "execution_count": 18,
   "metadata": {},
   "outputs": [],
   "source": [
    "base_learning_rate = 0.001\n",
    "topless_mod.compile(optimizer=tf.keras.optimizers.Adam(learning_rate=base_learning_rate),\n",
    "              loss=tf.keras.losses.SparseCategoricalCrossentropy(),\n",
    "              metrics=['accuracy'])"
   ]
  },
  {
   "cell_type": "markdown",
   "metadata": {},
   "source": [
    "# Run 5 epochs and time it"
   ]
  },
  {
   "cell_type": "code",
   "execution_count": 25,
   "metadata": {},
   "outputs": [
    {
     "name": "stdout",
     "output_type": "stream",
     "text": [
      "Epoch 1/5\n",
      "251/251 [==============================] - 48s 158ms/step - loss: 5.2969 - accuracy: 0.6714 - val_loss: 5.4478 - val_accuracy: 0.6620\n",
      "Epoch 2/5\n",
      "251/251 [==============================] - 43s 153ms/step - loss: 5.2969 - accuracy: 0.6714 - val_loss: 5.4478 - val_accuracy: 0.6620\n",
      "Epoch 3/5\n",
      "251/251 [==============================] - 43s 154ms/step - loss: 5.2969 - accuracy: 0.6714 - val_loss: 5.4478 - val_accuracy: 0.6620\n",
      "Epoch 4/5\n",
      "251/251 [==============================] - 43s 153ms/step - loss: 5.2969 - accuracy: 0.6714 - val_loss: 5.4478 - val_accuracy: 0.6620\n",
      "Epoch 5/5\n",
      "251/251 [==============================] - 43s 153ms/step - loss: 5.2969 - accuracy: 0.6714 - val_loss: 5.4478 - val_accuracy: 0.6620\n",
      "Wall time: 3min 38s\n"
     ]
    },
    {
     "data": {
      "text/plain": [
       "<keras.callbacks.History at 0x2395fc74848>"
      ]
     },
     "execution_count": 25,
     "metadata": {},
     "output_type": "execute_result"
    }
   ],
   "source": [
    "\n",
    "\n",
    "%time topless_mod.fit(r50_train, epochs = 5, validation_data = r50_test, callbacks=[model_checkpoint_callback])"
   ]
  },
  {
   "cell_type": "code",
   "execution_count": 26,
   "metadata": {},
   "outputs": [
    {
     "name": "stdout",
     "output_type": "stream",
     "text": [
      "Now that wasn't so bad\n"
     ]
    }
   ],
   "source": [
    "print(\"Now that wasn't so bad\")"
   ]
  }
 ],
 "metadata": {
  "kernelspec": {
   "display_name": "Python 3",
   "language": "python",
   "name": "python3"
  },
  "language_info": {
   "codemirror_mode": {
    "name": "ipython",
    "version": 3
   },
   "file_extension": ".py",
   "mimetype": "text/x-python",
   "name": "python",
   "nbconvert_exporter": "python",
   "pygments_lexer": "ipython3",
   "version": "3.7.4"
  }
 },
 "nbformat": 4,
 "nbformat_minor": 2
}
