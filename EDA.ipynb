{
 "cells": [
  {
   "cell_type": "markdown",
   "metadata": {},
   "source": [
    "# Set up Spark and import libraries"
   ]
  },
  {
   "cell_type": "code",
   "execution_count": 1,
   "metadata": {},
   "outputs": [],
   "source": [
    "from pyspark.sql import SparkSession\n",
    "\n",
    "spark = SparkSession \\\n",
    "    .builder\\\n",
    "    .config(\"spark.executor.memory\", '32g') \\\n",
    "    .config('spark.executor.cores', '2') \\\n",
    "    .config('spark.cores.max', '8') \\\n",
    "    .config(\"spark.driver.memory\",'32g') \\\n",
    "    .config(\"spark.sql.broadcastTimeout\", \"1000\") \\\n",
    "    .getOrCreate()\n",
    "\n",
    "sc = spark.sparkContext"
   ]
  },
  {
   "cell_type": "code",
   "execution_count": 2,
   "metadata": {},
   "outputs": [],
   "source": [
    "from pyspark.ml import Pipeline\n",
    "from pyspark.ml.classification import DecisionTreeClassifier\n",
    "from pyspark.ml.feature import StringIndexer, VectorIndexer\n",
    "from pyspark.ml.evaluation import MulticlassClassificationEvaluator\n",
    "from pyspark.ml.classification import LogisticRegression\n",
    "from pyspark.ml.linalg import Vectors, VectorUDT\n",
    "from pyspark.ml.feature import VectorAssembler\n",
    "import pandas as pd\n",
    "from PIL import Image\n",
    "import numpy as np\n",
    "import io\n",
    "import tensorflow as tf\n",
    "from tensorflow.keras.applications.resnet50 import ResNet50, preprocess_input\n",
    "from tensorflow.keras.preprocessing.image import img_to_array\n",
    "from pyspark.sql.functions import col, pandas_udf, PandasUDFType\n",
    "import os\n",
    "import pyspark.sql.functions as F\n",
    "from pyspark.mllib.linalg import Vectors\n",
    "\n",
    "\n",
    "%matplotlib inline"
   ]
  },
  {
   "cell_type": "code",
   "execution_count": 3,
   "metadata": {},
   "outputs": [],
   "source": [
    "from pyspark.sql.functions import udf\n",
    "from pyspark.sql.types import StructType, StructField, IntegerType, FloatType, StringType\n",
    "import re"
   ]
  },
  {
   "cell_type": "code",
   "execution_count": 4,
   "metadata": {},
   "outputs": [],
   "source": [
    "data_dir = \"/project/ds5559/BioNerds/ham\"\n",
    "os.chdir('/project/ds5559/BioNerds/ham')"
   ]
  },
  {
   "cell_type": "code",
   "execution_count": 5,
   "metadata": {},
   "outputs": [
    {
     "name": "stdout",
     "output_type": "stream",
     "text": [
      "HAM10000_images_part_1\tarchive.zip\t      hmnist_8_8_L.csv\n",
      "HAM10000_images_part_2\thmnist_28_28_L.csv    hmnist_8_8_RGB.csv\n",
      "HAM10000_metadata.csv\thmnist_28_28_RGB.csv\n"
     ]
    }
   ],
   "source": [
    "!ls"
   ]
  },
  {
   "cell_type": "markdown",
   "metadata": {},
   "source": [
    "# Spark read images "
   ]
  },
  {
   "cell_type": "code",
   "execution_count": 6,
   "metadata": {},
   "outputs": [],
   "source": [
    "images1 = spark.read.format(\"binaryFile\") \\\n",
    "  .option(\"pathGlobFilter\", \"*.jpg\") \\\n",
    "  .option(\"recursiveFileLookup\", \"true\") \\\n",
    "  .load(\"/project/ds5559/BioNerds/ham/HAM10000_images_part_1\")"
   ]
  },
  {
   "cell_type": "code",
   "execution_count": 7,
   "metadata": {},
   "outputs": [],
   "source": [
    "images2 = spark.read.format(\"binaryFile\") \\\n",
    "  .option(\"pathGlobFilter\", \"*.jpg\") \\\n",
    "  .option(\"recursiveFileLookup\", \"true\") \\\n",
    "  .load(\"/project/ds5559/BioNerds/ham/HAM10000_images_part_2\")"
   ]
  },
  {
   "cell_type": "code",
   "execution_count": 8,
   "metadata": {},
   "outputs": [
    {
     "name": "stdout",
     "output_type": "stream",
     "text": [
      "+--------------------+-------------------+------+--------------------+\n",
      "|                path|   modificationTime|length|             content|\n",
      "+--------------------+-------------------+------+--------------------+\n",
      "|file:/project/ds5...|2019-10-06 20:55:50|459172|[FF D8 FF DB 00 4...|\n",
      "|file:/project/ds5...|2019-10-06 20:56:18|447988|[FF D8 FF DB 00 4...|\n",
      "+--------------------+-------------------+------+--------------------+\n",
      "only showing top 2 rows\n",
      "\n"
     ]
    }
   ],
   "source": [
    "images1.show(2)"
   ]
  },
  {
   "cell_type": "markdown",
   "metadata": {},
   "source": [
    "# load ResNet50 to transfer Images"
   ]
  },
  {
   "cell_type": "code",
   "execution_count": 9,
   "metadata": {},
   "outputs": [],
   "source": [
    "model = ResNet50(include_top=False)"
   ]
  },
  {
   "cell_type": "code",
   "execution_count": 10,
   "metadata": {},
   "outputs": [],
   "source": [
    "bc_model_weights = sc.broadcast(model.get_weights())\n",
    "\n",
    "def model_fn():\n",
    "    \"\"\"\n",
    "    Returns a ResNet50 model with top layer removed and broadcasted pretrained weights.\n",
    "    \"\"\"\n",
    "    model = ResNet50(weights=None, include_top=False)\n",
    "    model.set_weights(bc_model_weights.value)\n",
    "    return model\n"
   ]
  },
  {
   "cell_type": "code",
   "execution_count": 11,
   "metadata": {},
   "outputs": [],
   "source": [
    "def preprocess(content):\n",
    "    \"\"\"\n",
    "      Preprocesses raw image bytes for prediction.\n",
    "    \"\"\"\n",
    "    img = Image.open(io.BytesIO(content)).resize([224, 224])\n",
    "    arr = img_to_array(img)\n",
    "    return preprocess_input(arr)\n",
    "\n",
    "def featurize_series(model, content_series):\n",
    "    \"\"\"\n",
    "    Featurize a pd.Series of raw images using the input model.\n",
    "    :return: a pd.Series of image features\n",
    "    \"\"\"\n",
    "    input = np.stack(content_series.map(preprocess))\n",
    "    preds = model.predict(input)\n",
    "    # For some layers, output features will be multi-dimensional tensors.\n",
    "    # We flatten the feature tensors to vectors for easier storage in Spark DataFrames.\n",
    "    output = [p.flatten() for p in preds]\n",
    "    return pd.Series(output)\n"
   ]
  },
  {
   "cell_type": "code",
   "execution_count": 12,
   "metadata": {},
   "outputs": [
    {
     "name": "stderr",
     "output_type": "stream",
     "text": [
      "/usr/local/spark/python/pyspark/sql/pandas/functions.py:386: UserWarning: In Python 3.6+ and Spark 3.0+, it is preferred to specify type hints for pandas UDF instead of specifying pandas UDF type which will be deprecated in the future releases. See SPARK-28264 for more details.\n",
      "  \"in the future releases. See SPARK-28264 for more details.\", UserWarning)\n"
     ]
    }
   ],
   "source": [
    "@pandas_udf('array<float>', PandasUDFType.SCALAR_ITER)\n",
    "def featurize_udf(content_series_iter):\n",
    "  '''\n",
    "  This method is a Scalar Iterator pandas UDF wrapping our featurization function.\n",
    "  The decorator specifies that this returns a Spark DataFrame column of type ArrayType(FloatType).\n",
    "  \n",
    "  :param content_series_iter: This argument is an iterator over batches of data, where each batch\n",
    "                              is a pandas Series of image data.\n",
    "  '''\n",
    "  # With Scalar Iterator pandas UDFs, we can load the model once and then re-use it\n",
    "  # for multiple data batches.  This amortizes the overhead of loading big models.\n",
    "  model = model_fn()\n",
    "  for content_series in content_series_iter:\n",
    "    yield featurize_series(model, content_series)"
   ]
  },
  {
   "cell_type": "markdown",
   "metadata": {},
   "source": [
    "# Transfer Image to Vectors through ResNet50"
   ]
  },
  {
   "cell_type": "code",
   "execution_count": 13,
   "metadata": {},
   "outputs": [],
   "source": [
    "# Pandas UDFs on large records (e.g., very large images) can run into Out Of Memory (OOM) errors.\n",
    "# If you hit such errors in the cell below, try reducing the Arrow batch size via `maxRecordsPerBatch`.\n",
    "spark.conf.set(\"spark.sql.execution.arrow.maxRecordsPerBatch\", \"1024\")\n",
    "# We can now run featurization on our entire Spark DataFrame.\n",
    "# NOTE: This can take a long time (about 10 minutes) since it applies a large model to the full dataset.\n",
    "features_df1 = images1.repartition(16).select(col(\"path\"), featurize_udf(\"content\").alias(\"features\"))\n",
    "#features_df.write.mode(\"overwrite\").parquet(\"dbfs:/ml/tmp/flower_photos_features\")\n",
    "features_df2 = images2.repartition(16).select(col(\"path\"), featurize_udf(\"content\").alias(\"features\"))"
   ]
  },
  {
   "cell_type": "code",
   "execution_count": 14,
   "metadata": {},
   "outputs": [
    {
     "name": "stdout",
     "output_type": "stream",
     "text": [
      "number of pictures in folder 1: 5000\n",
      "number of pictures in folder 2: 5015\n"
     ]
    }
   ],
   "source": [
    "print(\"number of pictures in folder 1: {}\".format(features_df1.count()))\n",
    "print(\"number of pictures in folder 2: {}\".format(features_df2.count()))"
   ]
  },
  {
   "cell_type": "code",
   "execution_count": 15,
   "metadata": {},
   "outputs": [
    {
     "name": "stdout",
     "output_type": "stream",
     "text": [
      "['path', 'features']\n",
      "['path', 'features']\n"
     ]
    }
   ],
   "source": [
    "print(features_df1.columns)\n",
    "print(features_df2.columns)"
   ]
  },
  {
   "cell_type": "code",
   "execution_count": 16,
   "metadata": {},
   "outputs": [
    {
     "name": "stdout",
     "output_type": "stream",
     "text": [
      "number of pictures in combined dataframe: 10015\n"
     ]
    }
   ],
   "source": [
    "features_df = features_df1.union(features_df2)\n",
    "print(\"number of pictures in combined dataframe: {}\".format(features_df.count()))"
   ]
  },
  {
   "cell_type": "code",
   "execution_count": 17,
   "metadata": {},
   "outputs": [
    {
     "data": {
      "text/plain": [
       "DataFrame[path: string, features: array<float>]"
      ]
     },
     "execution_count": 17,
     "metadata": {},
     "output_type": "execute_result"
    }
   ],
   "source": [
    "features_df.persist()"
   ]
  },
  {
   "cell_type": "code",
   "execution_count": null,
   "metadata": {},
   "outputs": [],
   "source": []
  },
  {
   "cell_type": "markdown",
   "metadata": {},
   "source": [
    "# Read metadata.csv file"
   ]
  },
  {
   "cell_type": "code",
   "execution_count": 18,
   "metadata": {},
   "outputs": [],
   "source": [
    "meta_df = spark.read.csv('/project/ds5559/BioNerds/ham/HAM10000_metadata.csv', header = True, inferSchema = True)"
   ]
  },
  {
   "cell_type": "code",
   "execution_count": 19,
   "metadata": {},
   "outputs": [
    {
     "data": {
      "text/plain": [
       "10015"
      ]
     },
     "execution_count": 19,
     "metadata": {},
     "output_type": "execute_result"
    }
   ],
   "source": [
    "meta_df.count()"
   ]
  },
  {
   "cell_type": "code",
   "execution_count": 20,
   "metadata": {},
   "outputs": [
    {
     "data": {
      "text/plain": [
       "<bound method DataFrame.cache of DataFrame[lesion_id: string, image_id: string, dx: string, dx_type: string, age: double, sex: string, localization: string]>"
      ]
     },
     "execution_count": 20,
     "metadata": {},
     "output_type": "execute_result"
    }
   ],
   "source": [
    "meta_df.cache"
   ]
  },
  {
   "cell_type": "code",
   "execution_count": 21,
   "metadata": {},
   "outputs": [
    {
     "name": "stdout",
     "output_type": "stream",
     "text": [
      "+-----------+------------+---+-------+----+------+---------------+\n",
      "|  lesion_id|    image_id| dx|dx_type| age|   sex|   localization|\n",
      "+-----------+------------+---+-------+----+------+---------------+\n",
      "|HAM_0005132|ISIC_0025837|bkl|  histo|70.0|female|           back|\n",
      "|HAM_0007571|ISIC_0029836|bkl|  histo|70.0|  male|          chest|\n",
      "|HAM_0003847|ISIC_0028560|bkl|  histo|85.0|  male|upper extremity|\n",
      "|HAM_0007010|ISIC_0031691|bkl|  histo|40.0|  male|          trunk|\n",
      "|HAM_0001221|ISIC_0029301|bkl|  histo|45.0|  male|upper extremity|\n",
      "+-----------+------------+---+-------+----+------+---------------+\n",
      "only showing top 5 rows\n",
      "\n"
     ]
    }
   ],
   "source": [
    "meta_df.sample(0.1).show(5)"
   ]
  },
  {
   "cell_type": "markdown",
   "metadata": {},
   "source": [
    "# extract image names from path"
   ]
  },
  {
   "cell_type": "code",
   "execution_count": 22,
   "metadata": {},
   "outputs": [],
   "source": [
    "pathToID = udf(lambda z: toClass(z), StringType())\n",
    "spark.udf.register(\"pathToID\", pathToID)\n",
    "def toClass(s):\n",
    "    p = re.compile(\"ISIC_[0-9]*\")\n",
    "    result = p.search(s)\n",
    "    return(result.group(0))\n"
   ]
  },
  {
   "cell_type": "code",
   "execution_count": 23,
   "metadata": {},
   "outputs": [],
   "source": [
    "new = features_df.withColumn('ID', pathToID('path'))#class_from_path(col('path')))"
   ]
  },
  {
   "cell_type": "code",
   "execution_count": 24,
   "metadata": {},
   "outputs": [
    {
     "name": "stdout",
     "output_type": "stream",
     "text": [
      "+------------+\n",
      "|          ID|\n",
      "+------------+\n",
      "|ISIC_0026343|\n",
      "|ISIC_0027333|\n",
      "|ISIC_0026964|\n",
      "|ISIC_0028228|\n",
      "|ISIC_0029303|\n",
      "+------------+\n",
      "only showing top 5 rows\n",
      "\n"
     ]
    }
   ],
   "source": [
    "new.select('ID').show(5)"
   ]
  },
  {
   "cell_type": "code",
   "execution_count": 25,
   "metadata": {},
   "outputs": [
    {
     "data": {
      "text/plain": [
       "<bound method DataFrame.cache of DataFrame[path: string, features: array<float>, ID: string]>"
      ]
     },
     "execution_count": 25,
     "metadata": {},
     "output_type": "execute_result"
    }
   ],
   "source": [
    "new.cache"
   ]
  },
  {
   "cell_type": "code",
   "execution_count": 26,
   "metadata": {},
   "outputs": [
    {
     "data": {
      "text/plain": [
       "10015"
      ]
     },
     "execution_count": 26,
     "metadata": {},
     "output_type": "execute_result"
    }
   ],
   "source": [
    "new.select('ID').count()"
   ]
  },
  {
   "cell_type": "markdown",
   "metadata": {},
   "source": [
    "# Join Image datatable with metatable"
   ]
  },
  {
   "cell_type": "code",
   "execution_count": 27,
   "metadata": {},
   "outputs": [],
   "source": [
    "all_df = new.join(meta_df, new.ID == meta_df.image_id, 'left_outer')"
   ]
  },
  {
   "cell_type": "code",
   "execution_count": 28,
   "metadata": {},
   "outputs": [
    {
     "data": {
      "text/plain": [
       "10015"
      ]
     },
     "execution_count": 28,
     "metadata": {},
     "output_type": "execute_result"
    }
   ],
   "source": [
    "all_df.select('ID').count()"
   ]
  },
  {
   "cell_type": "code",
   "execution_count": 29,
   "metadata": {},
   "outputs": [
    {
     "data": {
      "text/plain": [
       "<bound method DataFrame.cache of DataFrame[path: string, features: array<float>, ID: string, lesion_id: string, image_id: string, dx: string, dx_type: string, age: double, sex: string, localization: string]>"
      ]
     },
     "execution_count": 29,
     "metadata": {},
     "output_type": "execute_result"
    }
   ],
   "source": [
    "all_df.cache"
   ]
  },
  {
   "cell_type": "code",
   "execution_count": 30,
   "metadata": {},
   "outputs": [
    {
     "name": "stdout",
     "output_type": "stream",
     "text": [
      "root\n",
      " |-- path: string (nullable = true)\n",
      " |-- features: array (nullable = true)\n",
      " |    |-- element: float (containsNull = true)\n",
      " |-- ID: string (nullable = true)\n",
      " |-- lesion_id: string (nullable = true)\n",
      " |-- image_id: string (nullable = true)\n",
      " |-- dx: string (nullable = true)\n",
      " |-- dx_type: string (nullable = true)\n",
      " |-- age: double (nullable = true)\n",
      " |-- sex: string (nullable = true)\n",
      " |-- localization: string (nullable = true)\n",
      "\n"
     ]
    }
   ],
   "source": [
    "all_df.printSchema()"
   ]
  },
  {
   "cell_type": "markdown",
   "metadata": {},
   "source": [
    "# Statistic summary of each feature"
   ]
  },
  {
   "cell_type": "code",
   "execution_count": 31,
   "metadata": {},
   "outputs": [
    {
     "name": "stdout",
     "output_type": "stream",
     "text": [
      "+-------+--------------------+------------+-----------+------------+-----+--------+------------------+-------+---------------+\n",
      "|summary|                path|          ID|  lesion_id|    image_id|   dx| dx_type|               age|    sex|   localization|\n",
      "+-------+--------------------+------------+-----------+------------+-----+--------+------------------+-------+---------------+\n",
      "|  count|               10015|       10015|      10015|       10015|10015|   10015|              9958|  10015|          10015|\n",
      "|   mean|                null|        null|       null|        null| null|    null|51.863828077927295|   null|           null|\n",
      "| stddev|                null|        null|       null|        null| null|    null| 16.96861369249536|   null|           null|\n",
      "|    min|file:/project/ds5...|ISIC_0024306|HAM_0000000|ISIC_0024306|akiec|confocal|               0.0| female|        abdomen|\n",
      "|    max|file:/project/ds5...|ISIC_0034320|HAM_0007628|ISIC_0034320| vasc|   histo|              85.0|unknown|upper extremity|\n",
      "+-------+--------------------+------------+-----------+------------+-----+--------+------------------+-------+---------------+\n",
      "\n"
     ]
    }
   ],
   "source": [
    "all_df.describe().show()"
   ]
  },
  {
   "cell_type": "markdown",
   "metadata": {},
   "source": [
    "# Check null value of each feature"
   ]
  },
  {
   "cell_type": "code",
   "execution_count": 32,
   "metadata": {},
   "outputs": [],
   "source": [
    "def NullorNoNull(df, a):\n",
    "    df.filter(df[a].isNull()).show()"
   ]
  },
  {
   "cell_type": "code",
   "execution_count": 33,
   "metadata": {},
   "outputs": [
    {
     "name": "stdout",
     "output_type": "stream",
     "text": [
      "checking null values in column: path\n",
      "+----+--------+---+---------+--------+---+-------+---+---+------------+\n",
      "|path|features| ID|lesion_id|image_id| dx|dx_type|age|sex|localization|\n",
      "+----+--------+---+---------+--------+---+-------+---+---+------------+\n",
      "+----+--------+---+---------+--------+---+-------+---+---+------------+\n",
      "\n",
      "checking null values in column: features\n",
      "+----+--------+---+---------+--------+---+-------+---+---+------------+\n",
      "|path|features| ID|lesion_id|image_id| dx|dx_type|age|sex|localization|\n",
      "+----+--------+---+---------+--------+---+-------+---+---+------------+\n",
      "+----+--------+---+---------+--------+---+-------+---+---+------------+\n",
      "\n",
      "checking null values in column: ID\n",
      "+----+--------+---+---------+--------+---+-------+---+---+------------+\n",
      "|path|features| ID|lesion_id|image_id| dx|dx_type|age|sex|localization|\n",
      "+----+--------+---+---------+--------+---+-------+---+---+------------+\n",
      "+----+--------+---+---------+--------+---+-------+---+---+------------+\n",
      "\n",
      "checking null values in column: lesion_id\n",
      "+----+--------+---+---------+--------+---+-------+---+---+------------+\n",
      "|path|features| ID|lesion_id|image_id| dx|dx_type|age|sex|localization|\n",
      "+----+--------+---+---------+--------+---+-------+---+---+------------+\n",
      "+----+--------+---+---------+--------+---+-------+---+---+------------+\n",
      "\n",
      "checking null values in column: image_id\n",
      "+----+--------+---+---------+--------+---+-------+---+---+------------+\n",
      "|path|features| ID|lesion_id|image_id| dx|dx_type|age|sex|localization|\n",
      "+----+--------+---+---------+--------+---+-------+---+---+------------+\n",
      "+----+--------+---+---------+--------+---+-------+---+---+------------+\n",
      "\n",
      "checking null values in column: dx\n",
      "+----+--------+---+---------+--------+---+-------+---+---+------------+\n",
      "|path|features| ID|lesion_id|image_id| dx|dx_type|age|sex|localization|\n",
      "+----+--------+---+---------+--------+---+-------+---+---+------------+\n",
      "+----+--------+---+---------+--------+---+-------+---+---+------------+\n",
      "\n",
      "checking null values in column: dx_type\n",
      "+----+--------+---+---------+--------+---+-------+---+---+------------+\n",
      "|path|features| ID|lesion_id|image_id| dx|dx_type|age|sex|localization|\n",
      "+----+--------+---+---------+--------+---+-------+---+---+------------+\n",
      "+----+--------+---+---------+--------+---+-------+---+---+------------+\n",
      "\n",
      "checking null values in column: age\n",
      "+--------------------+--------------------+------------+-----------+------------+---+---------+----+-------+---------------+\n",
      "|                path|            features|          ID|  lesion_id|    image_id| dx|  dx_type| age|    sex|   localization|\n",
      "+--------------------+--------------------+------------+-----------+------------+---+---------+----+-------+---------------+\n",
      "|file:/project/ds5...|[0.0, 0.0, 0.0, 0...|ISIC_0027040|HAM_0004924|ISIC_0027040| nv|    histo|null| female|          trunk|\n",
      "|file:/project/ds5...|[0.0, 0.0, 0.0, 0...|ISIC_0027431|HAM_0000698|ISIC_0027431| nv|consensus|null|   male|           foot|\n",
      "|file:/project/ds5...|[0.0, 0.0, 0.0, 0...|ISIC_0025009|HAM_0007278|ISIC_0025009| nv|    histo|null| female|          chest|\n",
      "|file:/project/ds5...|[0.0, 0.0, 0.0, 0...|ISIC_0033417|HAM_0007301|ISIC_0033417| nv|consensus|null|unknown|        unknown|\n",
      "|file:/project/ds5...|[0.0, 0.0, 0.0, 0...|ISIC_0034080|HAM_0000421|ISIC_0034080| nv|consensus|null|unknown|        unknown|\n",
      "|file:/project/ds5...|[0.0, 0.0, 0.0, 0...|ISIC_0033751|HAM_0005257|ISIC_0033751| nv|consensus|null|unknown|        unknown|\n",
      "|file:/project/ds5...|[0.0, 0.0, 0.0, 0...|ISIC_0033190|HAM_0004670|ISIC_0033190| nv|consensus|null|unknown|        unknown|\n",
      "|file:/project/ds5...|[0.0, 0.0, 0.0, 0...|ISIC_0034186|HAM_0000825|ISIC_0034186|bkl|consensus|null|unknown|        unknown|\n",
      "|file:/project/ds5...|[0.0, 0.0, 0.0, 0...|ISIC_0033391|HAM_0001186|ISIC_0033391|bkl|consensus|null|unknown|        unknown|\n",
      "|file:/project/ds5...|[0.0, 1.0002487, ...|ISIC_0033064|HAM_0001209|ISIC_0033064| nv|consensus|null|unknown|        unknown|\n",
      "|file:/project/ds5...|[0.0, 0.0, 0.0, 0...|ISIC_0032945|HAM_0003696|ISIC_0032945| nv|consensus|null|unknown|        unknown|\n",
      "|file:/project/ds5...|[0.6908019, 0.0, ...|ISIC_0032578|HAM_0007460|ISIC_0032578| nv|consensus|null|unknown|        unknown|\n",
      "|file:/project/ds5...|[0.0, 0.0, 0.0, 0...|ISIC_0034019|HAM_0000627|ISIC_0034019| nv|consensus|null|unknown|        unknown|\n",
      "|file:/project/ds5...|[0.0, 0.0, 0.0, 0...|ISIC_0033597|HAM_0005439|ISIC_0033597| nv|consensus|null|unknown|        unknown|\n",
      "|file:/project/ds5...|[0.0, 0.0, 0.0, 2...|ISIC_0033330|HAM_0005156|ISIC_0033330| nv|consensus|null|unknown|        unknown|\n",
      "|file:/project/ds5...|[0.0, 0.0, 0.0, 0...|ISIC_0033685|HAM_0000372|ISIC_0033685|bkl|consensus|null|unknown|        unknown|\n",
      "|file:/project/ds5...|[0.0, 0.0, 0.0, 0...|ISIC_0033631|HAM_0000948|ISIC_0033631|bkl|consensus|null|unknown|        unknown|\n",
      "|file:/project/ds5...|[0.0, 0.0, 0.0, 0...|ISIC_0033442|HAM_0002417|ISIC_0033442| nv|    histo|null|   male|upper extremity|\n",
      "|file:/project/ds5...|[0.0, 0.0, 0.0, 0...|ISIC_0032814|HAM_0001366|ISIC_0032814| nv|consensus|null|unknown|        unknown|\n",
      "|file:/project/ds5...|[0.0, 0.0, 0.0, 0...|ISIC_0033375|HAM_0001147|ISIC_0033375| nv|consensus|null|unknown|        unknown|\n",
      "+--------------------+--------------------+------------+-----------+------------+---+---------+----+-------+---------------+\n",
      "only showing top 20 rows\n",
      "\n",
      "checking null values in column: sex\n",
      "+----+--------+---+---------+--------+---+-------+---+---+------------+\n",
      "|path|features| ID|lesion_id|image_id| dx|dx_type|age|sex|localization|\n",
      "+----+--------+---+---------+--------+---+-------+---+---+------------+\n",
      "+----+--------+---+---------+--------+---+-------+---+---+------------+\n",
      "\n",
      "checking null values in column: localization\n",
      "+----+--------+---+---------+--------+---+-------+---+---+------------+\n",
      "|path|features| ID|lesion_id|image_id| dx|dx_type|age|sex|localization|\n",
      "+----+--------+---+---------+--------+---+-------+---+---+------------+\n",
      "+----+--------+---+---------+--------+---+-------+---+---+------------+\n",
      "\n"
     ]
    }
   ],
   "source": [
    "for i in all_df.columns:\n",
    "    print(\"checking null values in column: {}\".format(i))\n",
    "    NullorNoNull(all_df, i)"
   ]
  },
  {
   "cell_type": "markdown",
   "metadata": {},
   "source": [
    "### Count null values in \"Age\""
   ]
  },
  {
   "cell_type": "code",
   "execution_count": 34,
   "metadata": {},
   "outputs": [
    {
     "data": {
      "text/plain": [
       "57"
      ]
     },
     "execution_count": 34,
     "metadata": {},
     "output_type": "execute_result"
    }
   ],
   "source": [
    "all_df.filter(all_df['age'].isNull()).count()"
   ]
  },
  {
   "cell_type": "markdown",
   "metadata": {},
   "source": [
    "### Histogram of \"Age\""
   ]
  },
  {
   "cell_type": "code",
   "execution_count": 35,
   "metadata": {},
   "outputs": [
    {
     "data": {
      "text/plain": [
       "<AxesSubplot:ylabel='Frequency'>"
      ]
     },
     "execution_count": 35,
     "metadata": {},
     "output_type": "execute_result"
    },
    {
     "data": {
      "image/png": "[encoded data removed]",
      "text/plain": [
       "<Figure size 432x288 with 1 Axes>"
      ]
     },
     "metadata": {
      "needs_background": "light"
     },
     "output_type": "display_data"
    }
   ],
   "source": [
    "all_df.filter(all_df['age'].isNotNull()).select('age').toPandas().plot.hist()"
   ]
  },
  {
   "cell_type": "code",
   "execution_count": 36,
   "metadata": {},
   "outputs": [
    {
     "name": "stdout",
     "output_type": "stream",
     "text": [
      "+----+-------+\n",
      "| age|    sex|\n",
      "+----+-------+\n",
      "|null| female|\n",
      "|null|   male|\n",
      "|null| female|\n",
      "|null|unknown|\n",
      "|null|unknown|\n",
      "|null|unknown|\n",
      "|null|unknown|\n",
      "|null|unknown|\n",
      "|null|unknown|\n",
      "|null|unknown|\n",
      "|null|unknown|\n",
      "|null|unknown|\n",
      "|null|unknown|\n",
      "|null|unknown|\n",
      "|null|unknown|\n",
      "|null|unknown|\n",
      "|null|unknown|\n",
      "|null|   male|\n",
      "|null|unknown|\n",
      "|null|unknown|\n",
      "|null|unknown|\n",
      "|null|unknown|\n",
      "|null|unknown|\n",
      "|null|unknown|\n",
      "|null|unknown|\n",
      "|null|unknown|\n",
      "|null|unknown|\n",
      "|null|unknown|\n",
      "|null|unknown|\n",
      "|null|   male|\n",
      "|null|   male|\n",
      "|null|unknown|\n",
      "|null|unknown|\n",
      "|null|unknown|\n",
      "|null|unknown|\n",
      "|null|unknown|\n",
      "|null|   male|\n",
      "|null|unknown|\n",
      "|null|unknown|\n",
      "|null|unknown|\n",
      "|null| female|\n",
      "|null|unknown|\n",
      "|null|unknown|\n",
      "|null|unknown|\n",
      "|null|   male|\n",
      "|null| female|\n",
      "|null|unknown|\n",
      "|null|unknown|\n",
      "|null|unknown|\n",
      "|null|unknown|\n",
      "|null|unknown|\n",
      "|null|unknown|\n",
      "|null|unknown|\n",
      "|null|unknown|\n",
      "|null|unknown|\n",
      "|null|unknown|\n",
      "|null|unknown|\n",
      "+----+-------+\n",
      "\n"
     ]
    }
   ],
   "source": [
    "all_df.filter(all_df['age'].isNull()).select(['age','sex']).show(57)"
   ]
  },
  {
   "cell_type": "code",
   "execution_count": 37,
   "metadata": {},
   "outputs": [
    {
     "name": "stdout",
     "output_type": "stream",
     "text": [
      "+-------+-----+\n",
      "|    sex|count|\n",
      "+-------+-----+\n",
      "|unknown|   57|\n",
      "| female| 4552|\n",
      "|   male| 5406|\n",
      "+-------+-----+\n",
      "\n"
     ]
    }
   ],
   "source": [
    "all_df.groupBy('sex').count().show()"
   ]
  },
  {
   "cell_type": "markdown",
   "metadata": {},
   "source": [
    "### Histogram of \"sex\""
   ]
  },
  {
   "cell_type": "code",
   "execution_count": 38,
   "metadata": {},
   "outputs": [
    {
     "data": {
      "text/plain": [
       "<AxesSubplot:xlabel='sex'>"
      ]
     },
     "execution_count": 38,
     "metadata": {},
     "output_type": "execute_result"
    },
    {
     "data": {
      "image/png": "[encoded data removed]",
      "text/plain": [
       "<Figure size 432x288 with 1 Axes>"
      ]
     },
     "metadata": {
      "needs_background": "light"
     },
     "output_type": "display_data"
    }
   ],
   "source": [
    "all_df.groupBy('sex').count().toPandas().plot.bar(x='sex', y='count')"
   ]
  },
  {
   "cell_type": "code",
   "execution_count": 39,
   "metadata": {},
   "outputs": [
    {
     "name": "stdout",
     "output_type": "stream",
     "text": [
      "+------------+\n",
      "|ID          |\n",
      "+------------+\n",
      "|ISIC_0033417|\n",
      "|ISIC_0034080|\n",
      "|ISIC_0033751|\n",
      "|ISIC_0033190|\n",
      "|ISIC_0034186|\n",
      "|ISIC_0033391|\n",
      "|ISIC_0032946|\n",
      "|ISIC_0033064|\n",
      "|ISIC_0032945|\n",
      "|ISIC_0032578|\n",
      "|ISIC_0032599|\n",
      "|ISIC_0034019|\n",
      "|ISIC_0033597|\n",
      "|ISIC_0033330|\n",
      "|ISIC_0033685|\n",
      "|ISIC_0033631|\n",
      "|ISIC_0032814|\n",
      "|ISIC_0033375|\n",
      "|ISIC_0033882|\n",
      "|ISIC_0033841|\n",
      "|ISIC_0033982|\n",
      "|ISIC_0033490|\n",
      "|ISIC_0033733|\n",
      "|ISIC_0033065|\n",
      "|ISIC_0033028|\n",
      "|ISIC_0034252|\n",
      "|ISIC_0032667|\n",
      "|ISIC_0032740|\n",
      "|ISIC_0033119|\n",
      "|ISIC_0034130|\n",
      "|ISIC_0033809|\n",
      "|ISIC_0033332|\n",
      "|ISIC_0033535|\n",
      "|ISIC_0034154|\n",
      "|ISIC_0032679|\n",
      "|ISIC_0033864|\n",
      "|ISIC_0032966|\n",
      "|ISIC_0034266|\n",
      "|ISIC_0033628|\n",
      "|ISIC_0034045|\n",
      "|ISIC_0033374|\n",
      "|ISIC_0034195|\n",
      "|ISIC_0033735|\n",
      "|ISIC_0032529|\n",
      "|ISIC_0032738|\n",
      "|ISIC_0032852|\n",
      "|ISIC_0033877|\n",
      "|ISIC_0033782|\n",
      "|ISIC_0033829|\n",
      "|ISIC_0032789|\n",
      "|ISIC_0033750|\n",
      "|ISIC_0033472|\n",
      "|ISIC_0034283|\n",
      "|ISIC_0033153|\n",
      "|ISIC_0033515|\n",
      "|ISIC_0033353|\n",
      "|ISIC_0033187|\n",
      "+------------+\n",
      "\n"
     ]
    }
   ],
   "source": [
    "all_df.filter(col(\"sex\") == 'unknown').select('ID').show(57, truncate = False)"
   ]
  },
  {
   "cell_type": "code",
   "execution_count": 40,
   "metadata": {},
   "outputs": [
    {
     "name": "stdout",
     "output_type": "stream",
     "text": [
      "+----+--------+---+---------+--------+---+-------+---+---+------------+\n",
      "|path|features| ID|lesion_id|image_id| dx|dx_type|age|sex|localization|\n",
      "+----+--------+---+---------+--------+---+-------+---+---+------------+\n",
      "+----+--------+---+---------+--------+---+-------+---+---+------------+\n",
      "\n"
     ]
    }
   ],
   "source": [
    "all_df.filter(\"ID is null\").show()"
   ]
  },
  {
   "cell_type": "code",
   "execution_count": 41,
   "metadata": {},
   "outputs": [
    {
     "name": "stdout",
     "output_type": "stream",
     "text": [
      "+---------------+-----+\n",
      "|   localization|count|\n",
      "+---------------+-----+\n",
      "|        abdomen| 1022|\n",
      "|          chest|  407|\n",
      "|           hand|   90|\n",
      "|           back| 2192|\n",
      "|           face|  745|\n",
      "|        unknown|  234|\n",
      "|        genital|   48|\n",
      "|          trunk| 1404|\n",
      "|           foot|  319|\n",
      "|            ear|   56|\n",
      "|           neck|  168|\n",
      "|upper extremity| 1118|\n",
      "|          scalp|  128|\n",
      "|          acral|    7|\n",
      "|lower extremity| 2077|\n",
      "+---------------+-----+\n",
      "\n"
     ]
    }
   ],
   "source": [
    "\n",
    "all_df.groupBy('localization').count().show()"
   ]
  },
  {
   "cell_type": "markdown",
   "metadata": {},
   "source": [
    "### histogram of \"localization\""
   ]
  },
  {
   "cell_type": "code",
   "execution_count": 42,
   "metadata": {},
   "outputs": [
    {
     "data": {
      "text/plain": [
       "<AxesSubplot:xlabel='localization'>"
      ]
     },
     "execution_count": 42,
     "metadata": {},
     "output_type": "execute_result"
    },
    {
     "data": {
      "image/png": "[encoded data removed]",
      "text/plain": [
       "<Figure size 432x288 with 1 Axes>"
      ]
     },
     "metadata": {
      "needs_background": "light"
     },
     "output_type": "display_data"
    }
   ],
   "source": [
    "all_df.groupBy('localization').count().sort(\"count\", ascending=False).toPandas().plot.bar(x='localization', y='count')"
   ]
  },
  {
   "cell_type": "code",
   "execution_count": 43,
   "metadata": {},
   "outputs": [
    {
     "name": "stdout",
     "output_type": "stream",
     "text": [
      "+-----+-----+\n",
      "|   dx|count|\n",
      "+-----+-----+\n",
      "|   nv| 6705|\n",
      "|  mel| 1113|\n",
      "|  bkl| 1099|\n",
      "|  bcc|  514|\n",
      "|akiec|  327|\n",
      "| vasc|  142|\n",
      "|   df|  115|\n",
      "+-----+-----+\n",
      "\n"
     ]
    }
   ],
   "source": [
    "all_df.groupBy('dx').count().sort(\"count\", ascending=False).show()"
   ]
  },
  {
   "cell_type": "markdown",
   "metadata": {},
   "source": [
    "### histogram of \"cancer\""
   ]
  },
  {
   "cell_type": "code",
   "execution_count": 44,
   "metadata": {},
   "outputs": [
    {
     "data": {
      "text/plain": [
       "<AxesSubplot:xlabel='dx'>"
      ]
     },
     "execution_count": 44,
     "metadata": {},
     "output_type": "execute_result"
    },
    {
     "data": {
      "image/png": "[encoded data removed]",
      "text/plain": [
       "<Figure size 432x288 with 1 Axes>"
      ]
     },
     "metadata": {
      "needs_background": "light"
     },
     "output_type": "display_data"
    }
   ],
   "source": [
    "all_df.groupBy('dx').count().sort(\"count\", ascending=False).toPandas().plot.bar(x='dx', y='count')"
   ]
  },
  {
   "cell_type": "code",
   "execution_count": 45,
   "metadata": {},
   "outputs": [
    {
     "name": "stdout",
     "output_type": "stream",
     "text": [
      "+---------+-----+\n",
      "|  dx_type|count|\n",
      "+---------+-----+\n",
      "|    histo| 5340|\n",
      "|follow_up| 3704|\n",
      "|consensus|  902|\n",
      "| confocal|   69|\n",
      "+---------+-----+\n",
      "\n"
     ]
    }
   ],
   "source": [
    "all_df.groupBy('dx_type').count().sort(\"count\", ascending=False).show()"
   ]
  },
  {
   "cell_type": "markdown",
   "metadata": {},
   "source": [
    "### histogram of \"cancer type\""
   ]
  },
  {
   "cell_type": "code",
   "execution_count": 46,
   "metadata": {},
   "outputs": [
    {
     "data": {
      "text/plain": [
       "<AxesSubplot:xlabel='dx_type'>"
      ]
     },
     "execution_count": 46,
     "metadata": {},
     "output_type": "execute_result"
    },
    {
     "data": {
      "image/png": "[encoded data removed]",
      "text/plain": [
       "<Figure size 432x288 with 1 Axes>"
      ]
     },
     "metadata": {
      "needs_background": "light"
     },
     "output_type": "display_data"
    }
   ],
   "source": [
    "all_df.groupBy('dx_type').count().sort(\"count\", ascending=False).toPandas().plot.bar(x='dx_type', y='count')"
   ]
  },
  {
   "cell_type": "markdown",
   "metadata": {},
   "source": [
    "# Remove rows containing null and unknown"
   ]
  },
  {
   "cell_type": "code",
   "execution_count": 47,
   "metadata": {},
   "outputs": [],
   "source": [
    "\n",
    "clean_df = all_df.filter((col(\"sex\") != 'unknown') & (col(\"age\").isNotNull()))"
   ]
  },
  {
   "cell_type": "code",
   "execution_count": 48,
   "metadata": {},
   "outputs": [
    {
     "name": "stdout",
     "output_type": "stream",
     "text": [
      "root\n",
      " |-- path: string (nullable = true)\n",
      " |-- features: array (nullable = true)\n",
      " |    |-- element: float (containsNull = true)\n",
      " |-- ID: string (nullable = true)\n",
      " |-- lesion_id: string (nullable = true)\n",
      " |-- image_id: string (nullable = true)\n",
      " |-- dx: string (nullable = true)\n",
      " |-- dx_type: string (nullable = true)\n",
      " |-- age: double (nullable = true)\n",
      " |-- sex: string (nullable = true)\n",
      " |-- localization: string (nullable = true)\n",
      "\n"
     ]
    }
   ],
   "source": [
    "all_df.printSchema()"
   ]
  },
  {
   "cell_type": "code",
   "execution_count": 49,
   "metadata": {},
   "outputs": [
    {
     "data": {
      "text/plain": [
       "9948"
      ]
     },
     "execution_count": 49,
     "metadata": {},
     "output_type": "execute_result"
    }
   ],
   "source": [
    "clean_df.count()"
   ]
  },
  {
   "cell_type": "code",
   "execution_count": 50,
   "metadata": {},
   "outputs": [
    {
     "data": {
      "text/plain": [
       "<bound method DataFrame.cache of DataFrame[path: string, features: array<float>, ID: string, lesion_id: string, image_id: string, dx: string, dx_type: string, age: double, sex: string, localization: string]>"
      ]
     },
     "execution_count": 50,
     "metadata": {},
     "output_type": "execute_result"
    }
   ],
   "source": [
    "clean_df.cache"
   ]
  },
  {
   "cell_type": "code",
   "execution_count": 51,
   "metadata": {},
   "outputs": [
    {
     "data": {
      "text/plain": [
       "<AxesSubplot:ylabel='Frequency'>"
      ]
     },
     "execution_count": 51,
     "metadata": {},
     "output_type": "execute_result"
    },
    {
     "data": {
      "image/png": "[encoded data removed]",
      "text/plain": [
       "<Figure size 432x288 with 1 Axes>"
      ]
     },
     "metadata": {
      "needs_background": "light"
     },
     "output_type": "display_data"
    }
   ],
   "source": [
    "clean_df.select(\"age\").sort('age', ascending = True).toPandas().plot.hist()"
   ]
  },
  {
   "cell_type": "code",
   "execution_count": 52,
   "metadata": {},
   "outputs": [
    {
     "name": "stdout",
     "output_type": "stream",
     "text": [
      "root\n",
      " |-- path: string (nullable = true)\n",
      " |-- features: array (nullable = true)\n",
      " |    |-- element: float (containsNull = true)\n",
      " |-- ID: string (nullable = true)\n",
      " |-- lesion_id: string (nullable = true)\n",
      " |-- image_id: string (nullable = true)\n",
      " |-- dx: string (nullable = true)\n",
      " |-- dx_type: string (nullable = true)\n",
      " |-- age: double (nullable = true)\n",
      " |-- sex: string (nullable = true)\n",
      " |-- localization: string (nullable = true)\n",
      "\n"
     ]
    }
   ],
   "source": [
    "clean_df.printSchema()"
   ]
  },
  {
   "cell_type": "code",
   "execution_count": 53,
   "metadata": {},
   "outputs": [
    {
     "name": "stdout",
     "output_type": "stream",
     "text": [
      "+--------------------+\n",
      "|            features|\n",
      "+--------------------+\n",
      "|[0.0, 0.0, 0.0, 0...|\n",
      "|[4.762249, 0.0, 0...|\n",
      "|[0.0, 0.0, 0.0, 0...|\n",
      "|[0.0, 0.0, 0.0, 0...|\n",
      "|[0.0, 0.0, 0.0, 0...|\n",
      "+--------------------+\n",
      "only showing top 5 rows\n",
      "\n"
     ]
    }
   ],
   "source": [
    "clean_df.select('features').show(5, truncate = True)"
   ]
  },
  {
   "cell_type": "markdown",
   "metadata": {},
   "source": [
    "## convert image feature lists to vectors"
   ]
  },
  {
   "cell_type": "code",
   "execution_count": 54,
   "metadata": {},
   "outputs": [],
   "source": [
    "from pyspark.ml.linalg import Vectors, VectorUDT\n",
    "to_vector = udf(lambda a: Vectors.dense(a), VectorUDT())\n",
    "\n",
    "clean_df = clean_df.select(\"*\", to_vector(\"features\").alias(\"features_2\"))"
   ]
  },
  {
   "cell_type": "code",
   "execution_count": null,
   "metadata": {},
   "outputs": [],
   "source": []
  },
  {
   "cell_type": "markdown",
   "metadata": {},
   "source": [
    "# prepare dataset. index string "
   ]
  },
  {
   "cell_type": "code",
   "execution_count": 55,
   "metadata": {},
   "outputs": [],
   "source": [
    "from pyspark.ml.feature import OneHotEncoder\n",
    "\n",
    "label_index = StringIndexer(inputCol = 'dx', outputCol = 'indexed_dx').fit(clean_df)\n",
    "label_sex = StringIndexer(inputCol = 'sex', outputCol = 'indexed_sex').fit(clean_df)\n",
    "type_index = StringIndexer(inputCol = 'dx_type', outputCol = 'indexed_type').fit(clean_df)\n",
    "loc_index = StringIndexer(inputCol = 'localization', outputCol = 'indexed_loc').fit(clean_df)\n",
    "\n",
    "pipe = Pipeline(stages = [label_index, label_sex, loc_index, type_index])"
   ]
  },
  {
   "cell_type": "code",
   "execution_count": 56,
   "metadata": {},
   "outputs": [
    {
     "name": "stdout",
     "output_type": "stream",
     "text": [
      "CPU times: user 973 µs, sys: 0 ns, total: 973 µs\n",
      "Wall time: 2.66 ms\n"
     ]
    }
   ],
   "source": [
    "%%time\n",
    "model_pipe = pipe.fit(clean_df)"
   ]
  },
  {
   "cell_type": "code",
   "execution_count": 57,
   "metadata": {},
   "outputs": [
    {
     "name": "stdout",
     "output_type": "stream",
     "text": [
      "+--------------------+--------------------+------------+-----------+------------+---+---------+----+------+------------+--------------------+----------+-----------+-----------+------------+\n",
      "|                path|            features|          ID|  lesion_id|    image_id| dx|  dx_type| age|   sex|localization|          features_2|indexed_dx|indexed_sex|indexed_loc|indexed_type|\n",
      "+--------------------+--------------------+------------+-----------+------------+---+---------+----+------+------------+--------------------+----------+-----------+-----------+------------+\n",
      "|file:/project/ds5...|[0.0, 0.0, 0.0, 0...|ISIC_0026343|HAM_0002346|ISIC_0026343|bcc|    histo|70.0|  male|        face|[0.0,0.0,0.0,0.0,...|       3.0|        0.0|        5.0|         0.0|\n",
      "|file:/project/ds5...|[4.762249, 0.0, 0...|ISIC_0027333|HAM_0000564|ISIC_0027333| nv|follow_up|40.0|  male|        foot|[4.76224899291992...|       0.0|        0.0|        7.0|         1.0|\n",
      "|file:/project/ds5...|[0.0, 0.0, 0.0, 0...|ISIC_0026964|HAM_0004372|ISIC_0026964| nv|    histo|65.0|  male|       scalp|[0.0,0.0,0.0,0.0,...|       0.0|        0.0|       10.0|         0.0|\n",
      "|file:/project/ds5...|[0.0, 0.0, 0.0, 0...|ISIC_0028228|HAM_0003608|ISIC_0028228|mel|    histo|75.0|female|        back|[0.0,0.0,0.0,0.0,...|       1.0|        1.0|        0.0|         0.0|\n",
      "|file:/project/ds5...|[0.0, 0.0, 0.0, 0...|ISIC_0029303|HAM_0001180|ISIC_0029303| nv|follow_up|50.0|  male|       trunk|[0.0,0.0,0.0,0.0,...|       0.0|        0.0|        2.0|         1.0|\n",
      "+--------------------+--------------------+------------+-----------+------------+---+---------+----+------+------------+--------------------+----------+-----------+-----------+------------+\n",
      "only showing top 5 rows\n",
      "\n",
      "CPU times: user 9.28 ms, sys: 3.09 ms, total: 12.4 ms\n",
      "Wall time: 14.1 s\n"
     ]
    }
   ],
   "source": [
    "%%time\n",
    "transformed_table = model_pipe.transform(clean_df)\n",
    "transformed_table.show(5)"
   ]
  },
  {
   "cell_type": "code",
   "execution_count": 58,
   "metadata": {},
   "outputs": [
    {
     "name": "stdout",
     "output_type": "stream",
     "text": [
      "+-----+----------+-----+\n",
      "|   dx|indexed_dx|count|\n",
      "+-----+----------+-----+\n",
      "|  bcc|       3.0|  514|\n",
      "|  mel|       1.0| 1111|\n",
      "|   nv|       0.0| 6650|\n",
      "|  bkl|       2.0| 1089|\n",
      "|   df|       6.0|  115|\n",
      "| vasc|       5.0|  142|\n",
      "|akiec|       4.0|  327|\n",
      "+-----+----------+-----+\n",
      "\n"
     ]
    }
   ],
   "source": [
    "transformed_table.select(\"dx\", \"indexed_dx\").groupby(\"dx\",\"indexed_dx\").count().show()"
   ]
  },
  {
   "cell_type": "markdown",
   "metadata": {},
   "source": [
    "# correlation and heatmap"
   ]
  },
  {
   "cell_type": "code",
   "execution_count": 61,
   "metadata": {},
   "outputs": [],
   "source": [
    "from pyspark.ml.stat import Correlation\n",
    "import matplotlib.pyplot as plt\n",
    "import seaborn as sns"
   ]
  },
  {
   "cell_type": "code",
   "execution_count": 62,
   "metadata": {},
   "outputs": [],
   "source": [
    "corr = VectorAssembler(inputCols=['indexed_dx','indexed_sex','indexed_loc', 'indexed_type','age'], outputCol=\"corr_features\")\n",
    "corr_vector = corr.transform(transformed_table).select(\"corr_features\")\n",
    "matrix = Correlation.corr(corr_vector, \"corr_features\").collect()[0][0]"
   ]
  },
  {
   "cell_type": "code",
   "execution_count": 63,
   "metadata": {},
   "outputs": [
    {
     "data": {
      "text/plain": [
       "[[1.0,\n",
       "  -0.06191662286970777,\n",
       "  0.08122878869996165,\n",
       "  -0.1526610567099114,\n",
       "  0.3571806487929663],\n",
       " [-0.06191662286970777,\n",
       "  1.0,\n",
       "  0.014667160713789575,\n",
       "  0.05392398906110483,\n",
       "  -0.17138734850698364],\n",
       " [0.08122878869996165,\n",
       "  0.014667160713789575,\n",
       "  1.0,\n",
       "  0.00962727094461431,\n",
       "  0.015010169580166714],\n",
       " [-0.1526610567099114,\n",
       "  0.05392398906110483,\n",
       "  0.00962727094461431,\n",
       "  1.0,\n",
       "  -0.14198218138408514],\n",
       " [0.3571806487929663,\n",
       "  -0.17138734850698364,\n",
       "  0.015010169580166714,\n",
       "  -0.14198218138408514,\n",
       "  1.0]]"
      ]
     },
     "execution_count": 63,
     "metadata": {},
     "output_type": "execute_result"
    }
   ],
   "source": [
    "corrmatrix = matrix.toArray().tolist()\n",
    "corrmatrix"
   ]
  },
  {
   "cell_type": "code",
   "execution_count": 116,
   "metadata": {},
   "outputs": [
    {
     "data": {
      "image/png": "[encoded data removed]",
      "text/plain": [
       "<Figure size 432x288 with 2 Axes>"
      ]
     },
     "metadata": {
      "needs_background": "light"
     },
     "output_type": "display_data"
    }
   ],
   "source": [
    "ax = sns.heatmap(corrmatrix, cmap=\"YlGnBu\", annot=True, \n",
    "                 xticklabels =['indexed_dx','indexed_sex','indexed_loc', 'indexed_type', 'age'], \n",
    "                 yticklabels =['indexed_dx','indexed_sex','indexed_loc', 'indexed_type', 'age'])"
   ]
  },
  {
   "cell_type": "markdown",
   "metadata": {},
   "source": [
    "# Save file"
   ]
  },
  {
   "cell_type": "code",
   "execution_count": null,
   "metadata": {},
   "outputs": [],
   "source": [
    "transformed_table.write.save(\"/project/ds5559/BioNerds/saved_data/clean_indexed.parquet\")"
   ]
  },
  {
   "cell_type": "code",
   "execution_count": null,
   "metadata": {},
   "outputs": [],
   "source": []
  },
  {
   "cell_type": "code",
   "execution_count": null,
   "metadata": {},
   "outputs": [],
   "source": []
  },
  {
   "cell_type": "code",
   "execution_count": null,
   "metadata": {},
   "outputs": [],
   "source": []
  },
  {
   "cell_type": "code",
   "execution_count": null,
   "metadata": {},
   "outputs": [],
   "source": []
  },
  {
   "cell_type": "code",
   "execution_count": null,
   "metadata": {},
   "outputs": [],
   "source": []
  },
  {
   "cell_type": "code",
   "execution_count": null,
   "metadata": {},
   "outputs": [],
   "source": []
  },
  {
   "cell_type": "code",
   "execution_count": null,
   "metadata": {},
   "outputs": [],
   "source": []
  },
  {
   "cell_type": "code",
   "execution_count": null,
   "metadata": {},
   "outputs": [],
   "source": []
  },
  {
   "cell_type": "code",
   "execution_count": null,
   "metadata": {},
   "outputs": [],
   "source": []
  },
  {
   "cell_type": "code",
   "execution_count": null,
   "metadata": {},
   "outputs": [],
   "source": []
  },
  {
   "cell_type": "code",
   "execution_count": null,
   "metadata": {},
   "outputs": [],
   "source": []
  },
  {
   "cell_type": "code",
   "execution_count": null,
   "metadata": {},
   "outputs": [],
   "source": []
  },
  {
   "cell_type": "code",
   "execution_count": null,
   "metadata": {},
   "outputs": [],
   "source": []
  },
  {
   "cell_type": "code",
   "execution_count": 89,
   "metadata": {},
   "outputs": [],
   "source": []
  },
  {
   "cell_type": "code",
   "execution_count": null,
   "metadata": {},
   "outputs": [],
   "source": []
  },
  {
   "cell_type": "code",
   "execution_count": null,
   "metadata": {},
   "outputs": [],
   "source": []
  },
  {
   "cell_type": "code",
   "execution_count": null,
   "metadata": {},
   "outputs": [],
   "source": []
  },
  {
   "cell_type": "code",
   "execution_count": null,
   "metadata": {},
   "outputs": [],
   "source": []
  },
  {
   "cell_type": "code",
   "execution_count": null,
   "metadata": {},
   "outputs": [],
   "source": []
  },
  {
   "cell_type": "code",
   "execution_count": null,
   "metadata": {},
   "outputs": [],
   "source": []
  },
  {
   "cell_type": "code",
   "execution_count": null,
   "metadata": {},
   "outputs": [],
   "source": []
  }
 ],
 "metadata": {
  "kernelspec": {
   "display_name": "DS 5110",
   "language": "python",
   "name": "ds5110"
  },
  "language_info": {
   "codemirror_mode": {
    "name": "ipython",
    "version": 3
   },
   "file_extension": ".py",
   "mimetype": "text/x-python",
   "name": "python",
   "nbconvert_exporter": "python",
   "pygments_lexer": "ipython3",
   "version": "3.7.10"
  }
 },
 "nbformat": 4,
 "nbformat_minor": 4
}
