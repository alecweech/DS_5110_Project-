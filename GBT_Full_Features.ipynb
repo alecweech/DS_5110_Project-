{
 "cells": [
  {
   "cell_type": "markdown",
   "metadata": {},
   "source": [
    "# GBT Meta-Learner\n",
    "\n",
    "Here we consider gradient boosted trees in a one vs rest framework as a meta-learner on the output from three neural networks combined with all available categorical data. We begin with setup and imports, apologies again for the wall of imports. "
   ]
  },
  {
   "cell_type": "code",
   "execution_count": 1,
   "metadata": {},
   "outputs": [],
   "source": [
    "from pyspark.sql import SparkSession\n",
    "\n",
    "#run me on the DS5110 kernel if running on Rivanna!\n",
    "\n",
    "#Build spark session, unable to get more than 8 cores for the second half of the semester\n",
    "#This configuration performs relatively well given that constraint. This application definitely wants more cores though. \n",
    "spark = SparkSession \\\n",
    "    .builder\\\n",
    "    .config(\"spark.executor.memory\", '14g') \\\n",
    "    .config(\"spark.executor.instances\", \"3\") \\\n",
    "    .config('spark.executor.cores', '2') \\\n",
    "    .config(\"spark.driver.memory\",'14g') \\\n",
    "    .config(\"spark.driver.maxResultSize\", \"6g\")\\\n",
    "    .getOrCreate()\n",
    "\n",
    "sc = spark.sparkContext\n"
   ]
  },
  {
   "cell_type": "code",
   "execution_count": 5,
   "metadata": {},
   "outputs": [],
   "source": [
    "#Give me the modules and no one gets hurt\n",
    "from pyspark.ml import Pipeline\n",
    "from pyspark.ml.classification import DecisionTreeClassifier\n",
    "from pyspark.ml.feature import StringIndexer, VectorIndexer\n",
    "from pyspark.ml.evaluation import MulticlassClassificationEvaluator\n",
    "from pyspark.ml.classification import LogisticRegression\n",
    "from pyspark.ml.linalg import Vectors, VectorUDT\n",
    "from pyspark.ml.feature import VectorAssembler\n",
    "import pandas as pd\n",
    "import numpy as np\n",
    "from pyspark.sql.functions import col, pandas_udf, PandasUDFType\n",
    "import os\n",
    "from pyspark.sql.functions import udf\n",
    "from pyspark.sql.types import StructType, StructField, IntegerType, FloatType, StringType\n",
    "import re\n",
    "\n",
    "from pyspark.ml.classification import GBTClassifier\n",
    "from spark_tensorflow_distributor import MirroredStrategyRunner\n",
    "from pyspark.ml.classification import RandomForestClassifier\n",
    "from pyspark.ml.classification import *\n",
    "from pyspark.ml.tuning import ParamGridBuilder, CrossValidator\n",
    "from pyspark.mllib.evaluation import MulticlassMetrics\n",
    "from sklearn.metrics import ConfusionMatrixDisplay\n",
    "from pyspark.ml.feature import OneHotEncoder"
   ]
  },
  {
   "cell_type": "markdown",
   "metadata": {},
   "source": [
    "# Read in pre-featurized images\n",
    "Here we read in pre-featurized images from the parquet saved in the image featurization notebook. "
   ]
  },
  {
   "cell_type": "code",
   "execution_count": 3,
   "metadata": {},
   "outputs": [
    {
     "name": "stdout",
     "output_type": "stream",
     "text": [
      "+------------+-----------+------------+---+---------+----+------+---------------+--------------------+--------------------+--------------------+\n",
      "|          ID|  lesion_id|    image_id| dx|  dx_type| age|   sex|   localization|            mnet_vec|             r50_vec|            xcep_vec|\n",
      "+------------+-----------+------------+---+---------+----+------+---------------+--------------------+--------------------+--------------------+\n",
      "|ISIC_0024306|HAM_0000550|ISIC_0024306| nv|follow_up|45.0|  male|          trunk|[0.0,0.0,0.0,0.0,...|[0.24354705214500...|[0.0,0.0,0.0,0.0,...|\n",
      "|ISIC_0024387|HAM_0004156|ISIC_0024387| nv|    histo|65.0|female|lower extremity|[0.0,1.3627424240...|[0.0,0.0,0.0,0.0,...|[0.0,0.0,0.0,0.0,...|\n",
      "|ISIC_0024397|HAM_0001501|ISIC_0024397| nv|follow_up|65.0|  male|          trunk|[0.0,0.0,0.0,0.0,...|[1.18369388580322...|[0.0,0.0,0.0,0.0,...|\n",
      "|ISIC_0024551|HAM_0002629|ISIC_0024551| nv|follow_up|50.0|  male|        abdomen|[0.0,0.0,0.0,0.0,...|[0.01115676853805...|[0.0,0.0,0.0,0.0,...|\n",
      "|ISIC_0024700|HAM_0001726|ISIC_0024700|mel|    histo|35.0|female|          trunk|[0.0,2.0978577136...|[0.0,0.0,0.0,0.0,...|[0.0,0.0,0.0,0.0,...|\n",
      "+------------+-----------+------------+---+---------+----+------+---------------+--------------------+--------------------+--------------------+\n",
      "only showing top 5 rows\n",
      "\n"
     ]
    }
   ],
   "source": [
    "data = spark.read.parquet(\"clean_features.parquet2\").na.drop('any')\n",
    "data.show(5)"
   ]
  },
  {
   "cell_type": "markdown",
   "metadata": {},
   "source": [
    "# Define Pipeline\n",
    "We one hot encode sex and location and combine it with age and the neural network derived features. "
   ]
  },
  {
   "cell_type": "code",
   "execution_count": 17,
   "metadata": {},
   "outputs": [],
   "source": [
    "#Define preprocessing pipeline\n",
    "\n",
    "#index our response variable\n",
    "label_index = StringIndexer(inputCol = 'dx', outputCol = 'indexed_dx')\n",
    "\n",
    "#Index the two categorical variables that we have\n",
    "label_sex = StringIndexer(inputCol = 'sex', outputCol = 'indexed_sex')\n",
    "loc_index = StringIndexer(inputCol = 'localization', outputCol = 'indexed_loc')\n",
    "\n",
    "#OneHot encode variables\n",
    "OH = OneHotEncoder(inputCols = ['indexed_sex', 'indexed_loc'], outputCols = ['OH_sex', 'OH_loc'])\n",
    "\n",
    "#Assemble Features vector\n",
    "vec_assemb = VectorAssembler(inputCols = ['age', 'OH_sex', 'OH_loc', 'mnet_vec', 'r50_vec', 'xcep_vec'], \\\n",
    "                             outputCol = 'Feature_vec', handleInvalid = 'skip')\n",
    "\n",
    "#vec_index = VectorIndexer(inputCol = 'Feature_vec', outputCol = 'indexed_features', maxCategories = 8, handleInvalid = 'skip')\n",
    "\n",
    "\n",
    "gbt = GBTClassifier(labelCol=\"indexed_dx\", featuresCol=\"Feature_vec\", maxIter=10, maxDepth=5, maxBins=32)\n",
    "ovr  = OneVsRest(classifier=gbt,  featuresCol='Feature_vec', labelCol='indexed_dx')\n",
    "\n",
    "pipe = Pipeline(stages = [label_index, label_sex, loc_index, OH, vec_assemb, ovr])"
   ]
  },
  {
   "cell_type": "markdown",
   "metadata": {},
   "source": [
    "# Cross Validation\n",
    "\n",
    "We perform 5 fold cross validation and search across maximum number of bins and maximum tree depth. "
   ]
  },
  {
   "cell_type": "code",
   "execution_count": 17,
   "metadata": {},
   "outputs": [],
   "source": [
    "#Setup parameter grid\n",
    "paramGrid = (ParamGridBuilder()\n",
    "             .addGrid(gbt.maxDepth, [5, 10, 15]) # Max Depth of trees\n",
    "             .addGrid(gbt.maxBins, [8,16 ,32]) # Max binning for numeric features\n",
    "             .build())"
   ]
  },
  {
   "cell_type": "code",
   "execution_count": 18,
   "metadata": {},
   "outputs": [],
   "source": [
    "#Setup 5 fold cross validation\n",
    "cv = CrossValidator(estimator=pipe, \\\n",
    "                    estimatorParamMaps=paramGrid, \\\n",
    "                    evaluator = MulticlassClassificationEvaluator(predictionCol=\"prediction\", labelCol=\"indexed_dx\"), \\\n",
    "                    numFolds=5, \\\n",
    "                    parallelism = 4,\\\n",
    "                    seed = 314)"
   ]
  },
  {
   "cell_type": "markdown",
   "metadata": {},
   "source": [
    "# Split training and test data\n",
    "\n",
    "We opt for a stratified 80-20 split due to the presence of small minority classes in the problem. True random splitting risks leaving one set with too few samples. "
   ]
  },
  {
   "cell_type": "code",
   "execution_count": 7,
   "metadata": {},
   "outputs": [],
   "source": [
    "#Define Fractions for training and test split\n",
    "training_frac = {'vasc': 0.8,\n",
    " 'nv': 0.8,\n",
    " 'mel': 0.8,\n",
    " 'bcc': 0.8,\n",
    " 'df': 0.8,\n",
    " 'bkl': 0.8,\n",
    " 'akiec': 0.8}"
   ]
  },
  {
   "cell_type": "code",
   "execution_count": 8,
   "metadata": {},
   "outputs": [
    {
     "data": {
      "text/plain": [
       "DataFrame[ID: string, lesion_id: string, image_id: string, dx: string, dx_type: string, age: double, sex: string, localization: string, mnet_vec: vector, r50_vec: vector, xcep_vec: vector]"
      ]
     },
     "execution_count": 8,
     "metadata": {},
     "output_type": "execute_result"
    }
   ],
   "source": [
    "#Stratified sample\n",
    "train = data.sampleBy('dx', training_frac, seed = 314)\n",
    "#cache for performance\n",
    "train.cache()"
   ]
  },
  {
   "cell_type": "code",
   "execution_count": 9,
   "metadata": {},
   "outputs": [],
   "source": [
    "#Define the test set, just subtract train from the remainder of the data\n",
    "test = data.subtract(train)\n"
   ]
  },
  {
   "cell_type": "markdown",
   "metadata": {},
   "source": [
    "# Fit and evaluate the model\n",
    "\n",
    "We perform cross validation and examine performance on the training set. We look at overall metrics and specifically at melanoma as the most malignant disorder in the dataset. It is of particular interest to classify this one accurately. "
   ]
  },
  {
   "cell_type": "code",
   "execution_count": 22,
   "metadata": {},
   "outputs": [],
   "source": [
    "#Call our CV model to fit on the training set\n",
    "cvModel = cv.fit(train)"
   ]
  },
  {
   "cell_type": "code",
   "execution_count": 28,
   "metadata": {},
   "outputs": [],
   "source": [
    "#Save the model because this thing is slow as heck\n",
    "best_model = cvModel.bestModel\n",
    "best_model.write().overwrite().save('GBT_Model')"
   ]
  },
  {
   "cell_type": "code",
   "execution_count": 4,
   "metadata": {},
   "outputs": [],
   "source": [
    "from pyspark.ml.pipeline import PipelineModel\n",
    "persistedModel = PipelineModel.load('GBT_Model')"
   ]
  },
  {
   "cell_type": "code",
   "execution_count": null,
   "metadata": {},
   "outputs": [],
   "source": [
    "#Evaluate performance on the validation set\n",
    "results = cvModel.bestModel.transform(test)"
   ]
  },
  {
   "cell_type": "code",
   "execution_count": 11,
   "metadata": {},
   "outputs": [],
   "source": [
    "#Evaluate performance on the validation set\n",
    "results = persistedModel.transform(test)"
   ]
  },
  {
   "cell_type": "code",
   "execution_count": 34,
   "metadata": {},
   "outputs": [
    {
     "data": {
      "text/plain": [
       "DataFrame[prediction: double, label: float]"
      ]
     },
     "execution_count": 34,
     "metadata": {},
     "output_type": "execute_result"
    }
   ],
   "source": [
    "preds_and_labels.cache()"
   ]
  },
  {
   "cell_type": "code",
   "execution_count": 48,
   "metadata": {},
   "outputs": [],
   "source": [
    "pl = spark.read.csv('preds_labels', inferSchema = True)\n",
    "preds_and_labels.rdd.map(tuple)"
   ]
  },
  {
   "cell_type": "code",
   "execution_count": 14,
   "metadata": {},
   "outputs": [
    {
     "name": "stdout",
     "output_type": "stream",
     "text": [
      "[[1.278e+03 4.100e+01 2.300e+01 7.000e+00 2.000e+00 3.000e+00 2.000e+00]\n",
      " [8.100e+01 9.300e+01 2.300e+01 6.000e+00 3.000e+00 0.000e+00 0.000e+00]\n",
      " [4.700e+01 2.900e+01 1.200e+02 1.100e+01 9.000e+00 1.000e+00 0.000e+00]\n",
      " [1.300e+01 1.100e+01 1.300e+01 6.500e+01 1.000e+00 2.000e+00 2.000e+00]\n",
      " [6.000e+00 8.000e+00 2.600e+01 1.200e+01 1.600e+01 0.000e+00 1.000e+00]\n",
      " [4.000e+00 0.000e+00 0.000e+00 2.000e+00 0.000e+00 1.600e+01 0.000e+00]\n",
      " [9.000e+00 3.000e+00 2.000e+00 2.000e+00 0.000e+00 0.000e+00 7.000e+00]]\n"
     ]
    }
   ],
   "source": [
    "#Subset predictions in order to map to RDD, we prefer mllibs classification evasluator\n",
    "preds_and_labels = results.select(['prediction','indexed_dx']).withColumn('label', col('indexed_dx').cast(FloatType()))\n",
    "\n",
    "#select only prediction and label columns\n",
    "preds_and_labels = preds_and_labels.select(['prediction','label'])\n",
    "\n",
    "metrics = MulticlassMetrics(preds_and_labels.rdd.map(tuple))\n",
    "\n",
    "print(metrics.confusionMatrix().toArray())"
   ]
  },
  {
   "cell_type": "code",
   "execution_count": 51,
   "metadata": {},
   "outputs": [
    {
     "name": "stdout",
     "output_type": "stream",
     "text": [
      "[[1.278e+03 4.100e+01 2.300e+01 7.000e+00 2.000e+00 3.000e+00 2.000e+00]\n",
      " [8.100e+01 9.300e+01 2.300e+01 6.000e+00 3.000e+00 0.000e+00 0.000e+00]\n",
      " [4.700e+01 2.900e+01 1.200e+02 1.100e+01 9.000e+00 1.000e+00 0.000e+00]\n",
      " [1.300e+01 1.100e+01 1.300e+01 6.500e+01 1.000e+00 2.000e+00 2.000e+00]\n",
      " [6.000e+00 8.000e+00 2.600e+01 1.200e+01 1.600e+01 0.000e+00 1.000e+00]\n",
      " [4.000e+00 0.000e+00 0.000e+00 2.000e+00 0.000e+00 1.600e+01 0.000e+00]\n",
      " [9.000e+00 3.000e+00 2.000e+00 2.000e+00 0.000e+00 0.000e+00 7.000e+00]]\n"
     ]
    }
   ],
   "source": [
    "#Subset predictions in order to map to RDD, we prefer mllibs classification evasluator\n",
    "preds_and_labels = results.select(['prediction','indexed_dx']).withColumn('label', col('indexed_dx').cast(FloatType()))\n",
    "\n",
    "#select only prediction and label columns\n",
    "preds_and_labels = preds_and_labels.select(['prediction','label'])\n",
    "\n",
    "metrics = MulticlassMetrics(pl)\n",
    "\n",
    "print(metrics.confusionMatrix().toArray())"
   ]
  },
  {
   "cell_type": "code",
   "execution_count": 15,
   "metadata": {},
   "outputs": [
    {
     "data": {
      "text/plain": [
       "<sklearn.metrics._plot.confusion_matrix.ConfusionMatrixDisplay at 0x7f88b0bde410>"
      ]
     },
     "execution_count": 15,
     "metadata": {},
     "output_type": "execute_result"
    },
    {
     "data": {
      "image/png": "[encoded data removed]",
      "text/plain": [
       "<Figure size 432x288 with 2 Axes>"
      ]
     },
     "metadata": {
      "needs_background": "light"
     },
     "output_type": "display_data"
    }
   ],
   "source": [
    "#ok, that's heinously ugly. It's not spark, but this looks more presentable\n",
    "%matplotlib inline\n",
    "ConfusionMatrixDisplay(metrics.confusionMatrix().toArray().astype(int)).plot()"
   ]
  },
  {
   "cell_type": "code",
   "execution_count": 53,
   "metadata": {},
   "outputs": [],
   "source": [
    "#Define some weighted model metrics\n",
    "weighted_recall =  metrics.weightedRecall\n",
    "weighted_precision =  metrics.weightedPrecision\n",
    "weighted_f1 = metrics.weightedFMeasure(beta = 1.0)\n",
    "weighted_fpr =  metrics.weightedFalsePositiveRate\n",
    "accuracy = metrics.accuracy"
   ]
  },
  {
   "cell_type": "code",
   "execution_count": 54,
   "metadata": {},
   "outputs": [
    {
     "data": {
      "text/html": [
       "<div>\n",
       "<style scoped>\n",
       "    .dataframe tbody tr th:only-of-type {\n",
       "        vertical-align: middle;\n",
       "    }\n",
       "\n",
       "    .dataframe tbody tr th {\n",
       "        vertical-align: top;\n",
       "    }\n",
       "\n",
       "    .dataframe thead th {\n",
       "        text-align: right;\n",
       "    }\n",
       "</style>\n",
       "<table border=\"1\" class=\"dataframe\">\n",
       "  <thead>\n",
       "    <tr style=\"text-align: right;\">\n",
       "      <th></th>\n",
       "      <th>Metric Value</th>\n",
       "    </tr>\n",
       "  </thead>\n",
       "  <tbody>\n",
       "    <tr>\n",
       "      <th>recall</th>\n",
       "      <td>0.797500</td>\n",
       "    </tr>\n",
       "    <tr>\n",
       "      <th>precision</th>\n",
       "      <td>0.782873</td>\n",
       "    </tr>\n",
       "    <tr>\n",
       "      <th>F1 score</th>\n",
       "      <td>0.787105</td>\n",
       "    </tr>\n",
       "    <tr>\n",
       "      <th>FPR</th>\n",
       "      <td>0.180484</td>\n",
       "    </tr>\n",
       "    <tr>\n",
       "      <th>accuracy</th>\n",
       "      <td>0.797500</td>\n",
       "    </tr>\n",
       "  </tbody>\n",
       "</table>\n",
       "</div>"
      ],
      "text/plain": [
       "           Metric Value\n",
       "recall         0.797500\n",
       "precision      0.782873\n",
       "F1 score       0.787105\n",
       "FPR            0.180484\n",
       "accuracy       0.797500"
      ]
     },
     "execution_count": 54,
     "metadata": {},
     "output_type": "execute_result"
    }
   ],
   "source": [
    "#Don't kill me, the pandas dataframe is just so it looks nicer in the notebook\n",
    "values = [weighted_recall, weighted_precision, weighted_f1, weighted_fpr, accuracy]\n",
    "index = ['recall', 'precision', 'F1 score', 'FPR', 'accuracy']\n",
    "\n",
    "pd.DataFrame(values, index = index, columns = ['Metric Value'])"
   ]
  },
  {
   "cell_type": "code",
   "execution_count": 62,
   "metadata": {},
   "outputs": [
    {
     "data": {
      "text/html": [
       "<div>\n",
       "<style scoped>\n",
       "    .dataframe tbody tr th:only-of-type {\n",
       "        vertical-align: middle;\n",
       "    }\n",
       "\n",
       "    .dataframe tbody tr th {\n",
       "        vertical-align: top;\n",
       "    }\n",
       "\n",
       "    .dataframe thead th {\n",
       "        text-align: right;\n",
       "    }\n",
       "</style>\n",
       "<table border=\"1\" class=\"dataframe\">\n",
       "  <thead>\n",
       "    <tr style=\"text-align: right;\">\n",
       "      <th></th>\n",
       "      <th>Hyperparameter Value</th>\n",
       "    </tr>\n",
       "  </thead>\n",
       "  <tbody>\n",
       "    <tr>\n",
       "      <th>max depth</th>\n",
       "      <td>5</td>\n",
       "    </tr>\n",
       "    <tr>\n",
       "      <th>max bins</th>\n",
       "      <td>32</td>\n",
       "    </tr>\n",
       "  </tbody>\n",
       "</table>\n",
       "</div>"
      ],
      "text/plain": [
       "           Hyperparameter Value\n",
       "max depth                     5\n",
       "max bins                     32"
      ]
     },
     "execution_count": 62,
     "metadata": {},
     "output_type": "execute_result"
    }
   ],
   "source": [
    "#Get Parameters for best model \n",
    "bestModel = cvModel.bestModel\n",
    "max_depth = bestModel.stages[5].getClassifier().getMaxDepth()\n",
    "max_bins = bestModel.stages[5].getClassifier().getMaxBins()\n",
    "\n",
    "values = [max_depth, max_bins]\n",
    "index = ['max depth', 'max bins']\n",
    "\n",
    "pd.DataFrame(values, index = index, columns = ['Hyperparameter Value'])"
   ]
  },
  {
   "cell_type": "code",
   "execution_count": null,
   "metadata": {},
   "outputs": [],
   "source": []
  },
  {
   "cell_type": "code",
   "execution_count": 8,
   "metadata": {},
   "outputs": [],
   "source": [
    "#Define Fractions for training and test split\n",
    "training_frac = {'vasc': 0.8*.8,\n",
    " 'nv': 0.8 *.017,\n",
    " 'mel': 0.8*.1,\n",
    " 'bcc': 0.8 * .22,\n",
    " 'df': 0.8 ,\n",
    " 'bkl': 0.8 * .1,\n",
    " 'akiec': 0.33*.8}"
   ]
  },
  {
   "cell_type": "code",
   "execution_count": 9,
   "metadata": {},
   "outputs": [
    {
     "data": {
      "text/plain": [
       "DataFrame[ID: string, lesion_id: string, image_id: string, dx: string, dx_type: string, age: double, sex: string, localization: string, mnet_vec: vector, r50_vec: vector, xcep_vec: vector]"
      ]
     },
     "execution_count": 9,
     "metadata": {},
     "output_type": "execute_result"
    }
   ],
   "source": [
    "#Stratified sample\n",
    "train = data.sampleBy('dx', training_frac, seed = 314)\n",
    "#cache for performance\n",
    "train.cache()"
   ]
  },
  {
   "cell_type": "code",
   "execution_count": 10,
   "metadata": {},
   "outputs": [],
   "source": [
    "test = data.subtract(train)"
   ]
  },
  {
   "cell_type": "code",
   "execution_count": 18,
   "metadata": {},
   "outputs": [],
   "source": [
    "gbt_undersample = pipe.fit(train)"
   ]
  },
  {
   "cell_type": "code",
   "execution_count": 19,
   "metadata": {},
   "outputs": [],
   "source": [
    "results = gbt_undersample.transform(test)"
   ]
  },
  {
   "cell_type": "code",
   "execution_count": 20,
   "metadata": {},
   "outputs": [
    {
     "name": "stdout",
     "output_type": "stream",
     "text": [
      "[[1.950e+02 2.400e+01 5.100e+01 2.900e+01 1.300e+01 6.800e+01 3.500e+01]\n",
      " [3.000e+00 3.700e+01 0.000e+00 3.000e+00 1.000e+00 1.000e+00 1.000e+00]\n",
      " [2.000e+00 1.000e+00 1.000e+01 2.000e+00 2.000e+00 3.000e+00 3.000e+00]\n",
      " [1.140e+02 2.800e+01 6.600e+01 4.730e+02 6.700e+01 1.160e+02 1.380e+02]\n",
      " [3.110e+02 3.320e+02 4.960e+02 6.580e+02 3.868e+03 1.370e+02 7.760e+02]\n",
      " [4.900e+01 8.000e+00 2.500e+01 4.100e+01 9.000e+00 1.000e+02 1.500e+01]\n",
      " [7.000e+01 6.000e+01 5.000e+01 1.600e+02 9.700e+01 9.000e+01 5.060e+02]]\n"
     ]
    }
   ],
   "source": [
    "#Subset predictions in order to map to RDD, we prefer mllibs classification evasluator\n",
    "preds_and_labels = results.select(['prediction','indexed_dx']).withColumn('label', col('indexed_dx').cast(FloatType()))\n",
    "\n",
    "#select only prediction and label columns\n",
    "preds_and_labels = preds_and_labels.select(['prediction','label'])\n",
    "\n",
    "metrics = MulticlassMetrics(preds_and_labels.rdd.map(tuple))\n",
    "\n",
    "print(metrics.confusionMatrix().toArray())"
   ]
  },
  {
   "cell_type": "code",
   "execution_count": 21,
   "metadata": {},
   "outputs": [
    {
     "data": {
      "text/plain": [
       "<sklearn.metrics._plot.confusion_matrix.ConfusionMatrixDisplay at 0x7f6db79288d0>"
      ]
     },
     "execution_count": 21,
     "metadata": {},
     "output_type": "execute_result"
    },
    {
     "data": {
      "image/png": "[encoded data removed]",
      "text/plain": [
       "<Figure size 432x288 with 2 Axes>"
      ]
     },
     "metadata": {
      "needs_background": "light"
     },
     "output_type": "display_data"
    }
   ],
   "source": [
    "#ok, that's heinously ugly. It's not spark, but this looks more presentable\n",
    "%matplotlib inline\n",
    "ConfusionMatrixDisplay(metrics.confusionMatrix().toArray().astype(int)).plot()"
   ]
  },
  {
   "cell_type": "code",
   "execution_count": 23,
   "metadata": {},
   "outputs": [],
   "source": [
    "#Define some weighted model metrics\n",
    "weighted_recall =  metrics.weightedRecall\n",
    "weighted_precision =  metrics.weightedPrecision\n",
    "weighted_f1 = metrics.weightedFMeasure(beta = 1.0)\n",
    "weighted_fpr =  metrics.weightedFalsePositiveRate\n",
    "accuracy = metrics.accuracy"
   ]
  },
  {
   "cell_type": "code",
   "execution_count": 24,
   "metadata": {},
   "outputs": [
    {
     "data": {
      "text/html": [
       "<div>\n",
       "<style scoped>\n",
       "    .dataframe tbody tr th:only-of-type {\n",
       "        vertical-align: middle;\n",
       "    }\n",
       "\n",
       "    .dataframe tbody tr th {\n",
       "        vertical-align: top;\n",
       "    }\n",
       "\n",
       "    .dataframe thead th {\n",
       "        text-align: right;\n",
       "    }\n",
       "</style>\n",
       "<table border=\"1\" class=\"dataframe\">\n",
       "  <thead>\n",
       "    <tr style=\"text-align: right;\">\n",
       "      <th></th>\n",
       "      <th>Metric Value</th>\n",
       "    </tr>\n",
       "  </thead>\n",
       "  <tbody>\n",
       "    <tr>\n",
       "      <th>recall</th>\n",
       "      <td>0.555330</td>\n",
       "    </tr>\n",
       "    <tr>\n",
       "      <th>precision</th>\n",
       "      <td>0.763448</td>\n",
       "    </tr>\n",
       "    <tr>\n",
       "      <th>F1 score</th>\n",
       "      <td>0.622180</td>\n",
       "    </tr>\n",
       "    <tr>\n",
       "      <th>FPR</th>\n",
       "      <td>0.076817</td>\n",
       "    </tr>\n",
       "    <tr>\n",
       "      <th>accuracy</th>\n",
       "      <td>0.555330</td>\n",
       "    </tr>\n",
       "  </tbody>\n",
       "</table>\n",
       "</div>"
      ],
      "text/plain": [
       "           Metric Value\n",
       "recall         0.555330\n",
       "precision      0.763448\n",
       "F1 score       0.622180\n",
       "FPR            0.076817\n",
       "accuracy       0.555330"
      ]
     },
     "execution_count": 24,
     "metadata": {},
     "output_type": "execute_result"
    }
   ],
   "source": [
    "#Don't kill me, the pandas dataframe is just so it looks nicer in the notebook\n",
    "values = [weighted_recall, weighted_precision, weighted_f1, weighted_fpr, accuracy]\n",
    "index = ['recall', 'precision', 'F1 score', 'FPR', 'accuracy']\n",
    "\n",
    "pd.DataFrame(values, index = index, columns = ['Metric Value'])"
   ]
  },
  {
   "cell_type": "code",
   "execution_count": 25,
   "metadata": {},
   "outputs": [
    {
     "data": {
      "text/html": [
       "<div>\n",
       "<style scoped>\n",
       "    .dataframe tbody tr th:only-of-type {\n",
       "        vertical-align: middle;\n",
       "    }\n",
       "\n",
       "    .dataframe tbody tr th {\n",
       "        vertical-align: top;\n",
       "    }\n",
       "\n",
       "    .dataframe thead th {\n",
       "        text-align: right;\n",
       "    }\n",
       "</style>\n",
       "<table border=\"1\" class=\"dataframe\">\n",
       "  <thead>\n",
       "    <tr style=\"text-align: right;\">\n",
       "      <th></th>\n",
       "      <th>class</th>\n",
       "      <th>f1</th>\n",
       "      <th>precision</th>\n",
       "      <th>recall</th>\n",
       "    </tr>\n",
       "  </thead>\n",
       "  <tbody>\n",
       "    <tr>\n",
       "      <th>0</th>\n",
       "      <td>0.0</td>\n",
       "      <td>0.336497</td>\n",
       "      <td>0.262097</td>\n",
       "      <td>0.469880</td>\n",
       "    </tr>\n",
       "    <tr>\n",
       "      <th>1</th>\n",
       "      <td>1.0</td>\n",
       "      <td>0.138060</td>\n",
       "      <td>0.075510</td>\n",
       "      <td>0.804348</td>\n",
       "    </tr>\n",
       "    <tr>\n",
       "      <th>2</th>\n",
       "      <td>2.0</td>\n",
       "      <td>0.027739</td>\n",
       "      <td>0.014327</td>\n",
       "      <td>0.434783</td>\n",
       "    </tr>\n",
       "    <tr>\n",
       "      <th>3</th>\n",
       "      <td>3.0</td>\n",
       "      <td>0.399493</td>\n",
       "      <td>0.346266</td>\n",
       "      <td>0.472056</td>\n",
       "    </tr>\n",
       "    <tr>\n",
       "      <th>4</th>\n",
       "      <td>4.0</td>\n",
       "      <td>0.727409</td>\n",
       "      <td>0.953414</td>\n",
       "      <td>0.588021</td>\n",
       "    </tr>\n",
       "    <tr>\n",
       "      <th>5</th>\n",
       "      <td>5.0</td>\n",
       "      <td>0.262467</td>\n",
       "      <td>0.194175</td>\n",
       "      <td>0.404858</td>\n",
       "    </tr>\n",
       "    <tr>\n",
       "      <th>6</th>\n",
       "      <td>6.0</td>\n",
       "      <td>0.403670</td>\n",
       "      <td>0.343284</td>\n",
       "      <td>0.489835</td>\n",
       "    </tr>\n",
       "  </tbody>\n",
       "</table>\n",
       "</div>"
      ],
      "text/plain": [
       "   class        f1  precision    recall\n",
       "0    0.0  0.336497   0.262097  0.469880\n",
       "1    1.0  0.138060   0.075510  0.804348\n",
       "2    2.0  0.027739   0.014327  0.434783\n",
       "3    3.0  0.399493   0.346266  0.472056\n",
       "4    4.0  0.727409   0.953414  0.588021\n",
       "5    5.0  0.262467   0.194175  0.404858\n",
       "6    6.0  0.403670   0.343284  0.489835"
      ]
     },
     "execution_count": 25,
     "metadata": {},
     "output_type": "execute_result"
    }
   ],
   "source": [
    "labels = [0.0,1.0,2.0,3.0,4.0,5.0,6.0]\n",
    "cv_df = pd.DataFrame()\n",
    "for label in sorted(labels):\n",
    "    cv_df = cv_df.append({\"class\": label, \n",
    "               \"precision\":metrics.precision(label),\n",
    "               \"recall\":metrics.recall(label),\n",
    "               \"f1\":metrics.fMeasure(label),\n",
    "              }, ignore_index=True)\n",
    "cv_df"
   ]
  },
  {
   "cell_type": "code",
   "execution_count": null,
   "metadata": {},
   "outputs": [],
   "source": []
  }
 ],
 "metadata": {
  "kernelspec": {
   "display_name": "DS 5110",
   "language": "python",
   "name": "ds5110"
  },
  "language_info": {
   "codemirror_mode": {
    "name": "ipython",
    "version": 3
   },
   "file_extension": ".py",
   "mimetype": "text/x-python",
   "name": "python",
   "nbconvert_exporter": "python",
   "pygments_lexer": "ipython3",
   "version": "3.7.10"
  }
 },
 "nbformat": 4,
 "nbformat_minor": 4
}
