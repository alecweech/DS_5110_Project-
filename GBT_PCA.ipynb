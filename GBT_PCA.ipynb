{
 "cells": [
  {
   "cell_type": "code",
   "execution_count": 1,
   "metadata": {},
   "outputs": [],
   "source": [
    "from pyspark.sql import SparkSession\n",
    "\n",
    "spark = SparkSession \\\n",
    "    .builder\\\n",
    "    .config(\"spark.executor.memory\", '32g') \\\n",
    "    .config('spark.executor.cores', '2') \\\n",
    "    .config('spark.cores.max', '8') \\\n",
    "    .config(\"spark.driver.memory\",'32g') \\\n",
    "    .config(\"spark.sql.broadcastTimeout\", \"1000\") \\\n",
    "    .config(\"spark.driver.maxResultSize\", '10g') \\\n",
    "    .getOrCreate()\n",
    "\n",
    "sc = spark.sparkContext"
   ]
  },
  {
   "cell_type": "code",
   "execution_count": 2,
   "metadata": {},
   "outputs": [],
   "source": [
    "from pyspark.ml import Pipeline\n",
    "from pyspark.ml.classification import DecisionTreeClassifier\n",
    "from pyspark.ml.feature import StringIndexer, VectorIndexer\n",
    "from pyspark.ml.evaluation import MulticlassClassificationEvaluator\n",
    "from pyspark.ml.classification import GBTClassifier\n",
    "from pyspark.ml.linalg import Vectors, VectorUDT\n",
    "from pyspark.ml.feature import VectorAssembler\n",
    "import pandas as pd\n",
    "from PIL import Image\n",
    "import numpy as np\n",
    "import io\n",
    "import tensorflow as tf\n",
    "from tensorflow.keras.applications.resnet50 import ResNet50, preprocess_input\n",
    "from tensorflow.keras.preprocessing.image import img_to_array\n",
    "from pyspark.sql.functions import col, pandas_udf, PandasUDFType\n",
    "import os\n",
    "import pyspark.sql.functions as F\n",
    "from pyspark.mllib.linalg import Vectors\n",
    "\n",
    "\n",
    "%matplotlib inline"
   ]
  },
  {
   "cell_type": "code",
   "execution_count": 3,
   "metadata": {},
   "outputs": [],
   "source": [
    "#Define preprocessing pipeline\n",
    "from pyspark.ml.classification import LogisticRegression\n",
    "from pyspark.ml.tuning import CrossValidator, ParamGridBuilder\n",
    "from pyspark.ml.feature import IndexToString, StringIndexer, VectorIndexer\n",
    "from pyspark.ml import Pipeline\n",
    "from pyspark.ml.feature import StandardScaler"
   ]
  },
  {
   "cell_type": "markdown",
   "metadata": {},
   "source": [
    "# load pre-processed table"
   ]
  },
  {
   "cell_type": "code",
   "execution_count": 4,
   "metadata": {},
   "outputs": [],
   "source": [
    "clean_df = spark.read.load(\"/project/ds5559/BioNerds/saved_data/clean_indexed.parquet\")"
   ]
  },
  {
   "cell_type": "code",
   "execution_count": 5,
   "metadata": {},
   "outputs": [
    {
     "name": "stdout",
     "output_type": "stream",
     "text": [
      "+--------------------+--------------------+------------+-----------+------------+---+---------+----+------+---------------+--------------------+----------+-----------+-----------+------------+\n",
      "|                path|            features|          ID|  lesion_id|    image_id| dx|  dx_type| age|   sex|   localization|          features_2|indexed_dx|indexed_sex|indexed_loc|indexed_type|\n",
      "+--------------------+--------------------+------------+-----------+------------+---+---------+----+------+---------------+--------------------+----------+-----------+-----------+------------+\n",
      "|file:/project/ds5...|[0.69691277, 0.0,...|ISIC_0032827|HAM_0006003|ISIC_0032827|bkl|consensus|85.0|female|lower extremity|[0.69691276550292...|       2.0|        1.0|        1.0|         2.0|\n",
      "|file:/project/ds5...|[0.0, 0.0, 0.0, 0...|ISIC_0032994|HAM_0000772|ISIC_0032994| nv|    histo|20.0|female|           face|[0.0,0.0,0.0,0.0,...|       0.0|        1.0|        5.0|         0.0|\n",
      "|file:/project/ds5...|[0.0, 0.0, 0.0, 0...|ISIC_0029466|HAM_0002021|ISIC_0029466|bcc|    histo|65.0|female|upper extremity|[0.0,0.0,0.0,0.0,...|       3.0|        1.0|        3.0|         0.0|\n",
      "|file:/project/ds5...|[0.1439662, 0.0, ...|ISIC_0030754|HAM_0007502|ISIC_0030754|mel|    histo|50.0|female|lower extremity|[0.14396619796752...|       1.0|        1.0|        1.0|         0.0|\n",
      "|file:/project/ds5...|[0.0, 0.0, 0.0, 0...|ISIC_0030168|HAM_0000966|ISIC_0030168| nv|follow_up|45.0|female|          trunk|[0.0,0.0,0.0,0.0,...|       0.0|        1.0|        2.0|         1.0|\n",
      "+--------------------+--------------------+------------+-----------+------------+---+---------+----+------+---------------+--------------------+----------+-----------+-----------+------------+\n",
      "only showing top 5 rows\n",
      "\n"
     ]
    }
   ],
   "source": [
    "clean_df.show(5)"
   ]
  },
  {
   "cell_type": "markdown",
   "metadata": {},
   "source": [
    "# load PCA model"
   ]
  },
  {
   "cell_type": "code",
   "execution_count": 6,
   "metadata": {},
   "outputs": [],
   "source": [
    "pca_path = \"/project/ds5559/BioNerds/PCA/pcaModel_50\""
   ]
  },
  {
   "cell_type": "code",
   "execution_count": 7,
   "metadata": {},
   "outputs": [
    {
     "name": "stdout",
     "output_type": "stream",
     "text": [
      "CPU times: user 2.64 ms, sys: 1.91 ms, total: 4.55 ms\n",
      "Wall time: 1.72 s\n"
     ]
    }
   ],
   "source": [
    "%%time\n",
    "from pyspark.ml.feature import PCAModel\n",
    "pcaModel_50 = PCAModel.load(pca_path)"
   ]
  },
  {
   "cell_type": "code",
   "execution_count": 8,
   "metadata": {},
   "outputs": [
    {
     "name": "stdout",
     "output_type": "stream",
     "text": [
      "CPU times: user 2.51 ms, sys: 0 ns, total: 2.51 ms\n",
      "Wall time: 112 ms\n"
     ]
    }
   ],
   "source": [
    "%%time \n",
    "pca_table = pcaModel_50.transform(clean_df)"
   ]
  },
  {
   "cell_type": "code",
   "execution_count": 9,
   "metadata": {},
   "outputs": [
    {
     "name": "stdout",
     "output_type": "stream",
     "text": [
      "+--------------------+--------------------+------------+-----------+------------+---+---------+----+------+---------------+--------------------+----------+-----------+-----------+------------+--------------------+\n",
      "|                path|            features|          ID|  lesion_id|    image_id| dx|  dx_type| age|   sex|   localization|          features_2|indexed_dx|indexed_sex|indexed_loc|indexed_type|         pcaFeatures|\n",
      "+--------------------+--------------------+------------+-----------+------------+---+---------+----+------+---------------+--------------------+----------+-----------+-----------+------------+--------------------+\n",
      "|file:/project/ds5...|[0.69691277, 0.0,...|ISIC_0032827|HAM_0006003|ISIC_0032827|bkl|consensus|85.0|female|lower extremity|[0.69691276550292...|       2.0|        1.0|        1.0|         2.0|[71.8275654736491...|\n",
      "|file:/project/ds5...|[0.0, 0.0, 0.0, 0...|ISIC_0032994|HAM_0000772|ISIC_0032994| nv|    histo|20.0|female|           face|[0.0,0.0,0.0,0.0,...|       0.0|        1.0|        5.0|         0.0|[185.832271325104...|\n",
      "|file:/project/ds5...|[0.0, 0.0, 0.0, 0...|ISIC_0029466|HAM_0002021|ISIC_0029466|bcc|    histo|65.0|female|upper extremity|[0.0,0.0,0.0,0.0,...|       3.0|        1.0|        3.0|         0.0|[280.230169740428...|\n",
      "|file:/project/ds5...|[0.1439662, 0.0, ...|ISIC_0030754|HAM_0007502|ISIC_0030754|mel|    histo|50.0|female|lower extremity|[0.14396619796752...|       1.0|        1.0|        1.0|         0.0|[35.0473013578792...|\n",
      "|file:/project/ds5...|[0.0, 0.0, 0.0, 0...|ISIC_0030168|HAM_0000966|ISIC_0030168| nv|follow_up|45.0|female|          trunk|[0.0,0.0,0.0,0.0,...|       0.0|        1.0|        2.0|         1.0|[106.988531452236...|\n",
      "+--------------------+--------------------+------------+-----------+------------+---+---------+----+------+---------------+--------------------+----------+-----------+-----------+------------+--------------------+\n",
      "only showing top 5 rows\n",
      "\n"
     ]
    }
   ],
   "source": [
    "pca_table.show(5)"
   ]
  },
  {
   "cell_type": "code",
   "execution_count": 10,
   "metadata": {},
   "outputs": [
    {
     "data": {
      "text/plain": [
       "DataFrame[path: string, features: array<float>, ID: string, lesion_id: string, image_id: string, dx: string, dx_type: string, age: double, sex: string, localization: string, features_2: vector, indexed_dx: double, indexed_sex: double, indexed_loc: double, indexed_type: double, pcaFeatures: vector]"
      ]
     },
     "execution_count": 10,
     "metadata": {},
     "output_type": "execute_result"
    }
   ],
   "source": [
    "pca_table.cache()"
   ]
  },
  {
   "cell_type": "markdown",
   "metadata": {},
   "source": [
    "# Model using PCA top 50\n",
    "## assemble features. "
   ]
  },
  {
   "cell_type": "code",
   "execution_count": 11,
   "metadata": {},
   "outputs": [],
   "source": [
    "from pyspark.ml.feature import OneHotEncoder\n",
    "from pyspark.ml.classification import OneVsRest\n",
    "\n",
    "#Define preprocessing pipeline\n",
    "\n",
    "#OneHot encode variables\n",
    "OH = OneHotEncoder(inputCols = ['indexed_sex', 'indexed_loc'], outputCols = ['OH_sex', 'OH_loc'])\n",
    "\n",
    "#Assemble Features vector\n",
    "vec_assemb = VectorAssembler(inputCols = ['age', 'OH_sex', 'OH_loc', 'pcaFeatures'], \\\n",
    "                             outputCol = 'Feature_vec', handleInvalid = 'skip')\n",
    "\n",
    "\n",
    "gbt = GBTClassifier(labelCol=\"indexed_dx\", featuresCol=\"Feature_vec\", maxIter=10, maxDepth=5, maxBins=32)\n",
    "ovr  = OneVsRest(classifier=gbt,  featuresCol='Feature_vec', labelCol='indexed_dx')"
   ]
  },
  {
   "cell_type": "code",
   "execution_count": 22,
   "metadata": {},
   "outputs": [],
   "source": [
    "model_pipe = Pipeline(stages = [ OH, vec_assemb, ovr])"
   ]
  },
  {
   "cell_type": "code",
   "execution_count": null,
   "metadata": {},
   "outputs": [],
   "source": []
  },
  {
   "cell_type": "code",
   "execution_count": 13,
   "metadata": {},
   "outputs": [],
   "source": [
    "# save dataframe\n",
    "# transformed_table.write.save(\"/project/ds5559/BioNerds/saved_data/transformed_table.parquet\")"
   ]
  },
  {
   "cell_type": "markdown",
   "metadata": {},
   "source": [
    "# split transformed_table to training set and test set by dx. \n",
    "# using stratified split by ratio 0.8:0.2"
   ]
  },
  {
   "cell_type": "code",
   "execution_count": 14,
   "metadata": {},
   "outputs": [
    {
     "name": "stdout",
     "output_type": "stream",
     "text": [
      "+-----+----------+-----+\n",
      "|   dx|indexed_dx|count|\n",
      "+-----+----------+-----+\n",
      "|  bcc|       3.0|  514|\n",
      "|  mel|       1.0| 1111|\n",
      "|   nv|       0.0| 6650|\n",
      "|  bkl|       2.0| 1089|\n",
      "|   df|       6.0|  115|\n",
      "| vasc|       5.0|  142|\n",
      "|akiec|       4.0|  327|\n",
      "+-----+----------+-----+\n",
      "\n"
     ]
    }
   ],
   "source": [
    "pca_table.select(\"dx\", \"indexed_dx\").groupby(\"dx\",\"indexed_dx\").count().show()"
   ]
  },
  {
   "cell_type": "code",
   "execution_count": 15,
   "metadata": {},
   "outputs": [
    {
     "data": {
      "text/plain": [
       "{'vasc': 0.8,\n",
       " 'nv': 0.8,\n",
       " 'mel': 0.8,\n",
       " 'bcc': 0.8,\n",
       " 'df': 0.8,\n",
       " 'bkl': 0.8,\n",
       " 'akiec': 0.8}"
      ]
     },
     "execution_count": 15,
     "metadata": {},
     "output_type": "execute_result"
    }
   ],
   "source": [
    "fractions = pca_table.select(\"dx\").distinct().withColumn(\"fraction\", F.lit(0.8)).rdd.collectAsMap()\n",
    "fractions"
   ]
  },
  {
   "cell_type": "code",
   "execution_count": 16,
   "metadata": {},
   "outputs": [],
   "source": [
    "training_set = pca_table.stat.sampleBy(\"dx\",fractions, seed=314)"
   ]
  },
  {
   "cell_type": "code",
   "execution_count": 17,
   "metadata": {},
   "outputs": [
    {
     "name": "stdout",
     "output_type": "stream",
     "text": [
      "+-----+----------+-----+\n",
      "|   dx|indexed_dx|count|\n",
      "+-----+----------+-----+\n",
      "|  bcc|       3.0|  411|\n",
      "|  mel|       1.0|  890|\n",
      "|   nv|       0.0| 5336|\n",
      "|  bkl|       2.0|  865|\n",
      "|   df|       6.0|   95|\n",
      "| vasc|       5.0|  111|\n",
      "|akiec|       4.0|  272|\n",
      "+-----+----------+-----+\n",
      "\n",
      "CPU times: user 1.42 ms, sys: 1.54 ms, total: 2.96 ms\n",
      "Wall time: 4.16 s\n"
     ]
    },
    {
     "data": {
      "text/plain": [
       "DataFrame[path: string, features: array<float>, ID: string, lesion_id: string, image_id: string, dx: string, dx_type: string, age: double, sex: string, localization: string, features_2: vector, indexed_dx: double, indexed_sex: double, indexed_loc: double, indexed_type: double, pcaFeatures: vector]"
      ]
     },
     "execution_count": 17,
     "metadata": {},
     "output_type": "execute_result"
    }
   ],
   "source": [
    "%%time\n",
    "training_set.select(\"dx\", \"indexed_dx\").groupby(\"dx\",\"indexed_dx\").count().show()\n",
    "training_set.cache()"
   ]
  },
  {
   "cell_type": "code",
   "execution_count": 18,
   "metadata": {},
   "outputs": [
    {
     "name": "stdout",
     "output_type": "stream",
     "text": [
      "CPU times: user 460 µs, sys: 1.35 ms, total: 1.81 ms\n",
      "Wall time: 112 ms\n"
     ]
    },
    {
     "data": {
      "text/plain": [
       "DataFrame[path: string, features: array<float>, ID: string, lesion_id: string, image_id: string, dx: string, dx_type: string, age: double, sex: string, localization: string, features_2: vector, indexed_dx: double, indexed_sex: double, indexed_loc: double, indexed_type: double, pcaFeatures: vector]"
      ]
     },
     "execution_count": 18,
     "metadata": {},
     "output_type": "execute_result"
    }
   ],
   "source": [
    "%%time\n",
    "test_set = pca_table.subtract(training_set)\n",
    "test_set.cache()"
   ]
  },
  {
   "cell_type": "code",
   "execution_count": 19,
   "metadata": {},
   "outputs": [
    {
     "name": "stdout",
     "output_type": "stream",
     "text": [
      "+-----+----------+-----+\n",
      "|   dx|indexed_dx|count|\n",
      "+-----+----------+-----+\n",
      "|  bcc|       3.0|  103|\n",
      "|  mel|       1.0|  221|\n",
      "|   nv|       0.0| 1314|\n",
      "|  bkl|       2.0|  224|\n",
      "|   df|       6.0|   20|\n",
      "| vasc|       5.0|   31|\n",
      "|akiec|       4.0|   55|\n",
      "+-----+----------+-----+\n",
      "\n",
      "CPU times: user 7.81 ms, sys: 3.77 ms, total: 11.6 ms\n",
      "Wall time: 1min 12s\n"
     ]
    }
   ],
   "source": [
    "%%time\n",
    "test_set.select(\"dx\", \"indexed_dx\").groupby(\"dx\",\"indexed_dx\").count().show()"
   ]
  },
  {
   "cell_type": "code",
   "execution_count": 20,
   "metadata": {},
   "outputs": [
    {
     "data": {
      "text/plain": [
       "DataFrame[path: string, features: array<float>, ID: string, lesion_id: string, image_id: string, dx: string, dx_type: string, age: double, sex: string, localization: string, features_2: vector, indexed_dx: double, indexed_sex: double, indexed_loc: double, indexed_type: double, pcaFeatures: vector]"
      ]
     },
     "execution_count": 20,
     "metadata": {},
     "output_type": "execute_result"
    }
   ],
   "source": [
    "test_set.cache()"
   ]
  },
  {
   "cell_type": "markdown",
   "metadata": {},
   "source": [
    "# fit GBT Model"
   ]
  },
  {
   "cell_type": "markdown",
   "metadata": {},
   "source": [
    "### Model with age, sex, localization, age, dx_type"
   ]
  },
  {
   "cell_type": "code",
   "execution_count": 23,
   "metadata": {},
   "outputs": [
    {
     "name": "stdout",
     "output_type": "stream",
     "text": [
      "CPU times: user 231 ms, sys: 65 ms, total: 296 ms\n",
      "Wall time: 3min 16s\n"
     ]
    }
   ],
   "source": [
    "%%time\n",
    "model = model_pipe.fit(training_set)"
   ]
  },
  {
   "cell_type": "code",
   "execution_count": 24,
   "metadata": {},
   "outputs": [
    {
     "name": "stdout",
     "output_type": "stream",
     "text": [
      "CPU times: user 80.8 ms, sys: 28.1 ms, total: 109 ms\n",
      "Wall time: 593 ms\n"
     ]
    }
   ],
   "source": [
    "%%time\n",
    "predictions =model.transform(test_set)\n"
   ]
  },
  {
   "cell_type": "code",
   "execution_count": 25,
   "metadata": {},
   "outputs": [
    {
     "name": "stdout",
     "output_type": "stream",
     "text": [
      "CPU times: user 31.7 ms, sys: 3.55 ms, total: 35.3 ms\n",
      "Wall time: 16.9 s\n"
     ]
    },
    {
     "data": {
      "text/plain": [
       "0.7003430634440264"
      ]
     },
     "execution_count": 25,
     "metadata": {},
     "output_type": "execute_result"
    }
   ],
   "source": [
    "%%time\n",
    "from pyspark.ml.evaluation import MulticlassClassificationEvaluator\n",
    "evaluator = MulticlassClassificationEvaluator(predictionCol=\"prediction\", labelCol=\"indexed_dx\")\n",
    "evaluator.evaluate(predictions)"
   ]
  },
  {
   "cell_type": "code",
   "execution_count": 26,
   "metadata": {},
   "outputs": [],
   "source": [
    "from pyspark.mllib.evaluation import MulticlassMetrics\n",
    "predictionAndLabels = predictions.select(\"prediction\",\"indexed_dx\")"
   ]
  },
  {
   "cell_type": "code",
   "execution_count": 27,
   "metadata": {},
   "outputs": [
    {
     "name": "stdout",
     "output_type": "stream",
     "text": [
      "+----------+----------+\n",
      "|prediction|indexed_dx|\n",
      "+----------+----------+\n",
      "|       2.0|       2.0|\n",
      "|       0.0|       0.0|\n",
      "|       1.0|       1.0|\n",
      "|       0.0|       0.0|\n",
      "|       0.0|       0.0|\n",
      "+----------+----------+\n",
      "only showing top 5 rows\n",
      "\n"
     ]
    }
   ],
   "source": [
    "predictionAndLabels.show(5)"
   ]
  },
  {
   "cell_type": "code",
   "execution_count": 28,
   "metadata": {},
   "outputs": [
    {
     "data": {
      "text/plain": [
       "array([[1.258e+03, 1.600e+01, 3.500e+01, 2.000e+00, 2.000e+00, 1.000e+00,\n",
       "        0.000e+00],\n",
       "       [1.230e+02, 5.500e+01, 2.700e+01, 1.000e+01, 4.000e+00, 1.000e+00,\n",
       "        1.000e+00],\n",
       "       [9.200e+01, 2.300e+01, 9.000e+01, 1.100e+01, 6.000e+00, 1.000e+00,\n",
       "        1.000e+00],\n",
       "       [2.700e+01, 1.000e+01, 1.900e+01, 3.700e+01, 1.000e+01, 0.000e+00,\n",
       "        0.000e+00],\n",
       "       [1.800e+01, 1.000e+00, 2.100e+01, 6.000e+00, 8.000e+00, 0.000e+00,\n",
       "        1.000e+00],\n",
       "       [2.100e+01, 3.000e+00, 3.000e+00, 3.000e+00, 0.000e+00, 1.000e+00,\n",
       "        0.000e+00],\n",
       "       [1.400e+01, 2.000e+00, 2.000e+00, 2.000e+00, 0.000e+00, 0.000e+00,\n",
       "        0.000e+00]])"
      ]
     },
     "execution_count": 28,
     "metadata": {},
     "output_type": "execute_result"
    }
   ],
   "source": [
    "metrics = MulticlassMetrics(predictionAndLabels.rdd)\n",
    "metrics.confusionMatrix().toArray()"
   ]
  },
  {
   "cell_type": "markdown",
   "metadata": {},
   "source": [
    "### confusion matrix"
   ]
  },
  {
   "cell_type": "code",
   "execution_count": 29,
   "metadata": {},
   "outputs": [
    {
     "data": {
      "text/plain": [
       "<sklearn.metrics._plot.confusion_matrix.ConfusionMatrixDisplay at 0x7f475401e5d0>"
      ]
     },
     "execution_count": 29,
     "metadata": {},
     "output_type": "execute_result"
    },
    {
     "data": {
      "image/png": "[encoded data removed]",
      "text/plain": [
       "<Figure size 432x288 with 2 Axes>"
      ]
     },
     "metadata": {
      "needs_background": "light"
     },
     "output_type": "display_data"
    }
   ],
   "source": [
    "from sklearn.metrics import confusion_matrix, ConfusionMatrixDisplay, classification_report, roc_auc_score\n",
    "ConfusionMatrixDisplay(metrics.confusionMatrix().toArray().astype(int)).plot()"
   ]
  },
  {
   "cell_type": "markdown",
   "metadata": {},
   "source": [
    "### accuracy"
   ]
  },
  {
   "cell_type": "code",
   "execution_count": 30,
   "metadata": {},
   "outputs": [
    {
     "name": "stdout",
     "output_type": "stream",
     "text": [
      "accuracy: 0.7362804878048781\n",
      "precision: 0.6876661461826228\n",
      "recall: 0.7362804878048781\n",
      "fMeasure: 0.7003430634440264\n"
     ]
    }
   ],
   "source": [
    "print(\"accuracy: {}\".format(metrics.accuracy))\n",
    "print(\"precision: {}\".format(metrics.weightedPrecision))\n",
    "print(\"recall: {}\".format(metrics.weightedRecall))\n",
    "print(\"fMeasure: {}\".format(metrics.weightedFMeasure()))"
   ]
  },
  {
   "cell_type": "markdown",
   "metadata": {},
   "source": [
    "### Statistics by class"
   ]
  },
  {
   "cell_type": "code",
   "execution_count": 31,
   "metadata": {},
   "outputs": [
    {
     "data": {
      "text/html": [
       "<div>\n",
       "<style scoped>\n",
       "    .dataframe tbody tr th:only-of-type {\n",
       "        vertical-align: middle;\n",
       "    }\n",
       "\n",
       "    .dataframe tbody tr th {\n",
       "        vertical-align: top;\n",
       "    }\n",
       "\n",
       "    .dataframe thead th {\n",
       "        text-align: right;\n",
       "    }\n",
       "</style>\n",
       "<table border=\"1\" class=\"dataframe\">\n",
       "  <thead>\n",
       "    <tr style=\"text-align: right;\">\n",
       "      <th></th>\n",
       "      <th>class</th>\n",
       "      <th>f1</th>\n",
       "      <th>precision</th>\n",
       "      <th>recall</th>\n",
       "    </tr>\n",
       "  </thead>\n",
       "  <tbody>\n",
       "    <tr>\n",
       "      <th>0</th>\n",
       "      <td>0.0</td>\n",
       "      <td>0.877572</td>\n",
       "      <td>0.810045</td>\n",
       "      <td>0.957382</td>\n",
       "    </tr>\n",
       "    <tr>\n",
       "      <th>1</th>\n",
       "      <td>1.0</td>\n",
       "      <td>0.332326</td>\n",
       "      <td>0.500000</td>\n",
       "      <td>0.248869</td>\n",
       "    </tr>\n",
       "    <tr>\n",
       "      <th>2</th>\n",
       "      <td>2.0</td>\n",
       "      <td>0.427553</td>\n",
       "      <td>0.456853</td>\n",
       "      <td>0.401786</td>\n",
       "    </tr>\n",
       "    <tr>\n",
       "      <th>3</th>\n",
       "      <td>3.0</td>\n",
       "      <td>0.425287</td>\n",
       "      <td>0.521127</td>\n",
       "      <td>0.359223</td>\n",
       "    </tr>\n",
       "    <tr>\n",
       "      <th>4</th>\n",
       "      <td>4.0</td>\n",
       "      <td>0.188235</td>\n",
       "      <td>0.266667</td>\n",
       "      <td>0.145455</td>\n",
       "    </tr>\n",
       "    <tr>\n",
       "      <th>5</th>\n",
       "      <td>5.0</td>\n",
       "      <td>0.057143</td>\n",
       "      <td>0.250000</td>\n",
       "      <td>0.032258</td>\n",
       "    </tr>\n",
       "    <tr>\n",
       "      <th>6</th>\n",
       "      <td>6.0</td>\n",
       "      <td>0.000000</td>\n",
       "      <td>0.000000</td>\n",
       "      <td>0.000000</td>\n",
       "    </tr>\n",
       "  </tbody>\n",
       "</table>\n",
       "</div>"
      ],
      "text/plain": [
       "   class        f1  precision    recall\n",
       "0    0.0  0.877572   0.810045  0.957382\n",
       "1    1.0  0.332326   0.500000  0.248869\n",
       "2    2.0  0.427553   0.456853  0.401786\n",
       "3    3.0  0.425287   0.521127  0.359223\n",
       "4    4.0  0.188235   0.266667  0.145455\n",
       "5    5.0  0.057143   0.250000  0.032258\n",
       "6    6.0  0.000000   0.000000  0.000000"
      ]
     },
     "execution_count": 31,
     "metadata": {},
     "output_type": "execute_result"
    }
   ],
   "source": [
    "labels = predictionAndLabels.rdd.map(lambda lp: lp.indexed_dx).distinct().collect()\n",
    "df = pd.DataFrame()\n",
    "for label in sorted(labels):\n",
    "    df = df.append({\"class\": label, \n",
    "               \"precision\":metrics.precision(label),\n",
    "               \"recall\":metrics.recall(label),\n",
    "               \"f1\":metrics.fMeasure(label),\n",
    "              }, ignore_index=True)\n",
    "df"
   ]
  },
  {
   "cell_type": "code",
   "execution_count": null,
   "metadata": {},
   "outputs": [],
   "source": []
  },
  {
   "cell_type": "code",
   "execution_count": null,
   "metadata": {},
   "outputs": [],
   "source": []
  },
  {
   "cell_type": "markdown",
   "metadata": {},
   "source": [
    "# Cross Validation (5 fold) and Tuning hyperparameters"
   ]
  },
  {
   "cell_type": "code",
   "execution_count": 32,
   "metadata": {},
   "outputs": [],
   "source": [
    "### cross valication\n",
    "\n",
    "#%%time\n",
    "from pyspark.ml.tuning import ParamGridBuilder, CrossValidator\n",
    "# Create ParamGrid for Cross Validation\n",
    "paramGrid = (ParamGridBuilder()\n",
    "             .addGrid(gbt.maxDepth, [5, 10, 15]) # Max Depth of trees\n",
    "             .addGrid(gbt.maxBins, [8,16 ,32]) # Max binning for numeric features\n",
    "             .build())"
   ]
  },
  {
   "cell_type": "code",
   "execution_count": 33,
   "metadata": {},
   "outputs": [
    {
     "name": "stdout",
     "output_type": "stream",
     "text": [
      "CPU times: user 353 µs, sys: 0 ns, total: 353 µs\n",
      "Wall time: 345 µs\n"
     ]
    }
   ],
   "source": [
    "%%time\n",
    "# Create 5-fold CrossValidator\n",
    "cv = CrossValidator(estimator=model_pipe, \\\n",
    "                    estimatorParamMaps=paramGrid, \\\n",
    "                    evaluator=evaluator, \\\n",
    "                    numFolds=5, \\\n",
    "                    parallelism = 4, \\\n",
    "                    seed = 314)"
   ]
  },
  {
   "cell_type": "code",
   "execution_count": 34,
   "metadata": {},
   "outputs": [
    {
     "name": "stdout",
     "output_type": "stream",
     "text": [
      "CPU times: user 1min 32s, sys: 28.5 s, total: 2min\n",
      "Wall time: 3h 14min 22s\n"
     ]
    }
   ],
   "source": [
    "%%time\n",
    "cvModel = cv.fit(training_set)"
   ]
  },
  {
   "cell_type": "code",
   "execution_count": 35,
   "metadata": {},
   "outputs": [],
   "source": [
    "cvModel.save(\"GBT_pca\")"
   ]
  },
  {
   "cell_type": "code",
   "execution_count": 36,
   "metadata": {},
   "outputs": [
    {
     "name": "stdout",
     "output_type": "stream",
     "text": [
      "CPU times: user 90 ms, sys: 35.8 ms, total: 126 ms\n",
      "Wall time: 518 ms\n"
     ]
    }
   ],
   "source": [
    "%%time\n",
    "cv_predictions = cvModel.transform(test_set)"
   ]
  },
  {
   "cell_type": "code",
   "execution_count": 37,
   "metadata": {},
   "outputs": [
    {
     "name": "stdout",
     "output_type": "stream",
     "text": [
      "CPU times: user 161 ms, sys: 67.1 ms, total: 228 ms\n",
      "Wall time: 13.1 s\n"
     ]
    },
    {
     "data": {
      "text/plain": [
       "0.7018638634759664"
      ]
     },
     "execution_count": 37,
     "metadata": {},
     "output_type": "execute_result"
    }
   ],
   "source": [
    "%%time\n",
    "# Evaluate best model\n",
    "evaluator = MulticlassClassificationEvaluator(predictionCol=\"prediction\", labelCol=\"indexed_dx\")\n",
    "evaluator.evaluate(cv_predictions)"
   ]
  },
  {
   "cell_type": "code",
   "execution_count": 38,
   "metadata": {},
   "outputs": [],
   "source": [
    "bestModel = cvModel.bestModel"
   ]
  },
  {
   "cell_type": "code",
   "execution_count": 81,
   "metadata": {},
   "outputs": [
    {
     "name": "stdout",
     "output_type": "stream",
     "text": [
      "Best Param (MaxBins):  16\n",
      "Best Param (MaxDepth):  5\n",
      "Best Param (MaxIter):  10\n"
     ]
    }
   ],
   "source": [
    "print ('Best Param (MaxBins): ', bestModel.stages[2].getClassifier().getMaxBins())\n",
    "print ('Best Param (MaxDepth): ', bestModel.stages[2].getClassifier().getMaxDepth())\n",
    "print ('Best Param (MaxIter): ', bestModel.stages[2].getClassifier().getMaxIter())"
   ]
  },
  {
   "cell_type": "code",
   "execution_count": 39,
   "metadata": {},
   "outputs": [
    {
     "data": {
      "text/plain": [
       "array([[1.259e+03, 2.100e+01, 2.500e+01, 4.000e+00, 2.000e+00, 0.000e+00,\n",
       "        3.000e+00],\n",
       "       [1.240e+02, 5.000e+01, 3.000e+01, 1.100e+01, 5.000e+00, 0.000e+00,\n",
       "        1.000e+00],\n",
       "       [9.500e+01, 2.300e+01, 8.600e+01, 1.300e+01, 5.000e+00, 1.000e+00,\n",
       "        1.000e+00],\n",
       "       [2.300e+01, 8.000e+00, 2.500e+01, 4.000e+01, 4.000e+00, 1.000e+00,\n",
       "        2.000e+00],\n",
       "       [1.600e+01, 4.000e+00, 1.700e+01, 7.000e+00, 9.000e+00, 0.000e+00,\n",
       "        2.000e+00],\n",
       "       [2.000e+01, 1.000e+00, 4.000e+00, 1.000e+00, 0.000e+00, 5.000e+00,\n",
       "        0.000e+00],\n",
       "       [1.400e+01, 2.000e+00, 2.000e+00, 1.000e+00, 1.000e+00, 0.000e+00,\n",
       "        0.000e+00]])"
      ]
     },
     "execution_count": 39,
     "metadata": {},
     "output_type": "execute_result"
    }
   ],
   "source": [
    "cv_predictionAndLabels = cv_predictions.select(\"prediction\",\"indexed_dx\")\n",
    "cv_metrics = MulticlassMetrics(cv_predictionAndLabels.rdd)\n",
    "cv_metrics.confusionMatrix().toArray()"
   ]
  },
  {
   "cell_type": "code",
   "execution_count": 40,
   "metadata": {},
   "outputs": [
    {
     "data": {
      "text/plain": [
       "<sklearn.metrics._plot.confusion_matrix.ConfusionMatrixDisplay at 0x7f471871c950>"
      ]
     },
     "execution_count": 40,
     "metadata": {},
     "output_type": "execute_result"
    },
    {
     "data": {
      "image/png": "[encoded data removed]",
      "text/plain": [
       "<Figure size 432x288 with 2 Axes>"
      ]
     },
     "metadata": {
      "needs_background": "light"
     },
     "output_type": "display_data"
    }
   ],
   "source": [
    "ConfusionMatrixDisplay(cv_metrics.confusionMatrix().toArray().astype(int)).plot()"
   ]
  },
  {
   "cell_type": "markdown",
   "metadata": {},
   "source": [
    "#### accuracy, precision, recall, fMeasure"
   ]
  },
  {
   "cell_type": "code",
   "execution_count": 41,
   "metadata": {},
   "outputs": [
    {
     "name": "stdout",
     "output_type": "stream",
     "text": [
      "accuracy: 0.7362804878048781\n",
      "precision: 0.6933988010240352\n",
      "recall: 0.736280487804878\n",
      "fMeasure: 0.7018638634759664\n"
     ]
    }
   ],
   "source": [
    "print(\"accuracy: {}\".format(cv_metrics.accuracy))\n",
    "print(\"precision: {}\".format(cv_metrics.weightedPrecision))\n",
    "print(\"recall: {}\".format(cv_metrics.weightedRecall))\n",
    "print(\"fMeasure: {}\".format(cv_metrics.weightedFMeasure()))"
   ]
  },
  {
   "cell_type": "markdown",
   "metadata": {},
   "source": [
    "### Statistics by class"
   ]
  },
  {
   "cell_type": "code",
   "execution_count": 42,
   "metadata": {},
   "outputs": [
    {
     "data": {
      "text/html": [
       "<div>\n",
       "<style scoped>\n",
       "    .dataframe tbody tr th:only-of-type {\n",
       "        vertical-align: middle;\n",
       "    }\n",
       "\n",
       "    .dataframe tbody tr th {\n",
       "        vertical-align: top;\n",
       "    }\n",
       "\n",
       "    .dataframe thead th {\n",
       "        text-align: right;\n",
       "    }\n",
       "</style>\n",
       "<table border=\"1\" class=\"dataframe\">\n",
       "  <thead>\n",
       "    <tr style=\"text-align: right;\">\n",
       "      <th></th>\n",
       "      <th>class</th>\n",
       "      <th>f1</th>\n",
       "      <th>precision</th>\n",
       "      <th>recall</th>\n",
       "    </tr>\n",
       "  </thead>\n",
       "  <tbody>\n",
       "    <tr>\n",
       "      <th>0</th>\n",
       "      <td>0.0</td>\n",
       "      <td>0.878883</td>\n",
       "      <td>0.811734</td>\n",
       "      <td>0.958143</td>\n",
       "    </tr>\n",
       "    <tr>\n",
       "      <th>1</th>\n",
       "      <td>1.0</td>\n",
       "      <td>0.303030</td>\n",
       "      <td>0.458716</td>\n",
       "      <td>0.226244</td>\n",
       "    </tr>\n",
       "    <tr>\n",
       "      <th>2</th>\n",
       "      <td>2.0</td>\n",
       "      <td>0.416465</td>\n",
       "      <td>0.455026</td>\n",
       "      <td>0.383929</td>\n",
       "    </tr>\n",
       "    <tr>\n",
       "      <th>3</th>\n",
       "      <td>3.0</td>\n",
       "      <td>0.444444</td>\n",
       "      <td>0.519481</td>\n",
       "      <td>0.388350</td>\n",
       "    </tr>\n",
       "    <tr>\n",
       "      <th>4</th>\n",
       "      <td>4.0</td>\n",
       "      <td>0.222222</td>\n",
       "      <td>0.346154</td>\n",
       "      <td>0.163636</td>\n",
       "    </tr>\n",
       "    <tr>\n",
       "      <th>5</th>\n",
       "      <td>5.0</td>\n",
       "      <td>0.263158</td>\n",
       "      <td>0.714286</td>\n",
       "      <td>0.161290</td>\n",
       "    </tr>\n",
       "    <tr>\n",
       "      <th>6</th>\n",
       "      <td>6.0</td>\n",
       "      <td>0.000000</td>\n",
       "      <td>0.000000</td>\n",
       "      <td>0.000000</td>\n",
       "    </tr>\n",
       "  </tbody>\n",
       "</table>\n",
       "</div>"
      ],
      "text/plain": [
       "   class        f1  precision    recall\n",
       "0    0.0  0.878883   0.811734  0.958143\n",
       "1    1.0  0.303030   0.458716  0.226244\n",
       "2    2.0  0.416465   0.455026  0.383929\n",
       "3    3.0  0.444444   0.519481  0.388350\n",
       "4    4.0  0.222222   0.346154  0.163636\n",
       "5    5.0  0.263158   0.714286  0.161290\n",
       "6    6.0  0.000000   0.000000  0.000000"
      ]
     },
     "execution_count": 42,
     "metadata": {},
     "output_type": "execute_result"
    }
   ],
   "source": [
    "labels = cv_predictionAndLabels.rdd.map(lambda lp: lp.indexed_dx).distinct().collect()\n",
    "cv_df = pd.DataFrame()\n",
    "for label in sorted(labels):\n",
    "    cv_df = cv_df.append({\"class\": label, \n",
    "               \"precision\":cv_metrics.precision(label),\n",
    "               \"recall\":cv_metrics.recall(label),\n",
    "               \"f1\":cv_metrics.fMeasure(label),\n",
    "              }, ignore_index=True)\n",
    "cv_df"
   ]
  },
  {
   "cell_type": "code",
   "execution_count": null,
   "metadata": {},
   "outputs": [],
   "source": []
  },
  {
   "cell_type": "code",
   "execution_count": null,
   "metadata": {},
   "outputs": [],
   "source": []
  },
  {
   "cell_type": "markdown",
   "metadata": {},
   "source": [
    "# RandonForest, newly trained TL model,"
   ]
  },
  {
   "cell_type": "code",
   "execution_count": 44,
   "metadata": {},
   "outputs": [],
   "source": [
    "RN50_df = spark.read.load(\"/project/ds5559/BioNerds/saved_data/ResNet50_indexed.parquet\")"
   ]
  },
  {
   "cell_type": "markdown",
   "metadata": {},
   "source": [
    "### split transformed_table to training set and test set by dx.\n",
    "### using stratified split by ratio 0.8:0.2"
   ]
  },
  {
   "cell_type": "code",
   "execution_count": 45,
   "metadata": {},
   "outputs": [
    {
     "name": "stdout",
     "output_type": "stream",
     "text": [
      "+-----+----------+-----+\n",
      "|   dx|indexed_dx|count|\n",
      "+-----+----------+-----+\n",
      "|  bcc|       3.0|  514|\n",
      "|  mel|       1.0| 1111|\n",
      "|   nv|       0.0| 6650|\n",
      "|  bkl|       2.0| 1089|\n",
      "|   df|       6.0|  115|\n",
      "| vasc|       5.0|  142|\n",
      "|akiec|       4.0|  327|\n",
      "+-----+----------+-----+\n",
      "\n"
     ]
    }
   ],
   "source": [
    "RN50_df.select(\"dx\", \"indexed_dx\").groupby(\"dx\",\"indexed_dx\").count().show()"
   ]
  },
  {
   "cell_type": "code",
   "execution_count": 46,
   "metadata": {},
   "outputs": [
    {
     "data": {
      "text/plain": [
       "{'vasc': 0.8,\n",
       " 'nv': 0.8,\n",
       " 'mel': 0.8,\n",
       " 'bcc': 0.8,\n",
       " 'df': 0.8,\n",
       " 'bkl': 0.8,\n",
       " 'akiec': 0.8}"
      ]
     },
     "execution_count": 46,
     "metadata": {},
     "output_type": "execute_result"
    }
   ],
   "source": [
    "fractions = RN50_df.select(\"dx\").distinct().withColumn(\"fraction\", F.lit(0.8)).rdd.collectAsMap()\n",
    "fractions"
   ]
  },
  {
   "cell_type": "code",
   "execution_count": 47,
   "metadata": {},
   "outputs": [],
   "source": [
    "training_RN50 = RN50_df.stat.sampleBy(\"dx\",fractions, seed=314)"
   ]
  },
  {
   "cell_type": "code",
   "execution_count": 48,
   "metadata": {},
   "outputs": [
    {
     "name": "stdout",
     "output_type": "stream",
     "text": [
      "+-----+----------+-----+\n",
      "|   dx|indexed_dx|count|\n",
      "+-----+----------+-----+\n",
      "|  bcc|       3.0|  399|\n",
      "|  mel|       1.0|  888|\n",
      "|   nv|       0.0| 5333|\n",
      "|  bkl|       2.0|  874|\n",
      "|   df|       6.0|   89|\n",
      "| vasc|       5.0|  114|\n",
      "|akiec|       4.0|  257|\n",
      "+-----+----------+-----+\n",
      "\n",
      "CPU times: user 6.46 ms, sys: 231 µs, total: 6.69 ms\n",
      "Wall time: 273 ms\n"
     ]
    },
    {
     "data": {
      "text/plain": [
       "DataFrame[lesion_id: string, image_id: string, dx: string, dx_type: string, age: double, sex: string, localization: string, indexed_dx: double, indexed_sex: double, indexed_loc: double, indexed_type: double, features: array<float>, ID: string, features_2: vector]"
      ]
     },
     "execution_count": 48,
     "metadata": {},
     "output_type": "execute_result"
    }
   ],
   "source": [
    "%%time\n",
    "training_RN50.select(\"dx\", \"indexed_dx\").groupby(\"dx\",\"indexed_dx\").count().show()\n",
    "training_RN50.cache()"
   ]
  },
  {
   "cell_type": "code",
   "execution_count": 49,
   "metadata": {},
   "outputs": [
    {
     "name": "stdout",
     "output_type": "stream",
     "text": [
      "CPU times: user 0 ns, sys: 2.81 ms, total: 2.81 ms\n",
      "Wall time: 64.1 ms\n"
     ]
    },
    {
     "data": {
      "text/plain": [
       "DataFrame[lesion_id: string, image_id: string, dx: string, dx_type: string, age: double, sex: string, localization: string, indexed_dx: double, indexed_sex: double, indexed_loc: double, indexed_type: double, features: array<float>, ID: string, features_2: vector]"
      ]
     },
     "execution_count": 49,
     "metadata": {},
     "output_type": "execute_result"
    }
   ],
   "source": [
    "%%time\n",
    "test_RN50 = RN50_df.subtract(training_RN50)\n",
    "test_RN50.cache()"
   ]
  },
  {
   "cell_type": "code",
   "execution_count": 50,
   "metadata": {},
   "outputs": [
    {
     "name": "stdout",
     "output_type": "stream",
     "text": [
      "+-----+----------+-----+\n",
      "|   dx|indexed_dx|count|\n",
      "+-----+----------+-----+\n",
      "|  bcc|       3.0|  115|\n",
      "|  mel|       1.0|  223|\n",
      "|   nv|       0.0| 1317|\n",
      "|  bkl|       2.0|  215|\n",
      "|   df|       6.0|   26|\n",
      "| vasc|       5.0|   28|\n",
      "|akiec|       4.0|   70|\n",
      "+-----+----------+-----+\n",
      "\n",
      "CPU times: user 66 ms, sys: 34.2 ms, total: 100 ms\n",
      "Wall time: 6.26 s\n"
     ]
    }
   ],
   "source": [
    "%%time\n",
    "test_RN50.select(\"dx\", \"indexed_dx\").groupby(\"dx\",\"indexed_dx\").count().show()"
   ]
  },
  {
   "cell_type": "markdown",
   "metadata": {},
   "source": [
    "# Traing the GBT"
   ]
  },
  {
   "cell_type": "code",
   "execution_count": 51,
   "metadata": {},
   "outputs": [],
   "source": [
    "from pyspark.ml.feature import OneHotEncoder\n",
    "from pyspark.ml.classification import OneVsRest\n",
    "\n",
    "#Define preprocessing pipeline\n",
    "\n",
    "#OneHot encode variables\n",
    "OH = OneHotEncoder(inputCols = ['indexed_sex', 'indexed_loc'], outputCols = ['OH_sex', 'OH_loc'])\n",
    "\n",
    "#Assemble Features vector\n",
    "vec_assemb = VectorAssembler(inputCols = ['age', 'OH_sex', 'OH_loc', 'features_2'], \\\n",
    "                             outputCol = 'Feature_vec', handleInvalid = 'skip')\n",
    "\n",
    "\n",
    "gbt = GBTClassifier(labelCol=\"indexed_dx\", featuresCol=\"Feature_vec\", maxIter=10, maxDepth=5, maxBins=32)\n",
    "ovr  = OneVsRest(classifier=gbt,  featuresCol='Feature_vec', labelCol='indexed_dx')"
   ]
  },
  {
   "cell_type": "code",
   "execution_count": 52,
   "metadata": {},
   "outputs": [],
   "source": [
    "modelTL_pipe = Pipeline(stages = [ OH, vec_assemb, ovr])"
   ]
  },
  {
   "cell_type": "code",
   "execution_count": 53,
   "metadata": {},
   "outputs": [],
   "source": [
    "model_rf = modelTL_pipe.fit(training_RN50)"
   ]
  },
  {
   "cell_type": "code",
   "execution_count": 54,
   "metadata": {},
   "outputs": [
    {
     "name": "stdout",
     "output_type": "stream",
     "text": [
      "CPU times: user 83.6 ms, sys: 32.9 ms, total: 117 ms\n",
      "Wall time: 530 ms\n"
     ]
    }
   ],
   "source": [
    "%%time\n",
    "predictions =model_rf.transform(test_RN50)"
   ]
  },
  {
   "cell_type": "code",
   "execution_count": 55,
   "metadata": {},
   "outputs": [
    {
     "name": "stdout",
     "output_type": "stream",
     "text": [
      "CPU times: user 119 ms, sys: 52.7 ms, total: 171 ms\n",
      "Wall time: 9.78 s\n"
     ]
    },
    {
     "data": {
      "text/plain": [
       "0.776046309596976"
      ]
     },
     "execution_count": 55,
     "metadata": {},
     "output_type": "execute_result"
    }
   ],
   "source": [
    "%%time\n",
    "from pyspark.ml.evaluation import MulticlassClassificationEvaluator\n",
    "evaluator = MulticlassClassificationEvaluator(predictionCol=\"prediction\", labelCol=\"indexed_dx\")\n",
    "evaluator.evaluate(predictions)"
   ]
  },
  {
   "cell_type": "code",
   "execution_count": 56,
   "metadata": {},
   "outputs": [],
   "source": [
    "from pyspark.mllib.evaluation import MulticlassMetrics\n",
    "predictionAndLabels = predictions.select(\"prediction\",\"indexed_dx\")"
   ]
  },
  {
   "cell_type": "code",
   "execution_count": 57,
   "metadata": {},
   "outputs": [
    {
     "data": {
      "text/plain": [
       "array([[1.245e+03, 3.000e+01, 3.300e+01, 8.000e+00, 1.000e+00, 0.000e+00,\n",
       "        0.000e+00],\n",
       "       [8.000e+01, 9.900e+01, 3.500e+01, 4.000e+00, 3.000e+00, 1.000e+00,\n",
       "        1.000e+00],\n",
       "       [5.200e+01, 2.400e+01, 1.210e+02, 8.000e+00, 9.000e+00, 0.000e+00,\n",
       "        1.000e+00],\n",
       "       [2.400e+01, 1.200e+01, 1.300e+01, 5.800e+01, 6.000e+00, 1.000e+00,\n",
       "        1.000e+00],\n",
       "       [1.200e+01, 7.000e+00, 1.800e+01, 1.000e+01, 2.300e+01, 0.000e+00,\n",
       "        0.000e+00],\n",
       "       [8.000e+00, 2.000e+00, 0.000e+00, 1.000e+00, 0.000e+00, 1.700e+01,\n",
       "        0.000e+00],\n",
       "       [1.100e+01, 2.000e+00, 3.000e+00, 1.000e+00, 1.000e+00, 0.000e+00,\n",
       "        8.000e+00]])"
      ]
     },
     "execution_count": 57,
     "metadata": {},
     "output_type": "execute_result"
    }
   ],
   "source": [
    "metrics = MulticlassMetrics(predictionAndLabels.rdd)\n",
    "metrics.confusionMatrix().toArray()"
   ]
  },
  {
   "cell_type": "code",
   "execution_count": 58,
   "metadata": {},
   "outputs": [
    {
     "data": {
      "text/plain": [
       "<sklearn.metrics._plot.confusion_matrix.ConfusionMatrixDisplay at 0x7f4754050510>"
      ]
     },
     "execution_count": 58,
     "metadata": {},
     "output_type": "execute_result"
    },
    {
     "data": {
      "image/png": "[encoded data removed]",
      "text/plain": [
       "<Figure size 432x288 with 2 Axes>"
      ]
     },
     "metadata": {
      "needs_background": "light"
     },
     "output_type": "display_data"
    }
   ],
   "source": [
    "from sklearn.metrics import confusion_matrix, ConfusionMatrixDisplay, classification_report, roc_auc_score\n",
    "ConfusionMatrixDisplay(metrics.confusionMatrix().toArray().astype(int)).plot()"
   ]
  },
  {
   "cell_type": "code",
   "execution_count": 59,
   "metadata": {},
   "outputs": [
    {
     "name": "stdout",
     "output_type": "stream",
     "text": [
      "accuracy: 0.7878635907723169\n",
      "precision: 0.7736353284804095\n",
      "recall: 0.787863590772317\n",
      "fMeasure: 0.776046309596976\n"
     ]
    }
   ],
   "source": [
    "print(\"accuracy: {}\".format(metrics.accuracy))\n",
    "print(\"precision: {}\".format(metrics.weightedPrecision))\n",
    "print(\"recall: {}\".format(metrics.weightedRecall))\n",
    "print(\"fMeasure: {}\".format(metrics.weightedFMeasure()))"
   ]
  },
  {
   "cell_type": "code",
   "execution_count": 60,
   "metadata": {},
   "outputs": [
    {
     "data": {
      "text/html": [
       "<div>\n",
       "<style scoped>\n",
       "    .dataframe tbody tr th:only-of-type {\n",
       "        vertical-align: middle;\n",
       "    }\n",
       "\n",
       "    .dataframe tbody tr th {\n",
       "        vertical-align: top;\n",
       "    }\n",
       "\n",
       "    .dataframe thead th {\n",
       "        text-align: right;\n",
       "    }\n",
       "</style>\n",
       "<table border=\"1\" class=\"dataframe\">\n",
       "  <thead>\n",
       "    <tr style=\"text-align: right;\">\n",
       "      <th></th>\n",
       "      <th>class</th>\n",
       "      <th>f1</th>\n",
       "      <th>precision</th>\n",
       "      <th>recall</th>\n",
       "    </tr>\n",
       "  </thead>\n",
       "  <tbody>\n",
       "    <tr>\n",
       "      <th>0</th>\n",
       "      <td>0.0</td>\n",
       "      <td>0.905784</td>\n",
       "      <td>0.869413</td>\n",
       "      <td>0.945330</td>\n",
       "    </tr>\n",
       "    <tr>\n",
       "      <th>1</th>\n",
       "      <td>1.0</td>\n",
       "      <td>0.496241</td>\n",
       "      <td>0.562500</td>\n",
       "      <td>0.443946</td>\n",
       "    </tr>\n",
       "    <tr>\n",
       "      <th>2</th>\n",
       "      <td>2.0</td>\n",
       "      <td>0.552511</td>\n",
       "      <td>0.542601</td>\n",
       "      <td>0.562791</td>\n",
       "    </tr>\n",
       "    <tr>\n",
       "      <th>3</th>\n",
       "      <td>3.0</td>\n",
       "      <td>0.565854</td>\n",
       "      <td>0.644444</td>\n",
       "      <td>0.504348</td>\n",
       "    </tr>\n",
       "    <tr>\n",
       "      <th>4</th>\n",
       "      <td>4.0</td>\n",
       "      <td>0.407080</td>\n",
       "      <td>0.534884</td>\n",
       "      <td>0.328571</td>\n",
       "    </tr>\n",
       "    <tr>\n",
       "      <th>5</th>\n",
       "      <td>5.0</td>\n",
       "      <td>0.723404</td>\n",
       "      <td>0.894737</td>\n",
       "      <td>0.607143</td>\n",
       "    </tr>\n",
       "    <tr>\n",
       "      <th>6</th>\n",
       "      <td>6.0</td>\n",
       "      <td>0.432432</td>\n",
       "      <td>0.727273</td>\n",
       "      <td>0.307692</td>\n",
       "    </tr>\n",
       "  </tbody>\n",
       "</table>\n",
       "</div>"
      ],
      "text/plain": [
       "   class        f1  precision    recall\n",
       "0    0.0  0.905784   0.869413  0.945330\n",
       "1    1.0  0.496241   0.562500  0.443946\n",
       "2    2.0  0.552511   0.542601  0.562791\n",
       "3    3.0  0.565854   0.644444  0.504348\n",
       "4    4.0  0.407080   0.534884  0.328571\n",
       "5    5.0  0.723404   0.894737  0.607143\n",
       "6    6.0  0.432432   0.727273  0.307692"
      ]
     },
     "execution_count": 60,
     "metadata": {},
     "output_type": "execute_result"
    }
   ],
   "source": [
    "labels = predictionAndLabels.rdd.map(lambda lp: lp.indexed_dx).distinct().collect()\n",
    "df = pd.DataFrame()\n",
    "for label in sorted(labels):\n",
    "    df = df.append({\"class\": label, \n",
    "               \"precision\":metrics.precision(label),\n",
    "               \"recall\":metrics.recall(label),\n",
    "               \"f1\":metrics.fMeasure(label),\n",
    "              }, ignore_index=True)\n",
    "df"
   ]
  },
  {
   "cell_type": "markdown",
   "metadata": {},
   "source": [
    "# Cross Validation (5 fold) and Tuning hyperparameters"
   ]
  },
  {
   "cell_type": "code",
   "execution_count": 61,
   "metadata": {},
   "outputs": [],
   "source": [
    "### cross valication\n",
    "\n",
    "#%%time\n",
    "from pyspark.ml.tuning import ParamGridBuilder, CrossValidator\n",
    "# Create ParamGrid for Cross Validation\n",
    "paramGrid = (ParamGridBuilder()\n",
    "             .addGrid(gbt.maxDepth, [5, 10, 15]) # Max Depth of trees\n",
    "             .addGrid(gbt.maxBins, [8,16 ,32]) # Max binning for numeric features\n",
    "             .build())"
   ]
  },
  {
   "cell_type": "code",
   "execution_count": 62,
   "metadata": {},
   "outputs": [
    {
     "name": "stdout",
     "output_type": "stream",
     "text": [
      "CPU times: user 375 µs, sys: 0 ns, total: 375 µs\n",
      "Wall time: 347 µs\n"
     ]
    }
   ],
   "source": [
    "%%time\n",
    "# Create 5-fold CrossValidator\n",
    "cv = CrossValidator(estimator=modelTL_pipe, \\\n",
    "                    estimatorParamMaps=paramGrid, \\\n",
    "                    evaluator=evaluator, \\\n",
    "                    numFolds=5, \\\n",
    "                    parallelism = 4, \\\n",
    "                    seed = 314 )"
   ]
  },
  {
   "cell_type": "code",
   "execution_count": 63,
   "metadata": {},
   "outputs": [
    {
     "name": "stdout",
     "output_type": "stream",
     "text": [
      "CPU times: user 1min 27s, sys: 36.2 s, total: 2min 3s\n",
      "Wall time: 1h 32min 55s\n"
     ]
    }
   ],
   "source": [
    "%%time\n",
    "cvModel = cv.fit(training_RN50)"
   ]
  },
  {
   "cell_type": "code",
   "execution_count": 64,
   "metadata": {},
   "outputs": [],
   "source": [
    "cvModel.save(\"GBT_RN50\")"
   ]
  },
  {
   "cell_type": "code",
   "execution_count": 65,
   "metadata": {},
   "outputs": [
    {
     "name": "stdout",
     "output_type": "stream",
     "text": [
      "CPU times: user 92.2 ms, sys: 40.5 ms, total: 133 ms\n",
      "Wall time: 530 ms\n"
     ]
    }
   ],
   "source": [
    "%%time\n",
    "cv_predictions = cvModel.transform(test_RN50)"
   ]
  },
  {
   "cell_type": "code",
   "execution_count": 66,
   "metadata": {},
   "outputs": [
    {
     "name": "stdout",
     "output_type": "stream",
     "text": [
      "CPU times: user 189 ms, sys: 84.1 ms, total: 273 ms\n",
      "Wall time: 9.68 s\n"
     ]
    },
    {
     "data": {
      "text/plain": [
       "0.776046309596976"
      ]
     },
     "execution_count": 66,
     "metadata": {},
     "output_type": "execute_result"
    }
   ],
   "source": [
    "%%time\n",
    "# Evaluate best model\n",
    "evaluator = MulticlassClassificationEvaluator(predictionCol=\"prediction\", labelCol=\"indexed_dx\")\n",
    "evaluator.evaluate(cv_predictions)"
   ]
  },
  {
   "cell_type": "code",
   "execution_count": 67,
   "metadata": {},
   "outputs": [],
   "source": [
    "bestModel_2 = cvModel.bestModel"
   ]
  },
  {
   "cell_type": "code",
   "execution_count": 82,
   "metadata": {},
   "outputs": [
    {
     "name": "stdout",
     "output_type": "stream",
     "text": [
      "Best Param (MaxBins):  32\n",
      "Best Param (MaxDepth):  5\n",
      "Best Param (MaxIter):  10\n"
     ]
    }
   ],
   "source": [
    "print ('Best Param (MaxBins): ', bestModel_2.stages[2].getClassifier().getMaxBins())\n",
    "print ('Best Param (MaxDepth): ', bestModel_2.stages[2].getClassifier().getMaxDepth())\n",
    "print ('Best Param (MaxIter): ', bestModel_2.stages[2].getClassifier().getMaxIter())"
   ]
  },
  {
   "cell_type": "code",
   "execution_count": 68,
   "metadata": {},
   "outputs": [
    {
     "data": {
      "text/plain": [
       "array([[1.245e+03, 3.000e+01, 3.300e+01, 8.000e+00, 1.000e+00, 0.000e+00,\n",
       "        0.000e+00],\n",
       "       [8.000e+01, 9.900e+01, 3.500e+01, 4.000e+00, 3.000e+00, 1.000e+00,\n",
       "        1.000e+00],\n",
       "       [5.200e+01, 2.400e+01, 1.210e+02, 8.000e+00, 9.000e+00, 0.000e+00,\n",
       "        1.000e+00],\n",
       "       [2.400e+01, 1.200e+01, 1.300e+01, 5.800e+01, 6.000e+00, 1.000e+00,\n",
       "        1.000e+00],\n",
       "       [1.200e+01, 7.000e+00, 1.800e+01, 1.000e+01, 2.300e+01, 0.000e+00,\n",
       "        0.000e+00],\n",
       "       [8.000e+00, 2.000e+00, 0.000e+00, 1.000e+00, 0.000e+00, 1.700e+01,\n",
       "        0.000e+00],\n",
       "       [1.100e+01, 2.000e+00, 3.000e+00, 1.000e+00, 1.000e+00, 0.000e+00,\n",
       "        8.000e+00]])"
      ]
     },
     "execution_count": 68,
     "metadata": {},
     "output_type": "execute_result"
    }
   ],
   "source": [
    "cv_predictionAndLabels = cv_predictions.select(\"prediction\",\"indexed_dx\")\n",
    "cv_metrics = MulticlassMetrics(cv_predictionAndLabels.rdd)\n",
    "cv_metrics.confusionMatrix().toArray()"
   ]
  },
  {
   "cell_type": "code",
   "execution_count": 69,
   "metadata": {},
   "outputs": [
    {
     "data": {
      "text/plain": [
       "<sklearn.metrics._plot.confusion_matrix.ConfusionMatrixDisplay at 0x7f47181f9350>"
      ]
     },
     "execution_count": 69,
     "metadata": {},
     "output_type": "execute_result"
    },
    {
     "data": {
      "image/png": "[encoded data removed]",
      "text/plain": [
       "<Figure size 432x288 with 2 Axes>"
      ]
     },
     "metadata": {
      "needs_background": "light"
     },
     "output_type": "display_data"
    }
   ],
   "source": [
    "ConfusionMatrixDisplay(cv_metrics.confusionMatrix().toArray().astype(int)).plot()"
   ]
  },
  {
   "cell_type": "code",
   "execution_count": 70,
   "metadata": {},
   "outputs": [
    {
     "name": "stdout",
     "output_type": "stream",
     "text": [
      "accuracy: 0.7878635907723169\n",
      "precision: 0.7736353284804095\n",
      "recall: 0.787863590772317\n",
      "fMeasure: 0.776046309596976\n"
     ]
    }
   ],
   "source": [
    "print(\"accuracy: {}\".format(cv_metrics.accuracy))\n",
    "print(\"precision: {}\".format(cv_metrics.weightedPrecision))\n",
    "print(\"recall: {}\".format(cv_metrics.weightedRecall))\n",
    "print(\"fMeasure: {}\".format(cv_metrics.weightedFMeasure()))"
   ]
  },
  {
   "cell_type": "code",
   "execution_count": 71,
   "metadata": {},
   "outputs": [
    {
     "data": {
      "text/html": [
       "<div>\n",
       "<style scoped>\n",
       "    .dataframe tbody tr th:only-of-type {\n",
       "        vertical-align: middle;\n",
       "    }\n",
       "\n",
       "    .dataframe tbody tr th {\n",
       "        vertical-align: top;\n",
       "    }\n",
       "\n",
       "    .dataframe thead th {\n",
       "        text-align: right;\n",
       "    }\n",
       "</style>\n",
       "<table border=\"1\" class=\"dataframe\">\n",
       "  <thead>\n",
       "    <tr style=\"text-align: right;\">\n",
       "      <th></th>\n",
       "      <th>class</th>\n",
       "      <th>f1</th>\n",
       "      <th>precision</th>\n",
       "      <th>recall</th>\n",
       "    </tr>\n",
       "  </thead>\n",
       "  <tbody>\n",
       "    <tr>\n",
       "      <th>0</th>\n",
       "      <td>0.0</td>\n",
       "      <td>0.905784</td>\n",
       "      <td>0.869413</td>\n",
       "      <td>0.945330</td>\n",
       "    </tr>\n",
       "    <tr>\n",
       "      <th>1</th>\n",
       "      <td>1.0</td>\n",
       "      <td>0.496241</td>\n",
       "      <td>0.562500</td>\n",
       "      <td>0.443946</td>\n",
       "    </tr>\n",
       "    <tr>\n",
       "      <th>2</th>\n",
       "      <td>2.0</td>\n",
       "      <td>0.552511</td>\n",
       "      <td>0.542601</td>\n",
       "      <td>0.562791</td>\n",
       "    </tr>\n",
       "    <tr>\n",
       "      <th>3</th>\n",
       "      <td>3.0</td>\n",
       "      <td>0.565854</td>\n",
       "      <td>0.644444</td>\n",
       "      <td>0.504348</td>\n",
       "    </tr>\n",
       "    <tr>\n",
       "      <th>4</th>\n",
       "      <td>4.0</td>\n",
       "      <td>0.407080</td>\n",
       "      <td>0.534884</td>\n",
       "      <td>0.328571</td>\n",
       "    </tr>\n",
       "    <tr>\n",
       "      <th>5</th>\n",
       "      <td>5.0</td>\n",
       "      <td>0.723404</td>\n",
       "      <td>0.894737</td>\n",
       "      <td>0.607143</td>\n",
       "    </tr>\n",
       "    <tr>\n",
       "      <th>6</th>\n",
       "      <td>6.0</td>\n",
       "      <td>0.432432</td>\n",
       "      <td>0.727273</td>\n",
       "      <td>0.307692</td>\n",
       "    </tr>\n",
       "  </tbody>\n",
       "</table>\n",
       "</div>"
      ],
      "text/plain": [
       "   class        f1  precision    recall\n",
       "0    0.0  0.905784   0.869413  0.945330\n",
       "1    1.0  0.496241   0.562500  0.443946\n",
       "2    2.0  0.552511   0.542601  0.562791\n",
       "3    3.0  0.565854   0.644444  0.504348\n",
       "4    4.0  0.407080   0.534884  0.328571\n",
       "5    5.0  0.723404   0.894737  0.607143\n",
       "6    6.0  0.432432   0.727273  0.307692"
      ]
     },
     "execution_count": 71,
     "metadata": {},
     "output_type": "execute_result"
    }
   ],
   "source": [
    "labels = cv_predictionAndLabels.rdd.map(lambda lp: lp.indexed_dx).distinct().collect()\n",
    "cv_df = pd.DataFrame()\n",
    "for label in sorted(labels):\n",
    "    cv_df = cv_df.append({\"class\": label, \n",
    "               \"precision\":cv_metrics.precision(label),\n",
    "               \"recall\":cv_metrics.recall(label),\n",
    "               \"f1\":cv_metrics.fMeasure(label),\n",
    "              }, ignore_index=True)\n",
    "cv_df"
   ]
  },
  {
   "cell_type": "code",
   "execution_count": null,
   "metadata": {},
   "outputs": [],
   "source": []
  },
  {
   "cell_type": "code",
   "execution_count": null,
   "metadata": {},
   "outputs": [],
   "source": []
  },
  {
   "cell_type": "code",
   "execution_count": null,
   "metadata": {},
   "outputs": [],
   "source": []
  },
  {
   "cell_type": "code",
   "execution_count": null,
   "metadata": {},
   "outputs": [],
   "source": []
  }
 ],
 "metadata": {
  "kernelspec": {
   "display_name": "DS 5110",
   "language": "python",
   "name": "ds5110"
  },
  "language_info": {
   "codemirror_mode": {
    "name": "ipython",
    "version": 3
   },
   "file_extension": ".py",
   "mimetype": "text/x-python",
   "name": "python",
   "nbconvert_exporter": "python",
   "pygments_lexer": "ipython3",
   "version": "3.7.10"
  }
 },
 "nbformat": 4,
 "nbformat_minor": 4
}
