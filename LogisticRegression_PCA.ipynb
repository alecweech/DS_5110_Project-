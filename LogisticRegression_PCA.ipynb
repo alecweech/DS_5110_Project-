{
 "cells": [
  {
   "cell_type": "code",
   "execution_count": 1,
   "metadata": {},
   "outputs": [],
   "source": [
    "from pyspark.sql import SparkSession\n",
    "\n",
    "spark = SparkSession \\\n",
    "    .builder\\\n",
    "    .config(\"spark.executor.memory\", '32g') \\\n",
    "    .config('spark.executor.cores', '2') \\\n",
    "    .config('spark.cores.max', '8') \\\n",
    "    .config(\"spark.driver.memory\",'32g') \\\n",
    "    .config(\"spark.sql.broadcastTimeout\", \"1000\") \\\n",
    "    .config(\"spark.driver.maxResultSize\", '10g') \\\n",
    "    .getOrCreate()\n",
    "\n",
    "sc = spark.sparkContext"
   ]
  },
  {
   "cell_type": "code",
   "execution_count": 2,
   "metadata": {},
   "outputs": [],
   "source": [
    "from pyspark.ml import Pipeline\n",
    "from pyspark.ml.classification import DecisionTreeClassifier\n",
    "from pyspark.ml.feature import StringIndexer, VectorIndexer\n",
    "from pyspark.ml.evaluation import MulticlassClassificationEvaluator\n",
    "from pyspark.ml.classification import LogisticRegression\n",
    "from pyspark.ml.linalg import Vectors, VectorUDT\n",
    "from pyspark.ml.feature import VectorAssembler\n",
    "import pandas as pd\n",
    "from PIL import Image\n",
    "import numpy as np\n",
    "import io\n",
    "import tensorflow as tf\n",
    "from tensorflow.keras.applications.resnet50 import ResNet50, preprocess_input\n",
    "from tensorflow.keras.preprocessing.image import img_to_array\n",
    "from pyspark.sql.functions import col, pandas_udf, PandasUDFType\n",
    "import os\n",
    "import pyspark.sql.functions as F\n",
    "from pyspark.mllib.linalg import Vectors\n",
    "\n",
    "\n",
    "%matplotlib inline"
   ]
  },
  {
   "cell_type": "code",
   "execution_count": 3,
   "metadata": {},
   "outputs": [],
   "source": [
    "#Define preprocessing pipeline\n",
    "from pyspark.ml.classification import LogisticRegression\n",
    "from pyspark.ml.tuning import CrossValidator, ParamGridBuilder\n",
    "from pyspark.ml.feature import IndexToString, StringIndexer, VectorIndexer\n",
    "from pyspark.ml import Pipeline\n",
    "from pyspark.ml.feature import StandardScaler"
   ]
  },
  {
   "cell_type": "markdown",
   "metadata": {},
   "source": [
    "# load pre-processed table"
   ]
  },
  {
   "cell_type": "code",
   "execution_count": 4,
   "metadata": {},
   "outputs": [],
   "source": [
    "clean_df = spark.read.load(\"/project/ds5559/BioNerds/saved_data/clean_indexed.parquet\")"
   ]
  },
  {
   "cell_type": "code",
   "execution_count": 5,
   "metadata": {},
   "outputs": [
    {
     "name": "stdout",
     "output_type": "stream",
     "text": [
      "+--------------------+--------------------+------------+-----------+------------+---+---------+----+------+---------------+--------------------+----------+-----------+-----------+------------+\n",
      "|                path|            features|          ID|  lesion_id|    image_id| dx|  dx_type| age|   sex|   localization|          features_2|indexed_dx|indexed_sex|indexed_loc|indexed_type|\n",
      "+--------------------+--------------------+------------+-----------+------------+---+---------+----+------+---------------+--------------------+----------+-----------+-----------+------------+\n",
      "|file:/project/ds5...|[0.69691277, 0.0,...|ISIC_0032827|HAM_0006003|ISIC_0032827|bkl|consensus|85.0|female|lower extremity|[0.69691276550292...|       2.0|        1.0|        1.0|         2.0|\n",
      "|file:/project/ds5...|[0.0, 0.0, 0.0, 0...|ISIC_0032994|HAM_0000772|ISIC_0032994| nv|    histo|20.0|female|           face|[0.0,0.0,0.0,0.0,...|       0.0|        1.0|        5.0|         0.0|\n",
      "|file:/project/ds5...|[0.0, 0.0, 0.0, 0...|ISIC_0029466|HAM_0002021|ISIC_0029466|bcc|    histo|65.0|female|upper extremity|[0.0,0.0,0.0,0.0,...|       3.0|        1.0|        3.0|         0.0|\n",
      "|file:/project/ds5...|[0.1439662, 0.0, ...|ISIC_0030754|HAM_0007502|ISIC_0030754|mel|    histo|50.0|female|lower extremity|[0.14396619796752...|       1.0|        1.0|        1.0|         0.0|\n",
      "|file:/project/ds5...|[0.0, 0.0, 0.0, 0...|ISIC_0030168|HAM_0000966|ISIC_0030168| nv|follow_up|45.0|female|          trunk|[0.0,0.0,0.0,0.0,...|       0.0|        1.0|        2.0|         1.0|\n",
      "+--------------------+--------------------+------------+-----------+------------+---+---------+----+------+---------------+--------------------+----------+-----------+-----------+------------+\n",
      "only showing top 5 rows\n",
      "\n"
     ]
    }
   ],
   "source": [
    "clean_df.show(5)"
   ]
  },
  {
   "cell_type": "markdown",
   "metadata": {},
   "source": [
    "# load PCA model"
   ]
  },
  {
   "cell_type": "code",
   "execution_count": 6,
   "metadata": {},
   "outputs": [],
   "source": [
    "pca_path = \"/project/ds5559/BioNerds/PCA/pcaModel_50\""
   ]
  },
  {
   "cell_type": "code",
   "execution_count": 7,
   "metadata": {},
   "outputs": [
    {
     "name": "stdout",
     "output_type": "stream",
     "text": [
      "CPU times: user 3.64 ms, sys: 2.44 ms, total: 6.08 ms\n",
      "Wall time: 1.7 s\n"
     ]
    }
   ],
   "source": [
    "%%time\n",
    "from pyspark.ml.feature import PCAModel\n",
    "pcaModel_50 = PCAModel.load(pca_path)"
   ]
  },
  {
   "cell_type": "code",
   "execution_count": 8,
   "metadata": {},
   "outputs": [
    {
     "name": "stdout",
     "output_type": "stream",
     "text": [
      "CPU times: user 2.67 ms, sys: 1.15 ms, total: 3.82 ms\n",
      "Wall time: 170 ms\n"
     ]
    }
   ],
   "source": [
    "%%time \n",
    "pca_table = pcaModel_50.transform(clean_df)"
   ]
  },
  {
   "cell_type": "code",
   "execution_count": 9,
   "metadata": {},
   "outputs": [
    {
     "name": "stdout",
     "output_type": "stream",
     "text": [
      "+--------------------+--------------------+------------+-----------+------------+---+---------+----+------+---------------+--------------------+----------+-----------+-----------+------------+--------------------+\n",
      "|                path|            features|          ID|  lesion_id|    image_id| dx|  dx_type| age|   sex|   localization|          features_2|indexed_dx|indexed_sex|indexed_loc|indexed_type|         pcaFeatures|\n",
      "+--------------------+--------------------+------------+-----------+------------+---+---------+----+------+---------------+--------------------+----------+-----------+-----------+------------+--------------------+\n",
      "|file:/project/ds5...|[0.69691277, 0.0,...|ISIC_0032827|HAM_0006003|ISIC_0032827|bkl|consensus|85.0|female|lower extremity|[0.69691276550292...|       2.0|        1.0|        1.0|         2.0|[71.8275654736491...|\n",
      "|file:/project/ds5...|[0.0, 0.0, 0.0, 0...|ISIC_0032994|HAM_0000772|ISIC_0032994| nv|    histo|20.0|female|           face|[0.0,0.0,0.0,0.0,...|       0.0|        1.0|        5.0|         0.0|[185.832271325104...|\n",
      "|file:/project/ds5...|[0.0, 0.0, 0.0, 0...|ISIC_0029466|HAM_0002021|ISIC_0029466|bcc|    histo|65.0|female|upper extremity|[0.0,0.0,0.0,0.0,...|       3.0|        1.0|        3.0|         0.0|[280.230169740428...|\n",
      "|file:/project/ds5...|[0.1439662, 0.0, ...|ISIC_0030754|HAM_0007502|ISIC_0030754|mel|    histo|50.0|female|lower extremity|[0.14396619796752...|       1.0|        1.0|        1.0|         0.0|[35.0473013578792...|\n",
      "|file:/project/ds5...|[0.0, 0.0, 0.0, 0...|ISIC_0030168|HAM_0000966|ISIC_0030168| nv|follow_up|45.0|female|          trunk|[0.0,0.0,0.0,0.0,...|       0.0|        1.0|        2.0|         1.0|[106.988531452236...|\n",
      "+--------------------+--------------------+------------+-----------+------------+---+---------+----+------+---------------+--------------------+----------+-----------+-----------+------------+--------------------+\n",
      "only showing top 5 rows\n",
      "\n"
     ]
    }
   ],
   "source": [
    "pca_table.show(5)"
   ]
  },
  {
   "cell_type": "markdown",
   "metadata": {},
   "source": [
    "# Model using full size features"
   ]
  },
  {
   "cell_type": "code",
   "execution_count": 10,
   "metadata": {},
   "outputs": [],
   "source": [
    "vec_assemb = VectorAssembler(inputCols = ['features_2','indexed_loc', 'indexed_sex',\"age\" ], outputCol = 'Feature_vec')\n",
    "pipe = Pipeline(stages =  [vec_assemb])"
   ]
  },
  {
   "cell_type": "code",
   "execution_count": 11,
   "metadata": {},
   "outputs": [
    {
     "name": "stdout",
     "output_type": "stream",
     "text": [
      "CPU times: user 109 µs, sys: 78 µs, total: 187 µs\n",
      "Wall time: 155 µs\n"
     ]
    }
   ],
   "source": [
    "%%time\n",
    "model_pipe = pipe.fit(clean_df)"
   ]
  },
  {
   "cell_type": "code",
   "execution_count": 12,
   "metadata": {},
   "outputs": [
    {
     "name": "stdout",
     "output_type": "stream",
     "text": [
      "+--------------------+--------------------+------------+-----------+------------+---+---------+----+------+---------------+--------------------+----------+-----------+-----------+------------+--------------------+--------------------+\n",
      "|                path|            features|          ID|  lesion_id|    image_id| dx|  dx_type| age|   sex|   localization|          features_2|indexed_dx|indexed_sex|indexed_loc|indexed_type|         pcaFeatures|         Feature_vec|\n",
      "+--------------------+--------------------+------------+-----------+------------+---+---------+----+------+---------------+--------------------+----------+-----------+-----------+------------+--------------------+--------------------+\n",
      "|file:/project/ds5...|[0.69691277, 0.0,...|ISIC_0032827|HAM_0006003|ISIC_0032827|bkl|consensus|85.0|female|lower extremity|[0.69691276550292...|       2.0|        1.0|        1.0|         2.0|[71.8275654736491...|(100355,[0,24,70,...|\n",
      "|file:/project/ds5...|[0.0, 0.0, 0.0, 0...|ISIC_0032994|HAM_0000772|ISIC_0032994| nv|    histo|20.0|female|           face|[0.0,0.0,0.0,0.0,...|       0.0|        1.0|        5.0|         0.0|[185.832271325104...|(100355,[30,50,75...|\n",
      "|file:/project/ds5...|[0.0, 0.0, 0.0, 0...|ISIC_0029466|HAM_0002021|ISIC_0029466|bcc|    histo|65.0|female|upper extremity|[0.0,0.0,0.0,0.0,...|       3.0|        1.0|        3.0|         0.0|[280.230169740428...|(100355,[14,15,29...|\n",
      "|file:/project/ds5...|[0.1439662, 0.0, ...|ISIC_0030754|HAM_0007502|ISIC_0030754|mel|    histo|50.0|female|lower extremity|[0.14396619796752...|       1.0|        1.0|        1.0|         0.0|[35.0473013578792...|(100355,[0,34,58,...|\n",
      "|file:/project/ds5...|[0.0, 0.0, 0.0, 0...|ISIC_0030168|HAM_0000966|ISIC_0030168| nv|follow_up|45.0|female|          trunk|[0.0,0.0,0.0,0.0,...|       0.0|        1.0|        2.0|         1.0|[106.988531452236...|(100355,[4,30,47,...|\n",
      "+--------------------+--------------------+------------+-----------+------------+---+---------+----+------+---------------+--------------------+----------+-----------+-----------+------------+--------------------+--------------------+\n",
      "only showing top 5 rows\n",
      "\n",
      "CPU times: user 5.79 ms, sys: 251 µs, total: 6.04 ms\n",
      "Wall time: 2 s\n"
     ]
    },
    {
     "data": {
      "text/plain": [
       "DataFrame[path: string, features: array<float>, ID: string, lesion_id: string, image_id: string, dx: string, dx_type: string, age: double, sex: string, localization: string, features_2: vector, indexed_dx: double, indexed_sex: double, indexed_loc: double, indexed_type: double, pcaFeatures: vector, Feature_vec: vector]"
      ]
     },
     "execution_count": 12,
     "metadata": {},
     "output_type": "execute_result"
    }
   ],
   "source": [
    "%%time\n",
    "full_table = model_pipe.transform(pca_table)\n",
    "full_table.show(5)\n",
    "full_table.cache()"
   ]
  },
  {
   "cell_type": "code",
   "execution_count": 13,
   "metadata": {},
   "outputs": [
    {
     "data": {
      "text/plain": [
       "100352"
      ]
     },
     "execution_count": 13,
     "metadata": {},
     "output_type": "execute_result"
    }
   ],
   "source": [
    "len(full_table.select(\"features_2\").first()[0])"
   ]
  },
  {
   "cell_type": "markdown",
   "metadata": {},
   "source": [
    "# split full_table to training set and test set by dx.\n",
    "# using stratified split by ratio 0.8:0.2"
   ]
  },
  {
   "cell_type": "code",
   "execution_count": 14,
   "metadata": {},
   "outputs": [
    {
     "name": "stdout",
     "output_type": "stream",
     "text": [
      "+-----+----------+-----+\n",
      "|   dx|indexed_dx|count|\n",
      "+-----+----------+-----+\n",
      "|  bcc|       3.0|  514|\n",
      "|  mel|       1.0| 1111|\n",
      "|   nv|       0.0| 6650|\n",
      "|  bkl|       2.0| 1089|\n",
      "|   df|       6.0|  115|\n",
      "| vasc|       5.0|  142|\n",
      "|akiec|       4.0|  327|\n",
      "+-----+----------+-----+\n",
      "\n"
     ]
    }
   ],
   "source": [
    "full_table.select(\"dx\", \"indexed_dx\").groupby(\"dx\",\"indexed_dx\").count().show()"
   ]
  },
  {
   "cell_type": "code",
   "execution_count": 15,
   "metadata": {},
   "outputs": [],
   "source": [
    "fractions = full_table.select(\"dx\").distinct().withColumn(\"fraction\", F.lit(0.8)).rdd.collectAsMap()"
   ]
  },
  {
   "cell_type": "code",
   "execution_count": 16,
   "metadata": {},
   "outputs": [],
   "source": [
    "training_set = full_table.stat.sampleBy(\"dx\",fractions, seed=314)"
   ]
  },
  {
   "cell_type": "code",
   "execution_count": 17,
   "metadata": {},
   "outputs": [
    {
     "name": "stdout",
     "output_type": "stream",
     "text": [
      "+-----+----------+-----+\n",
      "|   dx|indexed_dx|count|\n",
      "+-----+----------+-----+\n",
      "|  bcc|       3.0|  411|\n",
      "|  mel|       1.0|  890|\n",
      "|   nv|       0.0| 5336|\n",
      "|  bkl|       2.0|  865|\n",
      "|   df|       6.0|   95|\n",
      "| vasc|       5.0|  111|\n",
      "|akiec|       4.0|  272|\n",
      "+-----+----------+-----+\n",
      "\n",
      "CPU times: user 4.29 ms, sys: 3.19 ms, total: 7.48 ms\n",
      "Wall time: 12.9 s\n"
     ]
    },
    {
     "data": {
      "text/plain": [
       "DataFrame[path: string, features: array<float>, ID: string, lesion_id: string, image_id: string, dx: string, dx_type: string, age: double, sex: string, localization: string, features_2: vector, indexed_dx: double, indexed_sex: double, indexed_loc: double, indexed_type: double, pcaFeatures: vector, Feature_vec: vector]"
      ]
     },
     "execution_count": 17,
     "metadata": {},
     "output_type": "execute_result"
    }
   ],
   "source": [
    "%%time\n",
    "training_set.select(\"dx\", \"indexed_dx\").groupby(\"dx\",\"indexed_dx\").count().show()\n",
    "training_set.cache()"
   ]
  },
  {
   "cell_type": "code",
   "execution_count": 18,
   "metadata": {},
   "outputs": [
    {
     "name": "stdout",
     "output_type": "stream",
     "text": [
      "CPU times: user 1.69 ms, sys: 752 µs, total: 2.45 ms\n",
      "Wall time: 176 ms\n"
     ]
    },
    {
     "data": {
      "text/plain": [
       "DataFrame[path: string, features: array<float>, ID: string, lesion_id: string, image_id: string, dx: string, dx_type: string, age: double, sex: string, localization: string, features_2: vector, indexed_dx: double, indexed_sex: double, indexed_loc: double, indexed_type: double, pcaFeatures: vector, Feature_vec: vector]"
      ]
     },
     "execution_count": 18,
     "metadata": {},
     "output_type": "execute_result"
    }
   ],
   "source": [
    "%%time\n",
    "test_set = full_table.subtract(training_set)\n",
    "test_set.cache()"
   ]
  },
  {
   "cell_type": "code",
   "execution_count": 19,
   "metadata": {},
   "outputs": [
    {
     "name": "stdout",
     "output_type": "stream",
     "text": [
      "+----------+--------------------+\n",
      "|indexed_dx|         Feature_vec|\n",
      "+----------+--------------------+\n",
      "|       2.0|(100355,[0,24,70,...|\n",
      "|       0.0|(100355,[30,50,75...|\n",
      "|       3.0|(100355,[14,15,29...|\n",
      "|       0.0|(100355,[4,30,47,...|\n",
      "|       2.0|(100355,[47,54,12...|\n",
      "+----------+--------------------+\n",
      "only showing top 5 rows\n",
      "\n"
     ]
    },
    {
     "data": {
      "text/plain": [
       "DataFrame[indexed_dx: double, Feature_vec: vector]"
      ]
     },
     "execution_count": 19,
     "metadata": {},
     "output_type": "execute_result"
    }
   ],
   "source": [
    "training_set1 = training_set.select(\"indexed_dx\", \"Feature_vec\" )\n",
    "training_set1.show(5)\n",
    "training_set1.cache()"
   ]
  },
  {
   "cell_type": "code",
   "execution_count": null,
   "metadata": {},
   "outputs": [],
   "source": []
  },
  {
   "cell_type": "code",
   "execution_count": 20,
   "metadata": {},
   "outputs": [
    {
     "name": "stdout",
     "output_type": "stream",
     "text": [
      "+----------+--------------------+\n",
      "|indexed_dx|         Feature_vec|\n",
      "+----------+--------------------+\n",
      "|       0.0|(100355,[75,78,94...|\n",
      "|       0.0|(100355,[34,35,36...|\n",
      "|       0.0|(100355,[0,75,101...|\n",
      "|       0.0|(100355,[0,34,58,...|\n",
      "|       3.0|(100355,[36,44,51...|\n",
      "+----------+--------------------+\n",
      "only showing top 5 rows\n",
      "\n"
     ]
    },
    {
     "data": {
      "text/plain": [
       "DataFrame[indexed_dx: double, Feature_vec: vector]"
      ]
     },
     "execution_count": 20,
     "metadata": {},
     "output_type": "execute_result"
    }
   ],
   "source": [
    "test_set1 = test_set.select(\"indexed_dx\", \"Feature_vec\" )\n",
    "test_set1.show(5)\n",
    "test_set1.cache()"
   ]
  },
  {
   "cell_type": "code",
   "execution_count": 21,
   "metadata": {},
   "outputs": [
    {
     "name": "stdout",
     "output_type": "stream",
     "text": [
      "CPU times: user 29.8 ms, sys: 17 ms, total: 46.8 ms\n",
      "Wall time: 2min 36s\n"
     ]
    }
   ],
   "source": [
    "%%time\n",
    "mlr = LogisticRegression(maxIter=20, regParam=0.3, elasticNetParam=0,  family=\"multinomial\")\n",
    "mlr.setFeaturesCol(\"Feature_vec\").setThreshold(0.5).setLabelCol(\"indexed_dx\")\n",
    "\n",
    "fullmodel_mlr = mlr.fit(training_set1)"
   ]
  },
  {
   "cell_type": "code",
   "execution_count": 22,
   "metadata": {},
   "outputs": [
    {
     "name": "stdout",
     "output_type": "stream",
     "text": [
      "CPU times: user 7.46 ms, sys: 1.57 ms, total: 9.02 ms\n",
      "Wall time: 37.7 ms\n"
     ]
    }
   ],
   "source": [
    "%%time\n",
    "predictions =fullmodel_mlr.transform(test_set1)"
   ]
  },
  {
   "cell_type": "code",
   "execution_count": 23,
   "metadata": {},
   "outputs": [
    {
     "name": "stdout",
     "output_type": "stream",
     "text": [
      "CPU times: user 6.16 ms, sys: 2.65 ms, total: 8.82 ms\n",
      "Wall time: 15 s\n"
     ]
    },
    {
     "data": {
      "text/plain": [
       "0.7939817996889773"
      ]
     },
     "execution_count": 23,
     "metadata": {},
     "output_type": "execute_result"
    }
   ],
   "source": [
    "%%time\n",
    "from pyspark.ml.evaluation import MulticlassClassificationEvaluator\n",
    "evaluator = MulticlassClassificationEvaluator(predictionCol=\"prediction\", labelCol=\"indexed_dx\")\n",
    "evaluator.evaluate(predictions)"
   ]
  },
  {
   "cell_type": "code",
   "execution_count": 24,
   "metadata": {},
   "outputs": [],
   "source": [
    "from pyspark.mllib.evaluation import MulticlassMetrics\n",
    "predictionAndLabels = predictions.select(\"prediction\",\"indexed_dx\")"
   ]
  },
  {
   "cell_type": "code",
   "execution_count": 25,
   "metadata": {},
   "outputs": [
    {
     "data": {
      "text/plain": [
       "array([[1.246e+03, 2.900e+01, 2.600e+01, 7.000e+00, 2.000e+00, 4.000e+00,\n",
       "        0.000e+00],\n",
       "       [9.000e+01, 9.300e+01, 2.700e+01, 5.000e+00, 5.000e+00, 1.000e+00,\n",
       "        0.000e+00],\n",
       "       [6.300e+01, 1.200e+01, 1.400e+02, 7.000e+00, 2.000e+00, 0.000e+00,\n",
       "        0.000e+00],\n",
       "       [1.700e+01, 6.000e+00, 1.100e+01, 6.500e+01, 2.000e+00, 2.000e+00,\n",
       "        0.000e+00],\n",
       "       [8.000e+00, 3.000e+00, 8.000e+00, 1.300e+01, 2.300e+01, 0.000e+00,\n",
       "        0.000e+00],\n",
       "       [1.000e+01, 0.000e+00, 1.000e+00, 3.000e+00, 0.000e+00, 1.700e+01,\n",
       "        0.000e+00],\n",
       "       [6.000e+00, 2.000e+00, 3.000e+00, 0.000e+00, 5.000e+00, 0.000e+00,\n",
       "        4.000e+00]])"
      ]
     },
     "execution_count": 25,
     "metadata": {},
     "output_type": "execute_result"
    }
   ],
   "source": [
    "metrics = MulticlassMetrics(predictionAndLabels.rdd)\n",
    "metrics.confusionMatrix().toArray()"
   ]
  },
  {
   "cell_type": "code",
   "execution_count": 26,
   "metadata": {},
   "outputs": [
    {
     "data": {
      "text/plain": [
       "<sklearn.metrics._plot.confusion_matrix.ConfusionMatrixDisplay at 0x7f15e862b690>"
      ]
     },
     "execution_count": 26,
     "metadata": {},
     "output_type": "execute_result"
    },
    {
     "data": {
      "image/png": "[encoded data removed]",
      "text/plain": [
       "<Figure size 432x288 with 2 Axes>"
      ]
     },
     "metadata": {
      "needs_background": "light"
     },
     "output_type": "display_data"
    }
   ],
   "source": [
    "from sklearn.metrics import confusion_matrix, ConfusionMatrixDisplay, classification_report, roc_auc_score\n",
    "ConfusionMatrixDisplay(metrics.confusionMatrix().toArray().astype(int)).plot()"
   ]
  },
  {
   "cell_type": "markdown",
   "metadata": {},
   "source": [
    "#### accuracy, precision, recall, fMeasure"
   ]
  },
  {
   "cell_type": "code",
   "execution_count": 27,
   "metadata": {},
   "outputs": [
    {
     "data": {
      "text/plain": [
       "0.806910569105691"
      ]
     },
     "execution_count": 27,
     "metadata": {},
     "output_type": "execute_result"
    }
   ],
   "source": [
    "print(\"accuracy: {}\".format(metrics.accuracy))\n",
    "print(\"precision: {}\".format(metrics.weightedPrecision))\n",
    "print(\"recall: {}\".format(metrics.weightedRecall))\n",
    "print(\"fMeasure: {}\".format(metrics.weightedFMeasure()))"
   ]
  },
  {
   "cell_type": "code",
   "execution_count": null,
   "metadata": {},
   "outputs": [],
   "source": []
  },
  {
   "cell_type": "code",
   "execution_count": 28,
   "metadata": {},
   "outputs": [],
   "source": [
    "### cross valication\n",
    "\n",
    "#%%time\n",
    "from pyspark.ml.tuning import ParamGridBuilder, CrossValidator\n",
    "# Create ParamGrid for Cross Validation\n",
    "paramGrid = (ParamGridBuilder()\n",
    "             .addGrid(mlr.regParam, [0.1, 0.3, 0.5]) # regularization parameter\n",
    "             .addGrid(mlr.elasticNetParam, [0.0, 0.1, 0.2]) # Elastic Net Parameter (Ridge = 0)\n",
    "             .build())"
   ]
  },
  {
   "cell_type": "code",
   "execution_count": 29,
   "metadata": {},
   "outputs": [],
   "source": [
    "# Create 5-fold CrossValidator\n",
    "cv = CrossValidator(estimator=mlr, \\\n",
    "                    estimatorParamMaps=paramGrid, \\\n",
    "                    evaluator=evaluator, \\\n",
    "                    numFolds=5, \\\n",
    "                    parallelism = 4)"
   ]
  },
  {
   "cell_type": "code",
   "execution_count": 30,
   "metadata": {},
   "outputs": [
    {
     "name": "stdout",
     "output_type": "stream",
     "text": [
      "CPU times: user 7.13 s, sys: 1.1 s, total: 8.22 s\n",
      "Wall time: 1h 40min 51s\n"
     ]
    }
   ],
   "source": [
    "%%time\n",
    "cvModel_full = cv.fit(training_set1)\n",
    "\n",
    "cv_predictions = cvModel_full.transform(test_set1)"
   ]
  },
  {
   "cell_type": "code",
   "execution_count": 31,
   "metadata": {},
   "outputs": [
    {
     "name": "stdout",
     "output_type": "stream",
     "text": [
      "CPU times: user 11.9 ms, sys: 3.18 ms, total: 15.1 ms\n",
      "Wall time: 9.27 s\n"
     ]
    },
    {
     "data": {
      "text/plain": [
       "0.7929328966942094"
      ]
     },
     "execution_count": 31,
     "metadata": {},
     "output_type": "execute_result"
    }
   ],
   "source": [
    "%%time\n",
    "# Evaluate best model\n",
    "evaluator = MulticlassClassificationEvaluator(predictionCol=\"prediction\", labelCol=\"indexed_dx\")\n",
    "evaluator.evaluate(cv_predictions)"
   ]
  },
  {
   "cell_type": "code",
   "execution_count": 35,
   "metadata": {},
   "outputs": [
    {
     "name": "stdout",
     "output_type": "stream",
     "text": [
      "Best Param (regParam):  0.5\n",
      "Best Param (MaxIter):  20\n",
      "Best Param (elasticNetParam):  0.0\n"
     ]
    }
   ],
   "source": [
    "bestModel = cvModel_full.bestModel\n",
    "print ('Best Param (regParam): ', bestModel._java_obj.getRegParam())\n",
    "print ('Best Param (MaxIter): ', bestModel._java_obj.getMaxIter())\n",
    "print ('Best Param (elasticNetParam): ', bestModel._java_obj.getElasticNetParam())"
   ]
  },
  {
   "cell_type": "code",
   "execution_count": 32,
   "metadata": {},
   "outputs": [
    {
     "data": {
      "text/plain": [
       "array([[1.254e+03, 2.800e+01, 2.200e+01, 5.000e+00, 1.000e+00, 4.000e+00,\n",
       "        0.000e+00],\n",
       "       [8.700e+01, 9.000e+01, 3.200e+01, 1.000e+00, 9.000e+00, 2.000e+00,\n",
       "        0.000e+00],\n",
       "       [6.000e+01, 1.300e+01, 1.380e+02, 5.000e+00, 8.000e+00, 0.000e+00,\n",
       "        0.000e+00],\n",
       "       [1.600e+01, 5.000e+00, 1.600e+01, 5.300e+01, 1.000e+01, 3.000e+00,\n",
       "        0.000e+00],\n",
       "       [9.000e+00, 2.000e+00, 1.000e+01, 5.000e+00, 2.900e+01, 0.000e+00,\n",
       "        0.000e+00],\n",
       "       [1.000e+01, 0.000e+00, 1.000e+00, 2.000e+00, 0.000e+00, 1.800e+01,\n",
       "        0.000e+00],\n",
       "       [6.000e+00, 2.000e+00, 3.000e+00, 0.000e+00, 5.000e+00, 0.000e+00,\n",
       "        4.000e+00]])"
      ]
     },
     "execution_count": 32,
     "metadata": {},
     "output_type": "execute_result"
    }
   ],
   "source": [
    "cv_predictionAndLabels = cv_predictions.select(\"prediction\",\"indexed_dx\")\n",
    "cv_metrics = MulticlassMetrics(cv_predictionAndLabels.rdd)\n",
    "cv_metrics.confusionMatrix().toArray()"
   ]
  },
  {
   "cell_type": "code",
   "execution_count": 33,
   "metadata": {},
   "outputs": [
    {
     "data": {
      "text/plain": [
       "<sklearn.metrics._plot.confusion_matrix.ConfusionMatrixDisplay at 0x7f15dcf1b0d0>"
      ]
     },
     "execution_count": 33,
     "metadata": {},
     "output_type": "execute_result"
    },
    {
     "data": {
      "image/png": "[encoded data removed]",
      "text/plain": [
       "<Figure size 432x288 with 2 Axes>"
      ]
     },
     "metadata": {
      "needs_background": "light"
     },
     "output_type": "display_data"
    }
   ],
   "source": [
    "ConfusionMatrixDisplay(cv_metrics.confusionMatrix().toArray().astype(int)).plot()"
   ]
  },
  {
   "cell_type": "code",
   "execution_count": 34,
   "metadata": {},
   "outputs": [
    {
     "data": {
      "text/plain": [
       "0.8058943089430894"
      ]
     },
     "execution_count": 34,
     "metadata": {},
     "output_type": "execute_result"
    }
   ],
   "source": [
    "cv_metrics.accuracy"
   ]
  },
  {
   "cell_type": "code",
   "execution_count": null,
   "metadata": {},
   "outputs": [],
   "source": []
  },
  {
   "cell_type": "code",
   "execution_count": null,
   "metadata": {},
   "outputs": [],
   "source": []
  },
  {
   "cell_type": "code",
   "execution_count": null,
   "metadata": {},
   "outputs": [],
   "source": []
  },
  {
   "cell_type": "code",
   "execution_count": null,
   "metadata": {},
   "outputs": [],
   "source": []
  },
  {
   "cell_type": "markdown",
   "metadata": {},
   "source": [
    "# Model using PCA top 50\n",
    "## assemble features. "
   ]
  },
  {
   "cell_type": "code",
   "execution_count": 10,
   "metadata": {},
   "outputs": [
    {
     "data": {
      "text/plain": [
       "LogisticRegression_1a80889d6e4a"
      ]
     },
     "execution_count": 10,
     "metadata": {},
     "output_type": "execute_result"
    }
   ],
   "source": [
    "from pyspark.ml.feature import OneHotEncoder\n",
    "\n",
    "\n",
    "#Define preprocessing pipeline\n",
    "\n",
    "#OneHot encode variables\n",
    "OH = OneHotEncoder(inputCols = ['indexed_sex', 'indexed_loc'], outputCols = ['OH_sex', 'OH_loc'])\n",
    "\n",
    "#Assemble Features vector\n",
    "vec_assemb = VectorAssembler(inputCols = ['age', 'OH_sex', 'OH_loc', 'pcaFeatures'], \\\n",
    "                             outputCol = 'Feature_vec', handleInvalid = 'skip')\n",
    "\n",
    "mlr = LogisticRegression(maxIter=20, regParam=0.3, elasticNetParam=0,  family=\"multinomial\", probabilityCol = 'probability')\n",
    "mlr.setFeaturesCol(\"Feature_vec\").setThreshold(0.5).setLabelCol(\"indexed_dx\")"
   ]
  },
  {
   "cell_type": "code",
   "execution_count": 11,
   "metadata": {},
   "outputs": [],
   "source": [
    "model_pipe = Pipeline(stages = [ OH, vec_assemb, mlr])"
   ]
  },
  {
   "cell_type": "code",
   "execution_count": 12,
   "metadata": {},
   "outputs": [],
   "source": [
    "# save dataframe\n",
    "# transformed_table.write.save(\"/project/ds5559/BioNerds/saved_data/transformed_table.parquet\")"
   ]
  },
  {
   "cell_type": "code",
   "execution_count": null,
   "metadata": {},
   "outputs": [],
   "source": []
  },
  {
   "cell_type": "markdown",
   "metadata": {},
   "source": [
    "# split transformed_table to training set and test set by dx. \n",
    "# using stratified split by ratio 0.8:0.2"
   ]
  },
  {
   "cell_type": "code",
   "execution_count": 13,
   "metadata": {},
   "outputs": [
    {
     "name": "stdout",
     "output_type": "stream",
     "text": [
      "+-----+----------+-----+\n",
      "|   dx|indexed_dx|count|\n",
      "+-----+----------+-----+\n",
      "|  bcc|       3.0|  514|\n",
      "|  mel|       1.0| 1111|\n",
      "|   nv|       0.0| 6650|\n",
      "|  bkl|       2.0| 1089|\n",
      "|   df|       6.0|  115|\n",
      "| vasc|       5.0|  142|\n",
      "|akiec|       4.0|  327|\n",
      "+-----+----------+-----+\n",
      "\n"
     ]
    }
   ],
   "source": [
    "pca_table.select(\"dx\", \"indexed_dx\").groupby(\"dx\",\"indexed_dx\").count().show()"
   ]
  },
  {
   "cell_type": "code",
   "execution_count": 14,
   "metadata": {},
   "outputs": [
    {
     "data": {
      "text/plain": [
       "{'vasc': 0.8,\n",
       " 'nv': 0.8,\n",
       " 'mel': 0.8,\n",
       " 'bcc': 0.8,\n",
       " 'df': 0.8,\n",
       " 'bkl': 0.8,\n",
       " 'akiec': 0.8}"
      ]
     },
     "execution_count": 14,
     "metadata": {},
     "output_type": "execute_result"
    }
   ],
   "source": [
    "fractions = pca_table.select(\"dx\").distinct().withColumn(\"fraction\", F.lit(0.8)).rdd.collectAsMap()\n",
    "fractions"
   ]
  },
  {
   "cell_type": "code",
   "execution_count": 15,
   "metadata": {},
   "outputs": [],
   "source": [
    "training_set = pca_table.stat.sampleBy(\"dx\",fractions, seed=314)"
   ]
  },
  {
   "cell_type": "code",
   "execution_count": 16,
   "metadata": {},
   "outputs": [
    {
     "name": "stdout",
     "output_type": "stream",
     "text": [
      "+-----+----------+-----+\n",
      "|   dx|indexed_dx|count|\n",
      "+-----+----------+-----+\n",
      "|  bcc|       3.0|  411|\n",
      "|  mel|       1.0|  890|\n",
      "|   nv|       0.0| 5336|\n",
      "|  bkl|       2.0|  865|\n",
      "|   df|       6.0|   95|\n",
      "| vasc|       5.0|  111|\n",
      "|akiec|       4.0|  272|\n",
      "+-----+----------+-----+\n",
      "\n",
      "CPU times: user 3.73 ms, sys: 2.12 ms, total: 5.86 ms\n",
      "Wall time: 936 ms\n"
     ]
    },
    {
     "data": {
      "text/plain": [
       "DataFrame[path: string, features: array<float>, ID: string, lesion_id: string, image_id: string, dx: string, dx_type: string, age: double, sex: string, localization: string, features_2: vector, indexed_dx: double, indexed_sex: double, indexed_loc: double, indexed_type: double, pcaFeatures: vector]"
      ]
     },
     "execution_count": 16,
     "metadata": {},
     "output_type": "execute_result"
    }
   ],
   "source": [
    "%%time\n",
    "training_set.select(\"dx\", \"indexed_dx\").groupby(\"dx\",\"indexed_dx\").count().show()\n",
    "training_set.cache()"
   ]
  },
  {
   "cell_type": "code",
   "execution_count": 17,
   "metadata": {},
   "outputs": [
    {
     "name": "stdout",
     "output_type": "stream",
     "text": [
      "CPU times: user 1.81 ms, sys: 541 µs, total: 2.35 ms\n",
      "Wall time: 208 ms\n"
     ]
    },
    {
     "data": {
      "text/plain": [
       "DataFrame[path: string, features: array<float>, ID: string, lesion_id: string, image_id: string, dx: string, dx_type: string, age: double, sex: string, localization: string, features_2: vector, indexed_dx: double, indexed_sex: double, indexed_loc: double, indexed_type: double, pcaFeatures: vector]"
      ]
     },
     "execution_count": 17,
     "metadata": {},
     "output_type": "execute_result"
    }
   ],
   "source": [
    "%%time\n",
    "test_set = pca_table.subtract(training_set)\n",
    "test_set.cache()"
   ]
  },
  {
   "cell_type": "code",
   "execution_count": 18,
   "metadata": {},
   "outputs": [
    {
     "name": "stdout",
     "output_type": "stream",
     "text": [
      "+-----+----------+-----+\n",
      "|   dx|indexed_dx|count|\n",
      "+-----+----------+-----+\n",
      "|  bcc|       3.0|  103|\n",
      "|  mel|       1.0|  221|\n",
      "|   nv|       0.0| 1314|\n",
      "|  bkl|       2.0|  224|\n",
      "|   df|       6.0|   20|\n",
      "| vasc|       5.0|   31|\n",
      "|akiec|       4.0|   55|\n",
      "+-----+----------+-----+\n",
      "\n",
      "CPU times: user 18.4 ms, sys: 11.4 ms, total: 29.8 ms\n",
      "Wall time: 2min 43s\n"
     ]
    }
   ],
   "source": [
    "%%time\n",
    "test_set.select(\"dx\", \"indexed_dx\").groupby(\"dx\",\"indexed_dx\").count().show()"
   ]
  },
  {
   "cell_type": "code",
   "execution_count": null,
   "metadata": {},
   "outputs": [],
   "source": []
  },
  {
   "cell_type": "markdown",
   "metadata": {},
   "source": [
    "# fit logistic Regression Model"
   ]
  },
  {
   "cell_type": "code",
   "execution_count": 20,
   "metadata": {},
   "outputs": [],
   "source": [
    "# Model with age, sex, localization, age, dx_type"
   ]
  },
  {
   "cell_type": "code",
   "execution_count": 21,
   "metadata": {},
   "outputs": [
    {
     "name": "stdout",
     "output_type": "stream",
     "text": [
      "CPU times: user 24.6 ms, sys: 6.21 ms, total: 30.9 ms\n",
      "Wall time: 20.2 s\n"
     ]
    }
   ],
   "source": [
    "%%time\n",
    "model_mlr = model_pipe.fit(training_set)"
   ]
  },
  {
   "cell_type": "code",
   "execution_count": 22,
   "metadata": {},
   "outputs": [
    {
     "name": "stdout",
     "output_type": "stream",
     "text": [
      "CPU times: user 8.11 ms, sys: 5.07 ms, total: 13.2 ms\n",
      "Wall time: 94.1 ms\n"
     ]
    }
   ],
   "source": [
    "%%time\n",
    "predictions =model_mlr.transform(test_set)"
   ]
  },
  {
   "cell_type": "code",
   "execution_count": 23,
   "metadata": {},
   "outputs": [
    {
     "name": "stdout",
     "output_type": "stream",
     "text": [
      "+--------------------+--------------------+------------+-----------+------------+---+---------+----+------+------------+--------------------+----------+-----------+-----------+------------+--------------------+-------------+---------------+--------------------+--------------------+--------------------+----------+\n",
      "|                path|            features|          ID|  lesion_id|    image_id| dx|  dx_type| age|   sex|localization|          features_2|indexed_dx|indexed_sex|indexed_loc|indexed_type|         pcaFeatures|       OH_sex|         OH_loc|         Feature_vec|       rawPrediction|         probability|prediction|\n",
      "+--------------------+--------------------+------------+-----------+------------+---+---------+----+------+------------+--------------------+----------+-----------+-----------+------------+--------------------+-------------+---------------+--------------------+--------------------+--------------------+----------+\n",
      "|file:/project/ds5...|[0.0, 0.0, 0.0, 0...|ISIC_0027826|HAM_0005278|ISIC_0027826|bkl|consensus|75.0|female|        face|[0.0,0.0,0.0,0.0,...|       2.0|        1.0|        5.0|         2.0|[164.531695717128...|    (1,[],[])| (14,[5],[1.0])|[75.0,0.0,0.0,0.0...|[0.96806964975866...|[0.19918615148240...|       2.0|\n",
      "|file:/project/ds5...|[0.0, 0.0, 0.0, 0...|ISIC_0031446|HAM_0002336|ISIC_0031446| nv|follow_up|35.0|female|     abdomen|[0.0,0.0,0.0,0.0,...|       0.0|        1.0|        4.0|         1.0|[-36.307516716473...|    (1,[],[])| (14,[4],[1.0])|[35.0,0.0,0.0,0.0...|[3.19022668699832...|[0.83599300394120...|       0.0|\n",
      "|file:/project/ds5...|[0.0, 0.29937583,...|ISIC_0034049|HAM_0007589|ISIC_0034049|mel|    histo|70.0|  male|        back|[0.0,0.2993758320...|       1.0|        0.0|        0.0|         0.0|[299.717196642162...|(1,[0],[1.0])| (14,[0],[1.0])|[70.0,1.0,1.0,0.0...|[1.79901228494893...|[0.38568277843989...|       0.0|\n",
      "|file:/project/ds5...|[0.0, 0.0, 0.0, 0...|ISIC_0024976|HAM_0006789|ISIC_0024976| nv|follow_up|35.0|  male|       trunk|[0.0,0.0,0.0,0.0,...|       0.0|        0.0|        2.0|         1.0|[-4.4428984554474...|(1,[0],[1.0])| (14,[2],[1.0])|[35.0,1.0,0.0,0.0...|[3.46414615167457...|[0.88023381052203...|       0.0|\n",
      "|file:/project/ds5...|[2.9860983, 0.0, ...|ISIC_0026503|HAM_0004148|ISIC_0026503| nv|follow_up|55.0|female|       trunk|[2.98609828948974...|       0.0|        1.0|        2.0|         1.0|[39.6146814729363...|    (1,[],[])| (14,[2],[1.0])|[55.0,0.0,0.0,0.0...|[3.39164909978960...|[0.87084129902236...|       0.0|\n",
      "|file:/project/ds5...|[0.0, 0.0, 0.0, 0...|ISIC_0028786|HAM_0005272|ISIC_0028786| nv|follow_up|65.0|female|       trunk|[0.0,0.0,0.0,0.0,...|       0.0|        1.0|        2.0|         1.0|[57.4571535165860...|    (1,[],[])| (14,[2],[1.0])|[65.0,0.0,0.0,0.0...|[2.93911101653993...|[0.79208149076548...|       0.0|\n",
      "|file:/project/ds5...|[0.0, 0.0, 0.0, 0...|ISIC_0026901|HAM_0001716|ISIC_0026901| nv|    histo|50.0|  male|        back|[0.0,0.0,0.0,0.0,...|       0.0|        0.0|        0.0|         0.0|[73.8254831903391...|(1,[0],[1.0])| (14,[0],[1.0])|[50.0,1.0,1.0,0.0...|[2.82485141143221...|[0.76617940289427...|       0.0|\n",
      "|file:/project/ds5...|[0.0, 0.0, 0.0, 0...|ISIC_0024893|HAM_0002058|ISIC_0024893|bkl|    histo|65.0|female|         ear|[0.0,0.0,0.0,0.0,...|       2.0|        1.0|       12.0|         0.0|[77.0508636274332...|    (1,[],[])|(14,[12],[1.0])|[65.0,0.0,0.0,0.0...|[2.06583177205809...|[0.53375096514431...|       0.0|\n",
      "|file:/project/ds5...|[0.0, 0.0, 0.0, 0...|ISIC_0026979|HAM_0002060|ISIC_0026979| nv|    histo|15.0|female|        back|[0.0,0.0,0.0,0.0,...|       0.0|        1.0|        0.0|         0.0|[160.996924373390...|    (1,[],[])| (14,[0],[1.0])|[15.0,0.0,1.0,0.0...|[2.92734933994457...|[0.80008280410454...|       0.0|\n",
      "|file:/project/ds5...|[0.0, 0.0, 0.0, 0...|ISIC_0032196|HAM_0002188|ISIC_0032196| nv|follow_up|45.0|  male|       trunk|[0.0,0.0,0.0,0.0,...|       0.0|        0.0|        2.0|         1.0|[-2.7406822906766...|(1,[0],[1.0])| (14,[2],[1.0])|[45.0,1.0,0.0,0.0...|[2.98523726658755...|[0.80567715142983...|       0.0|\n",
      "+--------------------+--------------------+------------+-----------+------------+---+---------+----+------+------------+--------------------+----------+-----------+-----------+------------+--------------------+-------------+---------------+--------------------+--------------------+--------------------+----------+\n",
      "only showing top 10 rows\n",
      "\n",
      "CPU times: user 1.95 ms, sys: 619 µs, total: 2.57 ms\n",
      "Wall time: 1.04 s\n"
     ]
    }
   ],
   "source": [
    "%%time\n",
    "predictions.show(10)"
   ]
  },
  {
   "cell_type": "code",
   "execution_count": 24,
   "metadata": {},
   "outputs": [
    {
     "name": "stdout",
     "output_type": "stream",
     "text": [
      "CPU times: user 6.74 ms, sys: 3.47 ms, total: 10.2 ms\n",
      "Wall time: 3.88 s\n"
     ]
    },
    {
     "data": {
      "text/plain": [
       "0.6092675881197551"
      ]
     },
     "execution_count": 24,
     "metadata": {},
     "output_type": "execute_result"
    }
   ],
   "source": [
    "%%time\n",
    "from pyspark.ml.evaluation import MulticlassClassificationEvaluator\n",
    "evaluator = MulticlassClassificationEvaluator(predictionCol=\"prediction\", labelCol=\"indexed_dx\")\n",
    "evaluator.evaluate(predictions)"
   ]
  },
  {
   "cell_type": "code",
   "execution_count": 25,
   "metadata": {},
   "outputs": [],
   "source": [
    "from pyspark.mllib.evaluation import MulticlassMetrics\n",
    "predictionAndLabels = predictions.select(\"prediction\",\"indexed_dx\")"
   ]
  },
  {
   "cell_type": "code",
   "execution_count": 26,
   "metadata": {},
   "outputs": [
    {
     "name": "stdout",
     "output_type": "stream",
     "text": [
      "+----------+----------+\n",
      "|prediction|indexed_dx|\n",
      "+----------+----------+\n",
      "|       2.0|       2.0|\n",
      "|       0.0|       0.0|\n",
      "|       0.0|       1.0|\n",
      "|       0.0|       0.0|\n",
      "|       0.0|       0.0|\n",
      "+----------+----------+\n",
      "only showing top 5 rows\n",
      "\n"
     ]
    }
   ],
   "source": [
    "predictionAndLabels.show(5)"
   ]
  },
  {
   "cell_type": "code",
   "execution_count": 27,
   "metadata": {},
   "outputs": [
    {
     "data": {
      "text/plain": [
       "array([[1.313e+03, 0.000e+00, 1.000e+00, 0.000e+00, 0.000e+00, 0.000e+00,\n",
       "        0.000e+00],\n",
       "       [1.950e+02, 1.800e+01, 8.000e+00, 0.000e+00, 0.000e+00, 0.000e+00,\n",
       "        0.000e+00],\n",
       "       [1.700e+02, 2.000e+00, 5.200e+01, 0.000e+00, 0.000e+00, 0.000e+00,\n",
       "        0.000e+00],\n",
       "       [8.300e+01, 5.000e+00, 1.400e+01, 1.000e+00, 0.000e+00, 0.000e+00,\n",
       "        0.000e+00],\n",
       "       [4.100e+01, 1.000e+00, 1.300e+01, 0.000e+00, 0.000e+00, 0.000e+00,\n",
       "        0.000e+00],\n",
       "       [2.800e+01, 2.000e+00, 1.000e+00, 0.000e+00, 0.000e+00, 0.000e+00,\n",
       "        0.000e+00],\n",
       "       [1.900e+01, 0.000e+00, 1.000e+00, 0.000e+00, 0.000e+00, 0.000e+00,\n",
       "        0.000e+00]])"
      ]
     },
     "execution_count": 27,
     "metadata": {},
     "output_type": "execute_result"
    }
   ],
   "source": [
    "metrics = MulticlassMetrics(predictionAndLabels.rdd)\n",
    "metrics.confusionMatrix().toArray()"
   ]
  },
  {
   "cell_type": "markdown",
   "metadata": {},
   "source": [
    "### confusion matrix"
   ]
  },
  {
   "cell_type": "code",
   "execution_count": 28,
   "metadata": {},
   "outputs": [
    {
     "data": {
      "text/plain": [
       "<sklearn.metrics._plot.confusion_matrix.ConfusionMatrixDisplay at 0x7f0fc4a97710>"
      ]
     },
     "execution_count": 28,
     "metadata": {},
     "output_type": "execute_result"
    },
    {
     "data": {
      "image/png": "[encoded data removed]",
      "text/plain": [
       "<Figure size 432x288 with 2 Axes>"
      ]
     },
     "metadata": {
      "needs_background": "light"
     },
     "output_type": "display_data"
    }
   ],
   "source": [
    "from sklearn.metrics import confusion_matrix, ConfusionMatrixDisplay, classification_report, roc_auc_score\n",
    "ConfusionMatrixDisplay(metrics.confusionMatrix().toArray().astype(int)).plot()"
   ]
  },
  {
   "cell_type": "markdown",
   "metadata": {},
   "source": [
    "### accuracy"
   ]
  },
  {
   "cell_type": "code",
   "execution_count": 29,
   "metadata": {},
   "outputs": [
    {
     "name": "stdout",
     "output_type": "stream",
     "text": [
      "accuracy: 0.7032520325203252\n",
      "precision: 0.664422199298418\n",
      "recall: 0.7032520325203251\n",
      "fMeasure: 0.6092675881197551\n"
     ]
    }
   ],
   "source": [
    "print(\"accuracy: {}\".format(metrics.accuracy))\n",
    "print(\"precision: {}\".format(metrics.weightedPrecision))\n",
    "print(\"recall: {}\".format(metrics.weightedRecall))\n",
    "print(\"fMeasure: {}\".format(metrics.weightedFMeasure()))"
   ]
  },
  {
   "cell_type": "markdown",
   "metadata": {},
   "source": [
    "### Statistics by class"
   ]
  },
  {
   "cell_type": "code",
   "execution_count": 29,
   "metadata": {},
   "outputs": [
    {
     "data": {
      "text/html": [
       "<div>\n",
       "<style scoped>\n",
       "    .dataframe tbody tr th:only-of-type {\n",
       "        vertical-align: middle;\n",
       "    }\n",
       "\n",
       "    .dataframe tbody tr th {\n",
       "        vertical-align: top;\n",
       "    }\n",
       "\n",
       "    .dataframe thead th {\n",
       "        text-align: right;\n",
       "    }\n",
       "</style>\n",
       "<table border=\"1\" class=\"dataframe\">\n",
       "  <thead>\n",
       "    <tr style=\"text-align: right;\">\n",
       "      <th></th>\n",
       "      <th>class</th>\n",
       "      <th>f1</th>\n",
       "      <th>precision</th>\n",
       "      <th>recall</th>\n",
       "    </tr>\n",
       "  </thead>\n",
       "  <tbody>\n",
       "    <tr>\n",
       "      <th>0</th>\n",
       "      <td>0.0</td>\n",
       "      <td>0.830224</td>\n",
       "      <td>0.710114</td>\n",
       "      <td>0.999239</td>\n",
       "    </tr>\n",
       "    <tr>\n",
       "      <th>1</th>\n",
       "      <td>1.0</td>\n",
       "      <td>0.144578</td>\n",
       "      <td>0.642857</td>\n",
       "      <td>0.081448</td>\n",
       "    </tr>\n",
       "    <tr>\n",
       "      <th>2</th>\n",
       "      <td>2.0</td>\n",
       "      <td>0.331210</td>\n",
       "      <td>0.577778</td>\n",
       "      <td>0.232143</td>\n",
       "    </tr>\n",
       "    <tr>\n",
       "      <th>3</th>\n",
       "      <td>3.0</td>\n",
       "      <td>0.019231</td>\n",
       "      <td>1.000000</td>\n",
       "      <td>0.009709</td>\n",
       "    </tr>\n",
       "    <tr>\n",
       "      <th>4</th>\n",
       "      <td>4.0</td>\n",
       "      <td>0.000000</td>\n",
       "      <td>0.000000</td>\n",
       "      <td>0.000000</td>\n",
       "    </tr>\n",
       "    <tr>\n",
       "      <th>5</th>\n",
       "      <td>5.0</td>\n",
       "      <td>0.000000</td>\n",
       "      <td>0.000000</td>\n",
       "      <td>0.000000</td>\n",
       "    </tr>\n",
       "    <tr>\n",
       "      <th>6</th>\n",
       "      <td>6.0</td>\n",
       "      <td>0.000000</td>\n",
       "      <td>0.000000</td>\n",
       "      <td>0.000000</td>\n",
       "    </tr>\n",
       "  </tbody>\n",
       "</table>\n",
       "</div>"
      ],
      "text/plain": [
       "   class        f1  precision    recall\n",
       "0    0.0  0.830224   0.710114  0.999239\n",
       "1    1.0  0.144578   0.642857  0.081448\n",
       "2    2.0  0.331210   0.577778  0.232143\n",
       "3    3.0  0.019231   1.000000  0.009709\n",
       "4    4.0  0.000000   0.000000  0.000000\n",
       "5    5.0  0.000000   0.000000  0.000000\n",
       "6    6.0  0.000000   0.000000  0.000000"
      ]
     },
     "execution_count": 29,
     "metadata": {},
     "output_type": "execute_result"
    }
   ],
   "source": [
    "labels = predictionAndLabels.rdd.map(lambda lp: lp.indexed_dx).distinct().collect()\n",
    "df = pd.DataFrame()\n",
    "for label in sorted(labels):\n",
    "    df = df.append({\"class\": label, \n",
    "               \"precision\":metrics.precision(label),\n",
    "               \"recall\":metrics.recall(label),\n",
    "               \"f1\":metrics.fMeasure(label),\n",
    "              }, ignore_index=True)\n",
    "df"
   ]
  },
  {
   "cell_type": "code",
   "execution_count": null,
   "metadata": {},
   "outputs": [],
   "source": []
  },
  {
   "cell_type": "code",
   "execution_count": null,
   "metadata": {},
   "outputs": [],
   "source": []
  },
  {
   "cell_type": "markdown",
   "metadata": {},
   "source": [
    "# Cross Validation (5 fold) and Tuning hyperparameters"
   ]
  },
  {
   "cell_type": "code",
   "execution_count": 30,
   "metadata": {},
   "outputs": [],
   "source": [
    "### cross valication\n",
    "\n",
    "#%%time\n",
    "from pyspark.ml.tuning import ParamGridBuilder, CrossValidator\n",
    "# Create ParamGrid for Cross Validation\n",
    "paramGrid = (ParamGridBuilder()\n",
    "             .addGrid(mlr.regParam, [0, 0.1, 0.2, 0.3, 0.4, 0.5]) # regularization parameter\n",
    "             .addGrid(mlr.elasticNetParam, [0.0, 0.1, 0.2, 0.3, 0.4]) # Elastic Net Parameter (Ridge = 0)\n",
    "             .build())"
   ]
  },
  {
   "cell_type": "code",
   "execution_count": 31,
   "metadata": {},
   "outputs": [
    {
     "name": "stdout",
     "output_type": "stream",
     "text": [
      "CPU times: user 406 µs, sys: 0 ns, total: 406 µs\n",
      "Wall time: 328 µs\n"
     ]
    }
   ],
   "source": [
    "%%time\n",
    "# Create 5-fold CrossValidator\n",
    "cv = CrossValidator(estimator=model_pipe, \\\n",
    "                    estimatorParamMaps=paramGrid, \\\n",
    "                    evaluator=evaluator, \\\n",
    "                    numFolds=5, \\\n",
    "                    parallelism = 4, \\\n",
    "                    seed = 314)"
   ]
  },
  {
   "cell_type": "code",
   "execution_count": 49,
   "metadata": {},
   "outputs": [
    {
     "name": "stdout",
     "output_type": "stream",
     "text": [
      "CPU times: user 7.03 s, sys: 2.07 s, total: 9.1 s\n",
      "Wall time: 23min 20s\n"
     ]
    }
   ],
   "source": [
    "%%time\n",
    "cvModel = cv.fit(training_set)\n",
    "\n",
    "cv_predictions = cvModel.transform(test_set)"
   ]
  },
  {
   "cell_type": "code",
   "execution_count": null,
   "metadata": {},
   "outputs": [],
   "source": []
  },
  {
   "cell_type": "code",
   "execution_count": 34,
   "metadata": {},
   "outputs": [
    {
     "name": "stdout",
     "output_type": "stream",
     "text": [
      "CPU times: user 4.37 ms, sys: 2.35 ms, total: 6.71 ms\n",
      "Wall time: 3.17 s\n"
     ]
    },
    {
     "data": {
      "text/plain": [
       "0.7818560513162651"
      ]
     },
     "execution_count": 34,
     "metadata": {},
     "output_type": "execute_result"
    }
   ],
   "source": [
    "%%time\n",
    "# Evaluate best model\n",
    "evaluator = MulticlassClassificationEvaluator(predictionCol=\"prediction\", labelCol=\"indexed_dx\")\n",
    "evaluator.evaluate(cv_predictions)"
   ]
  },
  {
   "cell_type": "code",
   "execution_count": 51,
   "metadata": {},
   "outputs": [
    {
     "name": "stdout",
     "output_type": "stream",
     "text": [
      "Best Param (regParam):  0.0\n",
      "Best Param (MaxIter):  20\n",
      "Best Param (elasticNetParam):  0.0\n"
     ]
    }
   ],
   "source": [
    "bestModel = cvModel.bestModel\n",
    "print ('Best Param (regParam): ', bestModel.stages[2].getRegParam())\n",
    "print ('Best Param (MaxIter): ', bestModel.stages[2].getMaxIter())\n",
    "print ('Best Param (elasticNetParam): ', bestModel.stages[2].getElasticNetParam())"
   ]
  },
  {
   "cell_type": "code",
   "execution_count": 35,
   "metadata": {},
   "outputs": [
    {
     "data": {
      "text/plain": [
       "array([[1.253e+03, 3.100e+01, 2.200e+01, 7.000e+00, 0.000e+00, 1.000e+00,\n",
       "        0.000e+00],\n",
       "       [9.500e+01, 8.600e+01, 2.000e+01, 7.000e+00, 9.000e+00, 4.000e+00,\n",
       "        0.000e+00],\n",
       "       [6.400e+01, 2.700e+01, 1.130e+02, 7.000e+00, 1.200e+01, 0.000e+00,\n",
       "        1.000e+00],\n",
       "       [9.000e+00, 3.000e+00, 1.700e+01, 6.000e+01, 9.000e+00, 2.000e+00,\n",
       "        3.000e+00],\n",
       "       [8.000e+00, 3.000e+00, 9.000e+00, 9.000e+00, 2.600e+01, 0.000e+00,\n",
       "        0.000e+00],\n",
       "       [8.000e+00, 0.000e+00, 2.000e+00, 2.000e+00, 0.000e+00, 1.900e+01,\n",
       "        0.000e+00],\n",
       "       [4.000e+00, 3.000e+00, 1.000e+00, 0.000e+00, 5.000e+00, 0.000e+00,\n",
       "        7.000e+00]])"
      ]
     },
     "execution_count": 35,
     "metadata": {},
     "output_type": "execute_result"
    }
   ],
   "source": [
    "cv_predictionAndLabels = cv_predictions.select(\"prediction\",\"indexed_dx\")\n",
    "preds_and_probs = cv_predictions.select(['indexed_dx', 'probability', 'prediction'])\n",
    "\n",
    "\n",
    "cv_metrics = MulticlassMetrics(cv_predictionAndLabels.rdd)\n",
    "cv_metrics.confusionMatrix().toArray()"
   ]
  },
  {
   "cell_type": "code",
   "execution_count": 36,
   "metadata": {},
   "outputs": [
    {
     "data": {
      "text/plain": [
       "<sklearn.metrics._plot.confusion_matrix.ConfusionMatrixDisplay at 0x7f0fc4bfdb10>"
      ]
     },
     "execution_count": 36,
     "metadata": {},
     "output_type": "execute_result"
    },
    {
     "data": {
      "image/png": "[encoded data removed]",
      "text/plain": [
       "<Figure size 432x288 with 2 Axes>"
      ]
     },
     "metadata": {
      "needs_background": "light"
     },
     "output_type": "display_data"
    }
   ],
   "source": [
    "ConfusionMatrixDisplay(cv_metrics.confusionMatrix().toArray().astype(int)).plot()"
   ]
  },
  {
   "cell_type": "markdown",
   "metadata": {},
   "source": [
    "#### accuracy, precision, recall, fMeasure"
   ]
  },
  {
   "cell_type": "code",
   "execution_count": 37,
   "metadata": {},
   "outputs": [
    {
     "name": "stdout",
     "output_type": "stream",
     "text": [
      "accuracy: 0.7947154471544715\n",
      "precision: 0.7776189754879486\n",
      "recall: 0.7947154471544715\n",
      "fMeasure: 0.7818560513162651\n"
     ]
    }
   ],
   "source": [
    "print(\"accuracy: {}\".format(cv_metrics.accuracy))\n",
    "print(\"precision: {}\".format(cv_metrics.weightedPrecision))\n",
    "print(\"recall: {}\".format(cv_metrics.weightedRecall))\n",
    "print(\"fMeasure: {}\".format(cv_metrics.weightedFMeasure()))"
   ]
  },
  {
   "cell_type": "markdown",
   "metadata": {},
   "source": [
    "### Statistics by class"
   ]
  },
  {
   "cell_type": "code",
   "execution_count": 38,
   "metadata": {},
   "outputs": [
    {
     "data": {
      "text/html": [
       "<div>\n",
       "<style scoped>\n",
       "    .dataframe tbody tr th:only-of-type {\n",
       "        vertical-align: middle;\n",
       "    }\n",
       "\n",
       "    .dataframe tbody tr th {\n",
       "        vertical-align: top;\n",
       "    }\n",
       "\n",
       "    .dataframe thead th {\n",
       "        text-align: right;\n",
       "    }\n",
       "</style>\n",
       "<table border=\"1\" class=\"dataframe\">\n",
       "  <thead>\n",
       "    <tr style=\"text-align: right;\">\n",
       "      <th></th>\n",
       "      <th>class</th>\n",
       "      <th>f1</th>\n",
       "      <th>precision</th>\n",
       "      <th>recall</th>\n",
       "    </tr>\n",
       "  </thead>\n",
       "  <tbody>\n",
       "    <tr>\n",
       "      <th>0</th>\n",
       "      <td>0.0</td>\n",
       "      <td>0.909619</td>\n",
       "      <td>0.869535</td>\n",
       "      <td>0.953577</td>\n",
       "    </tr>\n",
       "    <tr>\n",
       "      <th>1</th>\n",
       "      <td>1.0</td>\n",
       "      <td>0.459893</td>\n",
       "      <td>0.562092</td>\n",
       "      <td>0.389140</td>\n",
       "    </tr>\n",
       "    <tr>\n",
       "      <th>2</th>\n",
       "      <td>2.0</td>\n",
       "      <td>0.553922</td>\n",
       "      <td>0.614130</td>\n",
       "      <td>0.504464</td>\n",
       "    </tr>\n",
       "    <tr>\n",
       "      <th>3</th>\n",
       "      <td>3.0</td>\n",
       "      <td>0.615385</td>\n",
       "      <td>0.652174</td>\n",
       "      <td>0.582524</td>\n",
       "    </tr>\n",
       "    <tr>\n",
       "      <th>4</th>\n",
       "      <td>4.0</td>\n",
       "      <td>0.448276</td>\n",
       "      <td>0.426230</td>\n",
       "      <td>0.472727</td>\n",
       "    </tr>\n",
       "    <tr>\n",
       "      <th>5</th>\n",
       "      <td>5.0</td>\n",
       "      <td>0.666667</td>\n",
       "      <td>0.730769</td>\n",
       "      <td>0.612903</td>\n",
       "    </tr>\n",
       "    <tr>\n",
       "      <th>6</th>\n",
       "      <td>6.0</td>\n",
       "      <td>0.451613</td>\n",
       "      <td>0.636364</td>\n",
       "      <td>0.350000</td>\n",
       "    </tr>\n",
       "  </tbody>\n",
       "</table>\n",
       "</div>"
      ],
      "text/plain": [
       "   class        f1  precision    recall\n",
       "0    0.0  0.909619   0.869535  0.953577\n",
       "1    1.0  0.459893   0.562092  0.389140\n",
       "2    2.0  0.553922   0.614130  0.504464\n",
       "3    3.0  0.615385   0.652174  0.582524\n",
       "4    4.0  0.448276   0.426230  0.472727\n",
       "5    5.0  0.666667   0.730769  0.612903\n",
       "6    6.0  0.451613   0.636364  0.350000"
      ]
     },
     "execution_count": 38,
     "metadata": {},
     "output_type": "execute_result"
    }
   ],
   "source": [
    "labels = cv_predictionAndLabels.rdd.map(lambda lp: lp.indexed_dx).distinct().collect()\n",
    "cv_df = pd.DataFrame()\n",
    "for label in sorted(labels):\n",
    "    cv_df = cv_df.append({\"class\": label, \n",
    "               \"precision\":cv_metrics.precision(label),\n",
    "               \"recall\":cv_metrics.recall(label),\n",
    "               \"f1\":cv_metrics.fMeasure(label),\n",
    "              }, ignore_index=True)\n",
    "cv_df"
   ]
  },
  {
   "cell_type": "markdown",
   "metadata": {},
   "source": [
    "### ROC"
   ]
  },
  {
   "cell_type": "code",
   "execution_count": 40,
   "metadata": {},
   "outputs": [
    {
     "data": {
      "image/png": "[encoded data removed]",
      "text/plain": [
       "<Figure size 432x288 with 1 Axes>"
      ]
     },
     "metadata": {
      "needs_background": "light"
     },
     "output_type": "display_data"
    }
   ],
   "source": [
    "from sklearn.metrics import roc_curve, auc\n",
    "from sklearn.preprocessing import label_binarize\n",
    "import matplotlib.pyplot as plt\n",
    "\n",
    "#y_test = list(cv_predictionAndLabels.select('indexed_dx').toPandas()['indexed_dx'])\n",
    "#y_score = list(cv_predictionAndLabels.select('prediction').toPandas()['prediction'])\n",
    "#y_test = label_binarize(y_test, classes=[0, 1, 2,3,4,5,6])\n",
    "#y_score = label_binarize(y_score, classes=[0, 1, 2,3,4,5,6])\n",
    "\n",
    "\n",
    "y_test = list(preds_and_probs.select('indexed_dx').toPandas()['indexed_dx'])\n",
    "y_score = np.array(list(preds_and_probs.select('probability').toPandas()['probability']))\n",
    "y_test = label_binarize(y_test, classes=[0,1,2,3,4,5,6])\n",
    "n_classes = y_test.shape[1]\n",
    "\n",
    "# Compute ROC curve and ROC area for each class\n",
    "fpr = dict()\n",
    "tpr = dict()\n",
    "roc_auc = dict()\n",
    "for i in range(n_classes):\n",
    "    fpr[i], tpr[i], _ = roc_curve(y_test[:, i], y_score[:, i])\n",
    "    roc_auc[i] = auc(fpr[i], tpr[i])\n",
    "\n",
    "# Compute micro-average ROC curve and ROC area\n",
    "fpr[\"micro\"], tpr[\"micro\"], _ = roc_curve(y_test.ravel(), y_score.ravel())\n",
    "roc_auc[\"micro\"] = auc(fpr[\"micro\"], tpr[\"micro\"])\n",
    "\n",
    "\n",
    "# Plot ROC curve\n",
    "plt.figure()\n",
    "plt.plot(fpr[\"micro\"], tpr[\"micro\"],\n",
    "         label='micro-average ROC curve (area = {0:0.2f})'\n",
    "               ''.format(roc_auc[\"micro\"]))\n",
    "for i in range(n_classes):\n",
    "    plt.plot(fpr[i], tpr[i], label='ROC curve of class {0} (area = {1:0.2f})'\n",
    "                                   ''.format(i, roc_auc[i]))\n",
    "\n",
    "plt.plot([0, 1], [0, 1], 'k--')\n",
    "plt.xlim([0.0, 1.0])\n",
    "plt.ylim([0.0, 1.05])\n",
    "plt.xlabel('False Positive Rate')\n",
    "plt.ylabel('True Positive Rate')\n",
    "plt.title('Some extension of Receiver operating characteristic to multi-class')\n",
    "plt.legend(loc=\"lower right\")\n",
    "plt.show()"
   ]
  },
  {
   "cell_type": "code",
   "execution_count": null,
   "metadata": {},
   "outputs": [],
   "source": []
  },
  {
   "cell_type": "code",
   "execution_count": null,
   "metadata": {},
   "outputs": [],
   "source": []
  },
  {
   "cell_type": "code",
   "execution_count": null,
   "metadata": {},
   "outputs": [],
   "source": []
  },
  {
   "cell_type": "code",
   "execution_count": null,
   "metadata": {},
   "outputs": [],
   "source": []
  },
  {
   "cell_type": "code",
   "execution_count": null,
   "metadata": {},
   "outputs": [],
   "source": []
  },
  {
   "cell_type": "code",
   "execution_count": null,
   "metadata": {},
   "outputs": [],
   "source": []
  },
  {
   "cell_type": "code",
   "execution_count": null,
   "metadata": {},
   "outputs": [],
   "source": []
  },
  {
   "cell_type": "code",
   "execution_count": null,
   "metadata": {},
   "outputs": [],
   "source": []
  },
  {
   "cell_type": "code",
   "execution_count": null,
   "metadata": {},
   "outputs": [],
   "source": []
  },
  {
   "cell_type": "code",
   "execution_count": null,
   "metadata": {},
   "outputs": [],
   "source": []
  }
 ],
 "metadata": {
  "kernelspec": {
   "display_name": "DS 5110",
   "language": "python",
   "name": "ds5110"
  },
  "language_info": {
   "codemirror_mode": {
    "name": "ipython",
    "version": 3
   },
   "file_extension": ".py",
   "mimetype": "text/x-python",
   "name": "python",
   "nbconvert_exporter": "python",
   "pygments_lexer": "ipython3",
   "version": "3.7.10"
  }
 },
 "nbformat": 4,
 "nbformat_minor": 4
}
